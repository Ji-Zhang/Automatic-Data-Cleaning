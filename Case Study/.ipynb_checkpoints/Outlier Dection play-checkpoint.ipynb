{
 "cells": [
  {
   "cell_type": "markdown",
   "metadata": {},
   "source": [
    "# Oultlier Detection Play"
   ]
  },
  {
   "cell_type": "code",
   "execution_count": 1,
   "metadata": {
    "collapsed": true
   },
   "outputs": [],
   "source": [
    "import pandas as pd\n",
    "import numpy as np\n",
    "from scipy import stats\n",
    "import matplotlib.pyplot as plt\n",
    "import matplotlib.font_manager\n",
    "from sklearn.neighbors import LocalOutlierFactor\n",
    "from sklearn.ensemble import IsolationForest\n",
    "from sklearn import svm\n",
    "from sklearn.metrics import classification_report"
   ]
  },
  {
   "cell_type": "code",
   "execution_count": 12,
   "metadata": {
    "collapsed": true
   },
   "outputs": [],
   "source": [
    "def identify_outliers(df, variable=None, groupby=None, detailed=False):\n",
    "    \"\"\"\n",
    "    Indentify outliers by show box plot\n",
    "    \"\"\"\n",
    "    \n",
    "    # Draw box plot for numeric variable\n",
    "    # Outliers can be shown\n",
    "    df.boxplot(column=variable, by=groupby)\n",
    "    plt.draw()\n",
    "    \n",
    "    outliers_count = np.zeros(len(df.columns))\n",
    "    print(outliers_count)\n",
    "    df_outliers = {}\n",
    "    flag = False\n",
    "    for col in df.columns:\n",
    "        if(df[col].dtype == np.float64 or df[col].dtype == np.int64):\n",
    "            # keep only the ones that are out of +3 to -3 standard deviations in the column 'Data'.\n",
    "            df_outliers[col] = df[~(np.abs(df[col]-df[col].mean())<(3*df[col].std()))]\n",
    "            if len(df_outliers[col]) != 0:\n",
    "                flag = True\n",
    "                if detailed:                    \n",
    "                    print(\"There are {} outliers in variable {}\".format(len(df_outliers[col]), col))\n",
    "                    print(df_outliers[col])\n",
    "                    print(\"\")\n",
    "                    #print(len(df_outliers))\n",
    "            else:\n",
    "                if detailed:\n",
    "                    print(\"No outliers are detected in variable {}\".format(col))\n",
    "                    print(\"\")\n",
    "    \n",
    "    if flag:\n",
    "        print(\"Outliers detected\")\n",
    "        print(\"\")\n",
    "    else:\n",
    "        print(\"No outliers detected\")\n",
    "        print(\"\")\n",
    "    plt.show()"
   ]
  },
  {
   "cell_type": "code",
   "execution_count": 23,
   "metadata": {},
   "outputs": [
    {
     "name": "stdout",
     "output_type": "stream",
     "text": [
      "(5100, 36)\n",
      "(5100,)\n",
      "(75, 36)\n",
      "(5025, 36)\n"
     ]
    }
   ],
   "source": [
    "# read csv file\n",
    "df = pd.read_csv('satellite.csv')\n",
    "\n",
    "# seperate data and label\n",
    "df['Target'] = df['Target'].map({\"'Anomaly'\": -1, \"'Normal'\": 1}) # map normal to 1 and anomaly to -1 \n",
    "y = np.asarray(df['Target'])\n",
    "df2 = df[df.columns.difference(['Target'])] # exclude target from data \n",
    "X = np.asarray(df2)\n",
    "print(X.shape)\n",
    "print(y.shape)\n",
    "print(X[:][y==-1].shape)\n",
    "print(X[:][y==1].shape)"
   ]
  },
  {
   "cell_type": "code",
   "execution_count": 24,
   "metadata": {},
   "outputs": [
    {
     "name": "stdout",
     "output_type": "stream",
     "text": [
      "[0. 0. 0. 0. 0. 0. 0. 0. 0. 0. 0. 0. 0. 0. 0. 0. 0. 0. 0. 0. 0. 0. 0. 0.\n",
      " 0. 0. 0. 0. 0. 0. 0. 0. 0. 0. 0. 0.]\n",
      "Outliers detected\n",
      "\n"
     ]
    },
    {
     "data": {
      "image/png": "[encoded data removed]",
      "text/plain": [
       "<matplotlib.figure.Figure at 0x91b40f8da0>"
      ]
     },
     "metadata": {},
     "output_type": "display_data"
    }
   ],
   "source": [
    "identify_outliers(df2)"
   ]
  },
  {
   "cell_type": "code",
   "execution_count": 38,
   "metadata": {},
   "outputs": [
    {
     "name": "stdout",
     "output_type": "stream",
     "text": [
      "[-1 -1 -1 ...  1  1  1]\n",
      "[-1 -1  1 ...  1  1  1]\n",
      "             precision    recall  f1-score   support\n",
      "\n",
      "         -1       0.73      0.49      0.59        75\n",
      "          1       0.99      1.00      0.99      5025\n",
      "\n",
      "avg / total       0.99      0.99      0.99      5100\n",
      "\n"
     ]
    }
   ],
   "source": [
    "# create classifier\n",
    "clf = IsolationForest(contamination=0.01)\n",
    "# clf = LocalOutlierFactor(n_neighbors=20, contamination = 0.1)\n",
    "# clf = svm.OneClassSVM(nu=0.1, kernel=\"rbf\", gamma=0.1)\n",
    "\n",
    "# groundtruth and prediction\n",
    "ground_truth = y\n",
    "print(ground_truth)\n",
    "clf.fit(X)\n",
    "y_pred = clf.predict(X)\n",
    "print(y_pred)\n",
    "\n",
    "# report\n",
    "print(classification_report(ground_truth, y_pred))"
   ]
  },
  {
   "cell_type": "code",
   "execution_count": 116,
   "metadata": {
    "collapsed": true
   },
   "outputs": [],
   "source": [
    "df = pd.read_csv('satellite.csv')\n",
    "# data = oml.datasets.get_dataset(task2.dataset_id)\n",
    "# X, y = data2.get_data(target=data2.default_target_attribute)"
   ]
  },
  {
   "cell_type": "code",
   "execution_count": 117,
   "metadata": {},
   "outputs": [
    {
     "data": {
      "text/plain": [
       "\"'Anomaly'\""
      ]
     },
     "execution_count": 117,
     "metadata": {},
     "output_type": "execute_result"
    }
   ],
   "source": [
    "df['Target'][0]"
   ]
  },
  {
   "cell_type": "code",
   "execution_count": 118,
   "metadata": {
    "collapsed": true
   },
   "outputs": [],
   "source": [
    "df['Target'] = df['Target'].map({\"'Anomaly'\": -1, \"'Normal'\": 1})"
   ]
  },
  {
   "cell_type": "code",
   "execution_count": 119,
   "metadata": {},
   "outputs": [
    {
     "data": {
      "text/plain": [
       "0   -1\n",
       "1   -1\n",
       "2   -1\n",
       "3   -1\n",
       "4   -1\n",
       "Name: Target, dtype: int64"
      ]
     },
     "execution_count": 119,
     "metadata": {},
     "output_type": "execute_result"
    }
   ],
   "source": [
    "df['Target'].head()"
   ]
  },
  {
   "cell_type": "code",
   "execution_count": 120,
   "metadata": {
    "collapsed": true
   },
   "outputs": [],
   "source": [
    "y = np.asarray(df['Target'])\n",
    "df2 = df[df.columns.difference(['Target'])]\n",
    "X = np.asarray(df2)"
   ]
  },
  {
   "cell_type": "code",
   "execution_count": 121,
   "metadata": {},
   "outputs": [
    {
     "name": "stdout",
     "output_type": "stream",
     "text": [
      "(5100,)\n",
      "(5100, 36)\n",
      "[[ 46  30 140 ... 135 157  42]\n",
      " [ 47  34 129 ... 124 143  44]\n",
      " [ 80  36 122 ... 104  96  46]\n",
      " ...\n",
      " [ 84  98 111 ... 111  87  84]\n",
      " [ 84 102 111 ... 106  91  84]\n",
      " [ 88  98 106 ... 111  83  88]]\n",
      "[-1 -1 -1 -1 -1 -1 -1 -1 -1 -1 -1 -1 -1 -1 -1 -1 -1 -1 -1 -1 -1 -1 -1 -1\n",
      " -1 -1 -1 -1 -1 -1 -1 -1 -1 -1 -1 -1 -1 -1 -1 -1 -1 -1 -1 -1 -1 -1 -1 -1\n",
      " -1 -1 -1 -1 -1 -1 -1 -1 -1 -1 -1 -1 -1 -1 -1 -1 -1 -1 -1 -1 -1 -1 -1 -1\n",
      " -1 -1 -1  1  1  1  1  1  1  1  1  1  1  1  1  1  1  1  1  1  1  1  1  1\n",
      "  1  1  1  1]\n"
     ]
    }
   ],
   "source": [
    "print(y.shape)\n",
    "print(X.shape)\n",
    "print(X[:100])\n",
    "print(y[:100])"
   ]
  },
  {
   "cell_type": "code",
   "execution_count": 122,
   "metadata": {},
   "outputs": [
    {
     "name": "stdout",
     "output_type": "stream",
     "text": [
      "(75, 36)\n",
      "(5025, 36)\n"
     ]
    }
   ],
   "source": [
    "print(X[:][y==-1].shape)\n",
    "print(X[:][y==1].shape)"
   ]
  },
  {
   "cell_type": "code",
   "execution_count": 123,
   "metadata": {},
   "outputs": [
    {
     "name": "stdout",
     "output_type": "stream",
     "text": [
      "(50, 36)\n"
     ]
    },
    {
     "data": {
      "text/plain": [
       "array([[ 46,  30, 140, ..., 135, 157,  42],\n",
       "       [ 47,  34, 129, ..., 124, 143,  44],\n",
       "       [ 80,  36, 122, ..., 104,  96,  46],\n",
       "       ...,\n",
       "       [ 56,  56,  73, ...,  73,  63,  52],\n",
       "       [ 48,  95, 100, ..., 109,  96,  79],\n",
       "       [ 71,  54,  75, ...,  75,  52,  60]], dtype=int64)"
      ]
     },
     "execution_count": 123,
     "metadata": {},
     "output_type": "execute_result"
    }
   ],
   "source": [
    "print(X[:][y==-1][:50].shape)\n",
    "X[:][y==-1]"
   ]
  },
  {
   "cell_type": "code",
   "execution_count": 124,
   "metadata": {
    "collapsed": true
   },
   "outputs": [],
   "source": [
    "X_train = X[:][y==1][:3000]\n",
    "# Generate some regular novel observations\n",
    "X_regular = X[:][y==1][3000:]\n",
    "X_outliers = X[:][y==-1]"
   ]
  },
  {
   "cell_type": "code",
   "execution_count": 125,
   "metadata": {
    "collapsed": true
   },
   "outputs": [],
   "source": [
    "# clf = IsolationForest(max_samples=100*2)\n",
    "clf = LocalOutlierFactor(n_neighbors=20)\n",
    "# clf = svm.OneClassSVM(nu=0.1, kernel=\"rbf\", gamma=0.1)"
   ]
  },
  {
   "cell_type": "code",
   "execution_count": 126,
   "metadata": {},
   "outputs": [
    {
     "name": "stdout",
     "output_type": "stream",
     "text": [
      "[-1 -1 -1 ...  1  1  1]\n"
     ]
    }
   ],
   "source": [
    "ground_truth = y\n",
    "print(ground_truth)"
   ]
  },
  {
   "cell_type": "code",
   "execution_count": 127,
   "metadata": {},
   "outputs": [
    {
     "name": "stdout",
     "output_type": "stream",
     "text": [
      "[ 1  1 -1 ...  1  1  1]\n"
     ]
    }
   ],
   "source": [
    "y_pred = clf.fit_predict(X)\n",
    "print(y_pred)"
   ]
  },
  {
   "cell_type": "code",
   "execution_count": 128,
   "metadata": {},
   "outputs": [
    {
     "data": {
      "text/plain": [
       "array([-1, -1, -1, -1, -1, -1, -1, -1, -1, -1, -1, -1, -1, -1, -1, -1, -1,\n",
       "       -1, -1, -1, -1, -1, -1, -1, -1, -1, -1, -1, -1, -1, -1, -1, -1, -1,\n",
       "       -1, -1, -1, -1, -1, -1, -1, -1, -1, -1, -1, -1, -1, -1, -1, -1, -1,\n",
       "       -1, -1, -1, -1, -1, -1, -1, -1, -1, -1, -1, -1, -1, -1, -1, -1, -1,\n",
       "       -1, -1, -1, -1, -1, -1, -1], dtype=int64)"
      ]
     },
     "execution_count": 128,
     "metadata": {},
     "output_type": "execute_result"
    }
   ],
   "source": [
    "ground_truth[ground_truth == -1]"
   ]
  },
  {
   "cell_type": "code",
   "execution_count": 129,
   "metadata": {},
   "outputs": [
    {
     "name": "stdout",
     "output_type": "stream",
     "text": [
      "0.9017647058823529\n"
     ]
    }
   ],
   "source": [
    "accuracy = np.mean( y_pred == ground_truth )\n",
    "print(accuracy)"
   ]
  },
  {
   "cell_type": "code",
   "execution_count": 130,
   "metadata": {},
   "outputs": [
    {
     "name": "stdout",
     "output_type": "stream",
     "text": [
      "0.56\n"
     ]
    }
   ],
   "source": [
    "precision = np.mean( y_pred[ground_truth == -1] == ground_truth[ground_truth == -1] )\n",
    "print(precision)"
   ]
  },
  {
   "cell_type": "code",
   "execution_count": 131,
   "metadata": {},
   "outputs": [
    {
     "name": "stderr",
     "output_type": "stream",
     "text": [
      "D:\\Programfiles\\Anaconda3\\lib\\site-packages\\sklearn\\utils\\validation.py:475: DataConversionWarning: Data with input dtype int64 was converted to float64 by StandardScaler.\n",
      "  warnings.warn(msg, DataConversionWarning)\n"
     ]
    },
    {
     "ename": "AttributeError",
     "evalue": "'LocalOutlierFactor' object has no attribute 'predict'",
     "output_type": "error",
     "traceback": [
      "\u001b[1;31m---------------------------------------------------------------------------\u001b[0m",
      "\u001b[1;31mAttributeError\u001b[0m                            Traceback (most recent call last)",
      "\u001b[1;32m<ipython-input-131-53743fa85cf1>\u001b[0m in \u001b[0;36m<module>\u001b[1;34m()\u001b[0m\n\u001b[0;32m      3\u001b[0m \u001b[0mX_scaled\u001b[0m \u001b[1;33m=\u001b[0m \u001b[0mscaler\u001b[0m\u001b[1;33m.\u001b[0m\u001b[0mtransform\u001b[0m\u001b[1;33m(\u001b[0m\u001b[0mX\u001b[0m\u001b[1;33m)\u001b[0m\u001b[1;33m\u001b[0m\u001b[0m\n\u001b[0;32m      4\u001b[0m \u001b[0mclf\u001b[0m\u001b[1;33m.\u001b[0m\u001b[0mfit\u001b[0m\u001b[1;33m(\u001b[0m\u001b[0mX_scaled\u001b[0m\u001b[1;33m)\u001b[0m\u001b[1;33m\u001b[0m\u001b[0m\n\u001b[1;32m----> 5\u001b[1;33m \u001b[0my_pred_scaled\u001b[0m \u001b[1;33m=\u001b[0m \u001b[0mclf\u001b[0m\u001b[1;33m.\u001b[0m\u001b[0mpredict\u001b[0m\u001b[1;33m(\u001b[0m\u001b[0mX_scaled\u001b[0m\u001b[1;33m)\u001b[0m\u001b[1;33m\u001b[0m\u001b[0m\n\u001b[0m\u001b[0;32m      6\u001b[0m \u001b[0mprint\u001b[0m\u001b[1;33m(\u001b[0m\u001b[0my_pred_scaled\u001b[0m\u001b[1;33m)\u001b[0m\u001b[1;33m\u001b[0m\u001b[0m\n",
      "\u001b[1;31mAttributeError\u001b[0m: 'LocalOutlierFactor' object has no attribute 'predict'"
     ]
    }
   ],
   "source": [
    "from sklearn import preprocessing\n",
    "scaler = preprocessing.StandardScaler().fit(X)\n",
    "X_scaled = scaler.transform(X)\n",
    "clf.fit(X_scaled)\n",
    "y_pred_scaled = clf.predict(X_scaled)\n",
    "print(y_pred_scaled)"
   ]
  },
  {
   "cell_type": "code",
   "execution_count": 132,
   "metadata": {},
   "outputs": [
    {
     "name": "stdout",
     "output_type": "stream",
     "text": [
      "0.909607843137255\n"
     ]
    }
   ],
   "source": [
    "accuracy = np.mean( y_pred_scaled == ground_truth )\n",
    "print(accuracy)"
   ]
  },
  {
   "cell_type": "code",
   "execution_count": 133,
   "metadata": {},
   "outputs": [
    {
     "name": "stdout",
     "output_type": "stream",
     "text": [
      "0.8266666666666667\n"
     ]
    }
   ],
   "source": [
    "recall = np.mean( y_pred_scaled[ground_truth == -1] == ground_truth[ground_truth == -1] )\n",
    "print(recall)"
   ]
  },
  {
   "cell_type": "code",
   "execution_count": 135,
   "metadata": {},
   "outputs": [
    {
     "name": "stdout",
     "output_type": "stream",
     "text": [
      "             precision    recall  f1-score   support\n",
      "\n",
      "         -1       0.08      0.56      0.14        75\n",
      "          1       0.99      0.91      0.95      5025\n",
      "\n",
      "avg / total       0.98      0.90      0.94      5100\n",
      "\n"
     ]
    }
   ],
   "source": [
    "from sklearn.metrics import classification_report\n",
    "print(classification_report(ground_truth, y_pred))"
   ]
  },
  {
   "cell_type": "code",
   "execution_count": 30,
   "metadata": {
    "collapsed": true
   },
   "outputs": [],
   "source": [
    "clf.fit(X_train)\n",
    "y_pred_train = clf.predict(X_train)\n",
    "y_pred_regular = clf.predict(X_regular)\n",
    "y_pred_outliers = clf.predict(X_outliers)\n",
    "n_error_train = y_pred_train[y_pred_train == -1].size\n",
    "n_error_regular = y_pred_regular[y_pred_regular == -1].size\n",
    "n_error_outliers = y_pred_outliers[y_pred_outliers == 1].size"
   ]
  },
  {
   "cell_type": "code",
   "execution_count": 31,
   "metadata": {},
   "outputs": [
    {
     "name": "stdout",
     "output_type": "stream",
     "text": [
      "300\n",
      "405\n",
      "11\n"
     ]
    }
   ],
   "source": [
    "print(n_error_train)\n",
    "print(n_error_regular)\n",
    "print(n_error_outliers)"
   ]
  },
  {
   "cell_type": "code",
   "execution_count": 32,
   "metadata": {},
   "outputs": [
    {
     "name": "stdout",
     "output_type": "stream",
     "text": [
      "Accuracy of train data is : 0.9 \n",
      "Accuracy of novel regular data is : 0.8 \n",
      "Accuracy of outliers data is : 0.8533333333333334 \n"
     ]
    }
   ],
   "source": [
    "accuracy_train = (y_pred_train.size - n_error_train) / y_pred_train.size\n",
    "accuracy_regular = (y_pred_regular.size - n_error_regular) / y_pred_regular.size\n",
    "accuracy_outliers = (y_pred_outliers.size - n_error_outliers) / y_pred_outliers.size\n",
    "print(\"Accuracy of train data is : {} \".format(accuracy_train))\n",
    "print(\"Accuracy of novel regular data is : {} \".format(accuracy_regular))\n",
    "print(\"Accuracy of outliers data is : {} \".format(accuracy_outliers))"
   ]
  },
  {
   "cell_type": "code",
   "execution_count": 33,
   "metadata": {},
   "outputs": [
    {
     "name": "stdout",
     "output_type": "stream",
     "text": [
      "64\n",
      "405\n",
      "0.13646055437100213\n"
     ]
    }
   ],
   "source": [
    "TP = y_pred_outliers[y_pred_outliers == -1].size\n",
    "print(TP)\n",
    "FP = y_pred_regular[y_pred_regular == -1].size\n",
    "print(FP)\n",
    "\n",
    "precision = TP / (TP + FP)\n",
    "print(precision)"
   ]
  },
  {
   "cell_type": "code",
   "execution_count": 125,
   "metadata": {},
   "outputs": [
    {
     "name": "stdout",
     "output_type": "stream",
     "text": [
      "6061\n",
      "61\n"
     ]
    }
   ],
   "source": [
    "X_test = np.r_[X_train + 2, X_train - 2, X_outliers]\n",
    "clf = LocalOutlierFactor(n_neighbors=20)\n",
    "y_pred = clf.fit_predict(X_test)\n",
    "y_pred_outliers = y_pred[6000:]\n",
    "print(y_pred.size)\n",
    "print(y_pred_outliers.size)"
   ]
  },
  {
   "cell_type": "code",
   "execution_count": 126,
   "metadata": {},
   "outputs": [
    {
     "name": "stdout",
     "output_type": "stream",
     "text": [
      "607\n",
      "0\n",
      "0.0\n"
     ]
    }
   ],
   "source": [
    "TPFP = y_pred[y_pred == -1].size\n",
    "print(TPFP)\n",
    "TP = y_pred_outliers[y_pred_outliers == -1].size\n",
    "print(TP)\n",
    "precision = TP / TPFP\n",
    "print(precision)"
   ]
  },
  {
   "cell_type": "code",
   "execution_count": 111,
   "metadata": {},
   "outputs": [
    {
     "data": {
      "image/png": "[encoded data removed]",
      "text/plain": [
       "<matplotlib.figure.Figure at 0xb6744905f8>"
      ]
     },
     "metadata": {},
     "output_type": "display_data"
    }
   ],
   "source": [
    "from sklearn.decomposition import PCA\n",
    "estimator = PCA(n_components=2)\n",
    "X_pca = estimator.fit_transform(X)\n",
    "\n",
    "# make scatter plots \n",
    "_=plt.figure(figsize = (10,6))\n",
    "for color, c in zip(['blue', 'red'], [0, 1]):\n",
    "    _=plt.scatter(X_pca[:, 0][y==c], X_pca[:, 1][y==c], color=color,s=3)\n",
    "_=plt.xlabel('First Principle Component')\n",
    "_=plt.ylabel('Second Principle Component')\n",
    "plt.show()"
   ]
  },
  {
   "cell_type": "code",
   "execution_count": 97,
   "metadata": {},
   "outputs": [
    {
     "name": "stdout",
     "output_type": "stream",
     "text": [
      "40\n",
      "16\n",
      "0\n",
      "Accuracy of train data is : 0.9 \n",
      "Accuracy of novel regular data is : 0.8 \n",
      "Accuracy of outliers data is : 1.0 \n"
     ]
    },
    {
     "data": {
      "image/png": "[encoded data removed]",
      "text/plain": [
       "<matplotlib.figure.Figure at 0xb6023367b8>"
      ]
     },
     "metadata": {},
     "output_type": "display_data"
    }
   ],
   "source": [
    "import numpy as np\n",
    "import matplotlib.pyplot as plt\n",
    "from sklearn.ensemble import IsolationForest\n",
    "\n",
    "rng = np.random.RandomState(42)\n",
    "\n",
    "# Generate train data\n",
    "X = 0.3 * rng.randn(100, 2)\n",
    "X_train = np.r_[X + 1, X - 3, X - 5, X + 6]\n",
    "# Generate some regular novel observations\n",
    "X = 0.3 * rng.randn(20, 2)\n",
    "X_regular = np.r_[X + 1, X - 3, X - 5, X + 6]\n",
    "# Generate some abnormal novel observations\n",
    "X_outliers = rng.uniform(low=-8, high=8, size=(20, 2))\n",
    "\n",
    "# fit the model\n",
    "clf = IsolationForest(max_samples=100*2, random_state=rng)\n",
    "clf.fit(X_train)\n",
    "y_pred_train = clf.predict(X_train)\n",
    "y_pred_regular = clf.predict(X_regular)\n",
    "y_pred_outliers = clf.predict(X_outliers)\n",
    "# print(y_pred_train.size)\n",
    "# print(y_pred_regular.size)\n",
    "# print(y_pred_outliers.size)\n",
    "n_error_train = y_pred_train[y_pred_train == -1].size\n",
    "n_error_regular = y_pred_regular[y_pred_regular == -1].size\n",
    "n_error_outliers = y_pred_outliers[y_pred_outliers == 1].size\n",
    "print(n_error_train)\n",
    "print(n_error_regular)\n",
    "print(n_error_outliers)\n",
    "accuracy_train = (y_pred_train.size - n_error_train) / y_pred_train.size\n",
    "accuracy_regular = (y_pred_regular.size - n_error_regular) / y_pred_regular.size\n",
    "accuracy_outliers = (y_pred_outliers.size - n_error_outliers) / y_pred_outliers.size\n",
    "print(\"Accuracy of train data is : {} \".format(accuracy_train))\n",
    "print(\"Accuracy of novel regular data is : {} \".format(accuracy_regular))\n",
    "print(\"Accuracy of outliers data is : {} \".format(accuracy_outliers))\n",
    "\n",
    "\n",
    "# plot the line, the samples, and the nearest vectors to the plane\n",
    "xx, yy = np.meshgrid(np.linspace(-8, 8, 50), np.linspace(-8, 8, 50))\n",
    "Z = clf.decision_function(np.c_[xx.ravel(), yy.ravel()])\n",
    "Z = Z.reshape(xx.shape)\n",
    "\n",
    "plt.title(\"IsolationForest\")\n",
    "plt.contourf(xx, yy, Z, cmap=plt.cm.Blues_r)\n",
    "\n",
    "b1 = plt.scatter(X_train[:, 0], X_train[:, 1], c='white')\n",
    "b2 = plt.scatter(X_regular[:, 0], X_regular[:, 1], c='green')\n",
    "c = plt.scatter(X_outliers[:, 0], X_outliers[:, 1], c='red')\n",
    "plt.axis('tight')\n",
    "plt.xlim((-8, 8))\n",
    "plt.ylim((-8, 8))\n",
    "plt.legend([b1, b2, c],\n",
    "           [\"training observations\",\n",
    "            \"new regular observations\", \"new abnormal observations\"],\n",
    "           loc=\"upper left\")\n",
    "plt.show()"
   ]
  },
  {
   "cell_type": "code",
   "execution_count": 137,
   "metadata": {},
   "outputs": [
    {
     "name": "stdout",
     "output_type": "stream",
     "text": [
      "[-1  1 -1  1 -1 -1 -1  1 -1 -1 -1 -1 -1 -1 -1 -1 -1 -1 -1 -1]\n"
     ]
    }
   ],
   "source": [
    "import numpy as np\n",
    "import matplotlib.pyplot as plt\n",
    "from sklearn.neighbors import LocalOutlierFactor\n",
    "\n",
    "np.random.seed(42)\n",
    "\n",
    "# Generate train data\n",
    "X = 0.3 * np.random.randn(100, 2)\n",
    "# Generate some abnormal novel observations\n",
    "X_outliers = np.random.uniform(low=-4, high=4, size=(20, 2))\n",
    "X = np.r_[X + 2, X - 2, X_outliers]\n",
    "\n",
    "# fit the model\n",
    "clf = LocalOutlierFactor(n_neighbors=20)\n",
    "y_pred = clf.fit_predict(X)\n",
    "y_pred_outliers = y_pred[200:]\n",
    "print(y_pred_outliers)\n",
    "# # plot the level sets of the decision function\n",
    "# xx, yy = np.meshgrid(np.linspace(-5, 5, 50), np.linspace(-5, 5, 50))\n",
    "# Z = clf._decision_function(np.c_[xx.ravel(), yy.ravel()])\n",
    "# Z = Z.reshape(xx.shape)\n",
    "\n",
    "# plt.title(\"Local Outlier Factor (LOF)\")\n",
    "# plt.contourf(xx, yy, Z, cmap=plt.cm.Blues_r)\n",
    "\n",
    "# a = plt.scatter(X[:200, 0], X[:200, 1], c='white',\n",
    "#                 edgecolor='k', s=20)\n",
    "# b = plt.scatter(X[200:, 0], X[200:, 1], c='red',\n",
    "#                 edgecolor='k', s=20)\n",
    "# plt.axis('tight')\n",
    "# plt.xlim((-5, 5))\n",
    "# plt.ylim((-5, 5))\n",
    "# plt.legend([a, b],\n",
    "#            [\"normal observations\",\n",
    "#             \"abnormal observations\"],\n",
    "#            loc=\"upper left\")\n",
    "# plt.show()"
   ]
  },
  {
   "cell_type": "code",
   "execution_count": 143,
   "metadata": {},
   "outputs": [
    {
     "name": "stdout",
     "output_type": "stream",
     "text": [
      "[ 1.  1.  1.  1.  1.  1.  1.  1.  1.  1.  1.  1.  1.  1.  1.  1.  1.  1.\n",
      "  1.  1.  1.  1.  1.  1.  1.  1.  1.  1.  1.  1.  1.  1.  1.  1.  1.  1.\n",
      "  1.  1.  1.  1.  1.  1.  1.  1.  1.  1.  1.  1.  1.  1.  1.  1.  1.  1.\n",
      "  1.  1.  1.  1.  1.  1.  1.  1.  1.  1.  1.  1.  1.  1.  1.  1.  1.  1.\n",
      "  1.  1.  1.  1.  1.  1.  1.  1.  1.  1.  1.  1.  1.  1.  1.  1.  1.  1.\n",
      "  1.  1.  1.  1.  1.  1.  1.  1.  1.  1.  1.  1.  1.  1.  1.  1.  1.  1.\n",
      "  1.  1.  1.  1.  1.  1.  1.  1.  1.  1.  1.  1.  1.  1.  1.  1.  1.  1.\n",
      "  1.  1.  1.  1.  1.  1.  1.  1.  1.  1.  1.  1.  1.  1.  1.  1.  1.  1.\n",
      "  1.  1.  1.  1.  1.  1.  1.  1.  1.  1.  1.  1.  1.  1.  1.  1.  1.  1.\n",
      "  1.  1.  1.  1.  1.  1.  1.  1.  1.  1.  1.  1.  1.  1.  1.  1.  1.  1.\n",
      "  1.  1.  1.  1.  1.  1.  1.  1.  1.  1.  1.  1.  1.  1.  1.  1.  1.  1.\n",
      "  1.  1. -1. -1. -1. -1. -1. -1. -1. -1. -1. -1. -1. -1. -1. -1. -1. -1.\n",
      " -1. -1. -1. -1.]\n"
     ]
    }
   ],
   "source": [
    "ground_truth = np.ones(220)\n",
    "for i in range(200, 220):\n",
    "    ground_truth[i]=-1\n",
    "print(ground_truth)"
   ]
  },
  {
   "cell_type": "code",
   "execution_count": 144,
   "metadata": {},
   "outputs": [
    {
     "name": "stdout",
     "output_type": "stream",
     "text": [
      "             precision    recall  f1-score   support\n",
      "\n",
      "       -1.0       0.77      0.85      0.81        20\n",
      "        1.0       0.98      0.97      0.98       200\n",
      "\n",
      "avg / total       0.97      0.96      0.96       220\n",
      "\n"
     ]
    }
   ],
   "source": [
    "from sklearn.metrics import classification_report\n",
    "print(classification_report(ground_truth, y_pred))"
   ]
  },
  {
   "cell_type": "code",
   "execution_count": null,
   "metadata": {
    "collapsed": true
   },
   "outputs": [],
   "source": []
  }
 ],
 "metadata": {
  "kernelspec": {
   "display_name": "Python 3",
   "language": "python",
   "name": "python3"
  },
  "language_info": {
   "codemirror_mode": {
    "name": "ipython",
    "version": 3
   },
   "file_extension": ".py",
   "mimetype": "text/x-python",
   "name": "python",
   "nbconvert_exporter": "python",
   "pygments_lexer": "ipython3",
   "version": "3.6.3"
  }
 },
 "nbformat": 4,
 "nbformat_minor": 2
}
