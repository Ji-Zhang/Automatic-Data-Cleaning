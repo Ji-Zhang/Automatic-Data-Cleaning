{
 "cells": [
  {
   "cell_type": "markdown",
   "metadata": {},
   "source": [
    "# Automatic Data Preprocessing"
   ]
  },
  {
   "cell_type": "markdown",
   "metadata": {},
   "source": [
    "This is a simple case study of automatic data cleaning. Only simple heuristic approaches are used here."
   ]
  },
  {
   "cell_type": "code",
   "execution_count": 2,
   "metadata": {
    "collapsed": true
   },
   "outputs": [],
   "source": [
    "\"\"\"\n",
    "Automatic data cleaning\n",
    "\"\"\"\n",
    "\n",
    "# Import packages\n",
    "import pandas as pd\n",
    "import numpy as np\n",
    "import matplotlib.pyplot as plt\n",
    "import collections"
   ]
  },
  {
   "cell_type": "markdown",
   "metadata": {},
   "source": [
    "## Get data\n",
    "Get data from the csv file and show data to have a general idea of how the dataset looks like."
   ]
  },
  {
   "cell_type": "code",
   "execution_count": 3,
   "metadata": {
    "collapsed": true
   },
   "outputs": [],
   "source": [
    "def get_data(file):\n",
    "    \"\"\"\n",
    "    load dataset into a DataFrame\n",
    "    \"\"\"\n",
    "    \n",
    "    # Read the file into a DataFrame: df\n",
    "    dataframe = pd.read_csv(file)\n",
    "    return dataframe\n",
    "\n",
    "def show_data(dataframe, complete=False):\n",
    "    \"\"\"\n",
    "    Print the data frame\n",
    "    \"\"\"\n",
    "    if complete:\n",
    "        # Print complete df\n",
    "        with pd.option_context('display.max_rows', None, 'display.max_columns', None):\n",
    "            print(dataframe)\n",
    "    else:\n",
    "        # Print part of df\n",
    "        print(dataframe.head())    "
   ]
  },
  {
   "cell_type": "code",
   "execution_count": 4,
   "metadata": {},
   "outputs": [
    {
     "name": "stdout",
     "output_type": "stream",
     "text": [
      "   total_bill   tip     sex smoker  day    time  size\n",
      "0       16.99  1.01  Female     No  Sun  Dinner     2\n",
      "1       10.34  1.66    Male     No  Sun  Dinner     3\n",
      "2       21.01  3.50    Male     No  Sun  Dinner     3\n",
      "3       23.68  3.31    Male     No  Sun  Dinner     2\n",
      "4       24.59  3.61  Female     No  Sun  Dinner     4\n"
     ]
    }
   ],
   "source": [
    "df = get_data('tips.csv')\n",
    "show_data(df, complete = False)"
   ]
  },
  {
   "cell_type": "markdown",
   "metadata": {},
   "source": [
    "## Reoprt data\n",
    "Generate a general report, more details can be obtained by setting the parammeter \"detailed\" to \"True\""
   ]
  },
  {
   "cell_type": "code",
   "execution_count": 5,
   "metadata": {
    "collapsed": true
   },
   "outputs": [],
   "source": [
    "def report_data(dataframe, detailed=False):\n",
    "    \"\"\"\n",
    "    Show a concise summary\n",
    "    \"\"\"\n",
    "    variable_type = {}\n",
    "    unique_count = {}\n",
    "    missing_observation = {}\n",
    "    for col in dataframe.columns:\n",
    "        # Type of each variable\n",
    "        variable_type[col] = dataframe[col].dtypes\n",
    "        # Unique count of each variable\n",
    "        unique_count[col] = dataframe[col].nunique()\n",
    "        # Missing pecentage\n",
    "        missing_observation[col] = (len(dataframe.index)-dataframe[col].count()) / len(dataframe.index)\n",
    "        #print(\"# uniques values of {:<10} is {:>4}\".format(col, data[col].nunique()))\n",
    "        #print(dataframe[col].value_counts(dropna=False).head())   \n",
    "    #print(variable_type)  \n",
    "    #print(unique_count)\n",
    "    #print(missing_observation)\n",
    "    \n",
    "    # Merge multiple dictionaries with the same key\n",
    "    # A general solution that will handle an arbitrary amount of dictionaries,\n",
    "    # with cases when keys are in only some of the dictionaries\n",
    "    dict_summary = collections.defaultdict(list)\n",
    "    for dict in (unique_count, variable_type, missing_observation):\n",
    "        for key, value in dict.items():\n",
    "            dict_summary[key].append(value)\n",
    "    #print(dict_summary)\n",
    "    \n",
    "    # dictionary to tabular data structure\n",
    "    df = pd.DataFrame(dict_summary,\n",
    "                      index=[\"# unique values\", \"Variable type\", \"Missing_observation\"],\n",
    "                      columns = dataframe.columns)\n",
    "    # print summary table\n",
    "    print(\"*************\")\n",
    "    print(\"Summary Table\")\n",
    "    print(\"*************\")\n",
    "    # tranpose table\n",
    "    print(df.T)\n",
    "    print(\"\")\n",
    "    \n",
    "    \n",
    "    # if boolean tailed = true, show more details\n",
    "    if detailed:\n",
    "        print(\"Data Describing\")\n",
    "        print(\"====================\")\n",
    "        print(dataframe.describe())\n",
    "        print(\"\")\n",
    "        print(\"Additional Information\")\n",
    "        print(\"================\")\n",
    "        dataframe.info()\n",
    "        print(\"\")\n",
    "        print(\"Unique values for each variable\")\n",
    "        print(\"===============================\")\n",
    "        for col in dataframe.columns:\n",
    "            print(\"# uniques values of {:<10} is {:>4}\".format(col, dataframe[col].nunique()))\n",
    "            print(dataframe[col].value_counts(dropna=False))\n",
    "            print(\"\")"
   ]
  },
  {
   "cell_type": "code",
   "execution_count": 6,
   "metadata": {},
   "outputs": [
    {
     "name": "stdout",
     "output_type": "stream",
     "text": [
      "*************\n",
      "Summary Table\n",
      "*************\n",
      "           # unique values Variable type Missing_observation\n",
      "total_bill             229       float64                   0\n",
      "tip                    123       float64                   0\n",
      "sex                      2        object                   0\n",
      "smoker                   2        object                   0\n",
      "day                      4        object                   0\n",
      "time                     2        object                   0\n",
      "size                     6         int64                   0\n",
      "\n"
     ]
    }
   ],
   "source": [
    "report_data(df, detailed = False)"
   ]
  },
  {
   "cell_type": "markdown",
   "metadata": {},
   "source": [
    "## Visualize data\n",
    "Visualize the distribution of each variable.Histograms for numeric data and bar charts for categorical data."
   ]
  },
  {
   "cell_type": "code",
   "execution_count": 7,
   "metadata": {
    "collapsed": true
   },
   "outputs": [],
   "source": [
    "def visualize_data(df):\n",
    "    \"\"\"\n",
    "    Visualize the distribution of each variable\n",
    "    Histograms for numeric data\n",
    "    Bar charts for categorical data\n",
    "    \"\"\"\n",
    "    # Show distribution by histograms and bar charts\n",
    "    for col in df.columns:\n",
    "        # plot histograms for numeric data\n",
    "        if(df[col].dtype == np.float64 or df[col].dtype == np.int64):\n",
    "            plt.figure()\n",
    "            plt.title(\"{}\".format(col))\n",
    "            df[col].plot(kind='hist')\n",
    "            #plt.hist(df[col].dropna())\n",
    "        # plot bar charts for categorical data\n",
    "        else:\n",
    "            #df[col].plot('hist')\n",
    "            #plt.show()\n",
    "            #print(df[col].value_counts(dropna=False))\n",
    "            plt.figure()\n",
    "            plt.title(\"{}\".format(col))\n",
    "            plt.ylabel(\"Count\")\n",
    "            df[col].value_counts(dropna=False).plot(kind='bar')\n",
    "    plt.show()"
   ]
  },
  {
   "cell_type": "code",
   "execution_count": 8,
   "metadata": {},
   "outputs": [
    {
     "data": {
      "image/png": "[encoded data removed]",
      "text/plain": [
       "<matplotlib.figure.Figure at 0xa5de72a4a8>"
      ]
     },
     "metadata": {},
     "output_type": "display_data"
    },
    {
     "data": {
      "image/png": "[encoded data removed]",
      "text/plain": [
       "<matplotlib.figure.Figure at 0xa5de8f1080>"
      ]
     },
     "metadata": {},
     "output_type": "display_data"
    },
    {
     "data": {
      "image/png": "[encoded data removed]",
      "text/plain": [
       "<matplotlib.figure.Figure at 0xa5de9ce4e0>"
      ]
     },
     "metadata": {},
     "output_type": "display_data"
    },
    {
     "data": {
      "image/png": "[encoded data removed]",
      "text/plain": [
       "<matplotlib.figure.Figure at 0xa5ded487f0>"
      ]
     },
     "metadata": {},
     "output_type": "display_data"
    },
    {
     "data": {
      "image/png": "[encoded data removed]",
      "text/plain": [
       "<matplotlib.figure.Figure at 0xa5dedb09e8>"
      ]
     },
     "metadata": {},
     "output_type": "display_data"
    },
    {
     "data": {
      "image/png": "[encoded data removed]",
      "text/plain": [
       "<matplotlib.figure.Figure at 0xa5ded8c3c8>"
      ]
     },
     "metadata": {},
     "output_type": "display_data"
    },
    {
     "data": {
      "image/png": "[encoded data removed]",
      "text/plain": [
       "<matplotlib.figure.Figure at 0xa5dee712e8>"
      ]
     },
     "metadata": {},
     "output_type": "display_data"
    }
   ],
   "source": [
    "visualize_data(df)"
   ]
  },
  {
   "cell_type": "markdown",
   "metadata": {},
   "source": [
    "## Diagnose data\n",
    "Detect common data problems, e.g., duplicated rows, missing values and outliers."
   ]
  },
  {
   "cell_type": "code",
   "execution_count": 9,
   "metadata": {
    "collapsed": true
   },
   "outputs": [],
   "source": [
    "def identify_duplicated_rows(dataframe):\n",
    "    \"\"\"\n",
    "    Identify duplicated rows\n",
    "    \"\"\"\n",
    "    \n",
    "    # Mark duplicated rows with True\n",
    "    mark = dataframe.duplicated(keep=False)\n",
    "    #print(mark)\n",
    "    \n",
    "    # Duplicated rows detected then set duplicated 'True' \n",
    "    duplicated = False\n",
    "    for bool in mark:\n",
    "        if bool:\n",
    "            duplicated = True\n",
    "    \n",
    "    # Show duplicated rows if there are\n",
    "    # Otherwise show no duplicated rows\n",
    "    if duplicated:\n",
    "        print(\"Duplicated rows detected\")\n",
    "        print(\"========================\")\n",
    "        print(dataframe[mark])\n",
    "        print(\"\")\n",
    "    else:\n",
    "        print(\"No duplicated rows\")\n",
    "        print(\"\")\n",
    "\n",
    "def identify_missing_values(dataframe, detailed=False):\n",
    "    missing_count = {}\n",
    "    flag = False\n",
    "    for col in dataframe.columns:\n",
    "        # Missing count\n",
    "        missing_count[col] = len(dataframe.index)-dataframe[col].count()\n",
    "        if missing_count[col] != 0:\n",
    "            flag = True\n",
    "            if detailed:\n",
    "                print(\"There are {} missing values for variable {}\".format(missing_count[col],col))\n",
    "        else:\n",
    "            if detailed:\n",
    "                print(\"No missing values detected for variable {}\".format(col))\n",
    "    if flag:\n",
    "        print(\"\")\n",
    "        print(\"Missing value detected\")\n",
    "    else:\n",
    "        print(\"\")\n",
    "        print(\"No missing value detected\")\n",
    "\n",
    "def identify_outliers(df, variable=None, groupby=None, detailed=False):\n",
    "    \"\"\"\n",
    "    Indentify outliers by show box plot\n",
    "    \"\"\"\n",
    "    \n",
    "    # Draw box plot for numeric variable\n",
    "    # Outliers can be shown\n",
    "    df.boxplot(column=variable, by=groupby)\n",
    "    plt.draw()\n",
    "    \n",
    "    df_outliers = {}\n",
    "    flag = False\n",
    "    for col in df.columns:\n",
    "        if(df[col].dtype == np.float64 or df[col].dtype == np.int64):\n",
    "            #keep only the ones that are out of +3 to -3 standard deviations in the column 'Data'.\n",
    "            df_outliers[col] = df[~(np.abs(df[col]-df[col].mean())<(3*df[col].std()))]\n",
    "            if len(df_outliers[col]) != 0:\n",
    "                flag = True\n",
    "                if detailed:                    \n",
    "                    print(\"There are {} outliers in variable {}\".format(len(df_outliers[col]), col))\n",
    "                    print(df_outliers[col])\n",
    "                    print(\"\")\n",
    "                    #print(len(df_outliers))\n",
    "            else:\n",
    "                if detailed:\n",
    "                    print(\"No outliers are detected in variable {}\".format(col))\n",
    "                    print(\"\")\n",
    "    \n",
    "    if flag:\n",
    "        print(\"Outliers detected\")\n",
    "        print(\"\")\n",
    "    else:\n",
    "        print(\"No outliers detected\")\n",
    "        print(\"\")\n",
    "    plt.show()\n",
    "    \n",
    "def identify_name_consistency(dataframe):\n",
    "    \"\"\"\n",
    "    Identify if column names are consistent\n",
    "    \"\"\"\n",
    "    print(\"\")\n",
    "    print(\"Column names\")\n",
    "    print(\"============\")\n",
    "    print(dataframe.columns)\n",
    "    print(\"\")\n",
    "    \n",
    "    if all(col[0].isupper() for col in dataframe.columns):\n",
    "        print(\"Column names consistent\")\n",
    "    elif all(col[0].islower() for col in dataframe.columns):\n",
    "        print(\"Column names consistent\")\n",
    "    else:\n",
    "        print(\"Column names not consistent\")\n",
    "        \n",
    "def diagnose_data(dataframe):\n",
    "    \"\"\"\n",
    "    Deal with common data problems\n",
    "    like missing data, duplicate rows and so on\n",
    "    \"\"\"\n",
    "    print(dataframe.head())\n",
    "    \n",
    "    # Identify inconsistent column names\n",
    "    print(\"\")\n",
    "    print(\"***********************************\")\n",
    "    print(\"Detecting inconsistent column names\")\n",
    "    print(\"***********************************\")\n",
    "    print(\"\")\n",
    "    identify_name_consistency(dataframe)\n",
    "    \n",
    "    # Identify the duplicates\n",
    "    print(\"\")\n",
    "    print(\"*************************\")\n",
    "    print(\"Detecting duplicated rows\")\n",
    "    print(\"*************************\")\n",
    "    print(\"\")\n",
    "    identify_duplicated_rows(dataframe)\n",
    "\n",
    "    # Identify potential outliers\n",
    "    print(\"\")\n",
    "    print(\"******************\")\n",
    "    print(\"Detecting outliers\")\n",
    "    print(\"******************\")\n",
    "    print(\"\")\n",
    "    identify_outliers(dataframe,detailed=True)\n",
    "    \n",
    "    # Identify missing values\n",
    "    print(\"\")\n",
    "    print(\"************************\")\n",
    "    print(\"Detecting missing values\")\n",
    "    print(\"************************\")\n",
    "    print(\"\")\n",
    "    identify_missing_values(dataframe, detailed=True)"
   ]
  },
  {
   "cell_type": "code",
   "execution_count": 10,
   "metadata": {},
   "outputs": [
    {
     "name": "stdout",
     "output_type": "stream",
     "text": [
      "   total_bill   tip     sex smoker  day    time  size\n",
      "0       16.99  1.01  Female     No  Sun  Dinner     2\n",
      "1       10.34  1.66    Male     No  Sun  Dinner     3\n",
      "2       21.01  3.50    Male     No  Sun  Dinner     3\n",
      "3       23.68  3.31    Male     No  Sun  Dinner     2\n",
      "4       24.59  3.61  Female     No  Sun  Dinner     4\n",
      "\n",
      "***********************************\n",
      "Detecting inconsistent column names\n",
      "***********************************\n",
      "\n",
      "\n",
      "Column names\n",
      "============\n",
      "Index(['total_bill', 'tip', 'sex', 'smoker', 'day', 'time', 'size'], dtype='object')\n",
      "\n",
      "Column names consistent\n",
      "\n",
      "*************************\n",
      "Detecting duplicated rows\n",
      "*************************\n",
      "\n",
      "Duplicated rows detected\n",
      "========================\n",
      "     total_bill  tip     sex smoker   day   time  size\n",
      "198        13.0  2.0  Female    Yes  Thur  Lunch     2\n",
      "202        13.0  2.0  Female    Yes  Thur  Lunch     2\n",
      "\n",
      "\n",
      "******************\n",
      "Detecting outliers\n",
      "******************\n",
      "\n",
      "There are 4 outliers in variable total_bill\n",
      "     total_bill    tip   sex smoker  day    time  size\n",
      "59        48.27   6.73  Male     No  Sat  Dinner     4\n",
      "156       48.17   5.00  Male     No  Sun  Dinner     6\n",
      "170       50.81  10.00  Male    Yes  Sat  Dinner     3\n",
      "212       48.33   9.00  Male     No  Sat  Dinner     4\n",
      "\n",
      "There are 3 outliers in variable tip\n",
      "     total_bill    tip   sex smoker  day    time  size\n",
      "23        39.42   7.58  Male     No  Sat  Dinner     4\n",
      "170       50.81  10.00  Male    Yes  Sat  Dinner     3\n",
      "212       48.33   9.00  Male     No  Sat  Dinner     4\n",
      "\n",
      "There are 4 outliers in variable size\n",
      "     total_bill  tip     sex smoker   day    time  size\n",
      "125       29.80  4.2  Female     No  Thur   Lunch     6\n",
      "141       34.30  6.7    Male     No  Thur   Lunch     6\n",
      "143       27.05  5.0  Female     No  Thur   Lunch     6\n",
      "156       48.17  5.0    Male     No   Sun  Dinner     6\n",
      "\n",
      "Outliers detected\n",
      "\n"
     ]
    },
    {
     "data": {
      "image/png": "[encoded data removed]",
      "text/plain": [
       "<matplotlib.figure.Figure at 0xa5dee47710>"
      ]
     },
     "metadata": {},
     "output_type": "display_data"
    },
    {
     "name": "stdout",
     "output_type": "stream",
     "text": [
      "\n",
      "************************\n",
      "Detecting missing values\n",
      "************************\n",
      "\n",
      "No missing values detected for variable total_bill\n",
      "No missing values detected for variable tip\n",
      "No missing values detected for variable sex\n",
      "No missing values detected for variable smoker\n",
      "No missing values detected for variable day\n",
      "No missing values detected for variable time\n",
      "No missing values detected for variable size\n",
      "\n",
      "No missing value detected\n"
     ]
    }
   ],
   "source": [
    "diagnose_data(df)"
   ]
  },
  {
   "cell_type": "markdown",
   "metadata": {},
   "source": [
    "## Clean data\n",
    "Clean data in an interactive manner."
   ]
  },
  {
   "cell_type": "code",
   "execution_count": 11,
   "metadata": {
    "collapsed": true
   },
   "outputs": [],
   "source": [
    "def convert_type(dataframe, col=None, type=None):\n",
    "    \"\"\"\n",
    "    Converting data type of a specific variable\n",
    "    \"\"\"\n",
    "    dataframe[col] = dataframe[col].astype(type)\n",
    "    return dataframe\n",
    "\n",
    "        \n",
    "def drop_missing_values(dataframe):\n",
    "    \"\"\"\n",
    "    Drop rows containing missing values\n",
    "    \"\"\"\n",
    "    dataframe_missing_dropped = dataframe.dropna()\n",
    "    return dataframe_missing_dropped\n",
    "\n",
    "def fill_missing_values(dataframe, fillingvalue = None, col = None):\n",
    "    \"\"\"\n",
    "    Fill missing values with specific value\n",
    "    If no value is specified,\n",
    "    fill numeric type varible with mean();\n",
    "    fill category type varible with 'missing'\n",
    "    \"\"\"\n",
    "    if fillingvalue != None:\n",
    "        if col != None:\n",
    "            dataframe[col] = dataframe[col].fillna(fillingvalue)\n",
    "        else:\n",
    "            dataframe = dataframe.fillna(fillingvalue)\n",
    "    else:\n",
    "        for col in dataframe.columns:\n",
    "            if(dataframe[col].dtype == np.float64 or dataframe[col].dtype == np.int64):\n",
    "                mean_value=dataframe[col].mean()\n",
    "                dataframe[col] = dataframe[col].fillna(mean_value)\n",
    "            else:\n",
    "                dataframe[col] = dataframe[col].fillna('missing')\n",
    "    print(\"\")\n",
    "    print(\"Missing values filled\")\n",
    "    #print(dataframe)\n",
    "    return dataframe            \n",
    "            \n",
    "def clean_duplicated_rows(dataframe):\n",
    "    \"\"\"\n",
    "    Drop with duplicatd rows\n",
    "    \"\"\"\n",
    "    # Drop the duplicates\n",
    "    dataframe_no_duplicate = dataframe.drop_duplicates()\n",
    "    #print(dataframe_no_duplicate)\n",
    "    return dataframe_no_duplicate\n",
    "   "
   ]
  },
  {
   "cell_type": "markdown",
   "metadata": {
    "collapsed": true
   },
   "source": [
    "## Detect data type\n",
    "Automatically detect data type for each feature"
   ]
  },
  {
   "cell_type": "markdown",
   "metadata": {},
   "source": [
    "In this case "
   ]
  },
  {
   "cell_type": "code",
   "execution_count": 12,
   "metadata": {},
   "outputs": [
    {
     "data": {
      "text/plain": [
       "total_bill    float64\n",
       "tip           float64\n",
       "sex            object\n",
       "smoker         object\n",
       "day            object\n",
       "time           object\n",
       "size            int64\n",
       "dtype: object"
      ]
     },
     "execution_count": 12,
     "metadata": {},
     "output_type": "execute_result"
    }
   ],
   "source": [
    "df.dtypes"
   ]
  },
  {
   "cell_type": "code",
   "execution_count": null,
   "metadata": {
    "collapsed": true
   },
   "outputs": [],
   "source": []
  }
 ],
 "metadata": {
  "kernelspec": {
   "display_name": "Python 3",
   "language": "python",
   "name": "python3"
  },
  "language_info": {
   "codemirror_mode": {
    "name": "ipython",
    "version": 3
   },
   "file_extension": ".py",
   "mimetype": "text/x-python",
   "name": "python",
   "nbconvert_exporter": "python",
   "pygments_lexer": "ipython3",
   "version": "3.6.3"
  }
 },
 "nbformat": 4,
 "nbformat_minor": 2
}
