{
 "cells": [
  {
   "cell_type": "markdown",
   "metadata": {},
   "source": [
    "# Automatic Data Preprocessing"
   ]
  },
  {
   "cell_type": "markdown",
   "metadata": {},
   "source": [
    "This is a simple case study of automatic data cleaning. Only simple heuristic approaches are used here."
   ]
  },
  {
   "cell_type": "code",
   "execution_count": 2,
   "metadata": {
    "collapsed": true
   },
   "outputs": [],
   "source": [
    "\"\"\"\n",
    "Automatic data cleaning\n",
    "\"\"\"\n",
    "\n",
    "# Import packages\n",
    "import pandas as pd\n",
    "import numpy as np\n",
    "import matplotlib.pyplot as plt\n",
    "import collections"
   ]
  },
  {
   "cell_type": "markdown",
   "metadata": {},
   "source": [
    "## Get data\n",
    "Get data from the csv file and show data to have a general idea of how the dataset looks like."
   ]
  },
  {
   "cell_type": "code",
   "execution_count": 3,
   "metadata": {
    "collapsed": true
   },
   "outputs": [],
   "source": [
    "def get_data(file):\n",
    "    \"\"\"\n",
    "    load dataset into a DataFrame\n",
    "    \"\"\"\n",
    "    \n",
    "    # Read the file into a DataFrame: df\n",
    "    dataframe = pd.read_csv(file)\n",
    "    return dataframe\n",
    "\n",
    "def show_data(dataframe, complete=False):\n",
    "    \"\"\"\n",
    "    Print the data frame\n",
    "    \"\"\"\n",
    "    if complete:\n",
    "        # Print complete df\n",
    "        with pd.option_context('display.max_rows', None, 'display.max_columns', None):\n",
    "            print(dataframe)\n",
    "    else:\n",
    "        # Print part of df\n",
    "        print(dataframe.head())    "
   ]
  },
  {
   "cell_type": "code",
   "execution_count": 4,
   "metadata": {},
   "outputs": [
    {
     "name": "stdout",
     "output_type": "stream",
     "text": [
      "   total_bill   tip     sex smoker  day    time  size\n",
      "0       16.99  1.01  Female     No  Sun  Dinner     2\n",
      "1       10.34  1.66    Male     No  Sun  Dinner     3\n",
      "2       21.01  3.50    Male     No  Sun  Dinner     3\n",
      "3       23.68  3.31    Male     No  Sun  Dinner     2\n",
      "4       24.59  3.61  Female     No  Sun  Dinner     4\n"
     ]
    }
   ],
   "source": [
    "df = get_data('tips.csv')\n",
    "show_data(df, complete = False)"
   ]
  },
  {
   "cell_type": "markdown",
   "metadata": {},
   "source": [
    "## Reoprt data\n",
    "Generate a general report, more details can be obtained by setting the parammeter \"detailed\" to \"True\""
   ]
  },
  {
   "cell_type": "code",
   "execution_count": 5,
   "metadata": {
    "collapsed": true
   },
   "outputs": [],
   "source": [
    "def report_data(dataframe, detailed=False):\n",
    "    \"\"\"\n",
    "    Show a concise summary\n",
    "    \"\"\"\n",
    "    variable_type = {}\n",
    "    unique_count = {}\n",
    "    missing_observation = {}\n",
    "    for col in dataframe.columns:\n",
    "        # Type of each variable\n",
    "        variable_type[col] = dataframe[col].dtypes\n",
    "        # Unique count of each variable\n",
    "        unique_count[col] = dataframe[col].nunique()\n",
    "        # Missing pecentage\n",
    "        missing_observation[col] = (len(dataframe.index)-dataframe[col].count()) / len(dataframe.index)\n",
    "        #print(\"# uniques values of {:<10} is {:>4}\".format(col, data[col].nunique()))\n",
    "        #print(dataframe[col].value_counts(dropna=False).head())   \n",
    "    #print(variable_type)  \n",
    "    #print(unique_count)\n",
    "    #print(missing_observation)\n",
    "    \n",
    "    # Merge multiple dictionaries with the same key\n",
    "    # A general solution that will handle an arbitrary amount of dictionaries,\n",
    "    # with cases when keys are in only some of the dictionaries\n",
    "    dict_summary = collections.defaultdict(list)\n",
    "    for dict in (unique_count, variable_type, missing_observation):\n",
    "        for key, value in dict.items():\n",
    "            dict_summary[key].append(value)\n",
    "    #print(dict_summary)\n",
    "    \n",
    "    # dictionary to tabular data structure\n",
    "    df = pd.DataFrame(dict_summary,\n",
    "                      index=[\"# unique values\", \"Variable type\", \"Missing_observation\"],\n",
    "                      columns = dataframe.columns)\n",
    "    # print summary table\n",
    "    print(\"*************\")\n",
    "    print(\"Summary Table\")\n",
    "    print(\"*************\")\n",
    "    # tranpose table\n",
    "    print(df.T)\n",
    "    print(\"\")\n",
    "    \n",
    "    \n",
    "    # if boolean tailed = true, show more details\n",
    "    if detailed:\n",
    "        print(\"Data Describing\")\n",
    "        print(\"====================\")\n",
    "        print(dataframe.describe())\n",
    "        print(\"\")\n",
    "        print(\"Additional Information\")\n",
    "        print(\"================\")\n",
    "        dataframe.info()\n",
    "        print(\"\")\n",
    "        print(\"Unique values for each variable\")\n",
    "        print(\"===============================\")\n",
    "        for col in dataframe.columns:\n",
    "            print(\"# uniques values of {:<10} is {:>4}\".format(col, dataframe[col].nunique()))\n",
    "            print(dataframe[col].value_counts(dropna=False))\n",
    "            print(\"\")"
   ]
  },
  {
   "cell_type": "code",
   "execution_count": 6,
   "metadata": {},
   "outputs": [
    {
     "name": "stdout",
     "output_type": "stream",
     "text": [
      "*************\n",
      "Summary Table\n",
      "*************\n",
      "           # unique values Variable type Missing_observation\n",
      "total_bill             229       float64                   0\n",
      "tip                    123       float64                   0\n",
      "sex                      2        object                   0\n",
      "smoker                   2        object                   0\n",
      "day                      4        object                   0\n",
      "time                     2        object                   0\n",
      "size                     6         int64                   0\n",
      "\n"
     ]
    }
   ],
   "source": [
    "report_data(df, detailed = False)"
   ]
  },
  {
   "cell_type": "markdown",
   "metadata": {},
   "source": [
    "## Visualize data\n",
    "Visualize the distribution of each variable.Histograms for numeric data and bar charts for categorical data."
   ]
  },
  {
   "cell_type": "code",
   "execution_count": 7,
   "metadata": {
    "collapsed": true
   },
   "outputs": [],
   "source": [
    "def visualize_data(df):\n",
    "    \"\"\"\n",
    "    Visualize the distribution of each variable\n",
    "    Histograms for numeric data\n",
    "    Bar charts for categorical data\n",
    "    \"\"\"\n",
    "    # Show distribution by histograms and bar charts\n",
    "    for col in df.columns:\n",
    "        # plot histograms for numeric data\n",
    "        if(df[col].dtype == np.float64 or df[col].dtype == np.int64):\n",
    "            plt.figure()\n",
    "            plt.title(\"{}\".format(col))\n",
    "            df[col].plot(kind='hist')\n",
    "            #plt.hist(df[col].dropna())\n",
    "        # plot bar charts for categorical data\n",
    "        else:\n",
    "            #df[col].plot('hist')\n",
    "            #plt.show()\n",
    "            #print(df[col].value_counts(dropna=False))\n",
    "            plt.figure()\n",
    "            plt.title(\"{}\".format(col))\n",
    "            plt.ylabel(\"Count\")\n",
    "            df[col].value_counts(dropna=False).plot(kind='bar')\n",
    "    plt.show()"
   ]
  },
  {
   "cell_type": "code",
   "execution_count": 8,
   "metadata": {},
   "outputs": [
    {
     "data": {
      "image/png": "[encoded data removed]",
      "text/plain": [
       "<matplotlib.figure.Figure at 0xa5de72a4a8>"
      ]
     },
     "metadata": {},
     "output_type": "display_data"
    },
    {
     "data": {
      "image/png": "[encoded data removed]",
      "text/plain": [
       "<matplotlib.figure.Figure at 0xa5de8f1080>"
      ]
     },
     "metadata": {},
     "output_type": "display_data"
    },
    {
     "data": {
      "image/png": "[encoded data removed]",
      "text/plain": [
       "<matplotlib.figure.Figure at 0xa5de9ce4e0>"
      ]
     },
     "metadata": {},
     "output_type": "display_data"
    },
    {
     "data": {
      "image/png": "[encoded data removed]",
      "text/plain": [
       "<matplotlib.figure.Figure at 0xa5ded487f0>"
      ]
     },
     "metadata": {},
     "output_type": "display_data"
    },
    {
     "data": {
      "image/png": "[encoded data removed]",
      "text/plain": [
       "<matplotlib.figure.Figure at 0xa5dedb09e8>"
      ]
     },
     "metadata": {},
     "output_type": "display_data"
    },
    {
     "data": {
      "image/png": "[encoded data removed]",
      "text/plain": [
       "<matplotlib.figure.Figure at 0xa5ded8c3c8>"
      ]
     },
     "metadata": {},
     "output_type": "display_data"
    },
    {
     "data": {
      "image/png": "[encoded data removed]",
      "text/plain": [
       "<matplotlib.figure.Figure at 0xa5dee712e8>"
      ]
     },
     "metadata": {},
     "output_type": "display_data"
    }
   ],
   "source": [
    "visualize_data(df)"
   ]
  },
  {
   "cell_type": "markdown",
   "metadata": {},
   "source": [
    "## Diagnose data\n",
    "Detect common data problems, e.g., duplicated rows, missing values and outliers."
   ]
  },
  {
   "cell_type": "code",
   "execution_count": 9,
   "metadata": {
    "collapsed": true
   },
   "outputs": [],
   "source": [
    "def identify_duplicated_rows(dataframe):\n",
    "    \"\"\"\n",
    "    Identify duplicated rows\n",
    "    \"\"\"\n",
    "    \n",
    "    # Mark duplicated rows with True\n",
    "    mark = dataframe.duplicated(keep=False)\n",
    "    #print(mark)\n",
    "    \n",
    "    # Duplicated rows detected then set duplicated 'True' \n",
    "    duplicated = False\n",
    "    for bool in mark:\n",
    "        if bool:\n",
    "            duplicated = True\n",
    "    \n",
    "    # Show duplicated rows if there are\n",
    "    # Otherwise show no duplicated rows\n",
    "    if duplicated:\n",
    "        print(\"Duplicated rows detected\")\n",
    "        print(\"========================\")\n",
    "        print(dataframe[mark])\n",
    "        print(\"\")\n",
    "    else:\n",
    "        print(\"No duplicated rows\")\n",
    "        print(\"\")\n",
    "\n",
    "def identify_missing_values(dataframe, detailed=False):\n",
    "    missing_count = {}\n",
    "    flag = False\n",
    "    for col in dataframe.columns:\n",
    "        # Missing count\n",
    "        missing_count[col] = len(dataframe.index)-dataframe[col].count()\n",
    "        if missing_count[col] != 0:\n",
    "            flag = True\n",
    "            if detailed:\n",
    "                print(\"There are {} missing values for variable {}\".format(missing_count[col],col))\n",
    "        else:\n",
    "            if detailed:\n",
    "                print(\"No missing values detected for variable {}\".format(col))\n",
    "    if flag:\n",
    "        print(\"\")\n",
    "        print(\"Missing value detected\")\n",
    "    else:\n",
    "        print(\"\")\n",
    "        print(\"No missing value detected\")\n",
    "\n",
    "def identify_outliers(df, variable=None, groupby=None, detailed=False):\n",
    "    \"\"\"\n",
    "    Indentify outliers by show box plot\n",
    "    \"\"\"\n",
    "    \n",
    "    # Draw box plot for numeric variable\n",
    "    # Outliers can be shown\n",
    "    df.boxplot(column=variable, by=groupby)\n",
    "    plt.draw()\n",
    "    \n",
    "    df_outliers = {}\n",
    "    flag = False\n",
    "    for col in df.columns:\n",
    "        if(df[col].dtype == np.float64 or df[col].dtype == np.int64):\n",
    "            #keep only the ones that are out of +3 to -3 standard deviations in the column 'Data'.\n",
    "            df_outliers[col] = df[~(np.abs(df[col]-df[col].mean())<(3*df[col].std()))]\n",
    "            if len(df_outliers[col]) != 0:\n",
    "                flag = True\n",
    "                if detailed:                    \n",
    "                    print(\"There are {} outliers in variable {}\".format(len(df_outliers[col]), col))\n",
    "                    print(df_outliers[col])\n",
    "                    print(\"\")\n",
    "                    #print(len(df_outliers))\n",
    "            else:\n",
    "                if detailed:\n",
    "                    print(\"No outliers are detected in variable {}\".format(col))\n",
    "                    print(\"\")\n",
    "    \n",
    "    if flag:\n",
    "        print(\"Outliers detected\")\n",
    "        print(\"\")\n",
    "    else:\n",
    "        print(\"No outliers detected\")\n",
    "        print(\"\")\n",
    "    plt.show()\n",
    "    \n",
    "def identify_name_consistency(dataframe):\n",
    "    \"\"\"\n",
    "    Identify if column names are consistent\n",
    "    \"\"\"\n",
    "    print(\"\")\n",
    "    print(\"Column names\")\n",
    "    print(\"============\")\n",
    "    print(dataframe.columns)\n",
    "    print(\"\")\n",
    "    \n",
    "    if all(col[0].isupper() for col in dataframe.columns):\n",
    "        print(\"Column names consistent\")\n",
    "    elif all(col[0].islower() for col in dataframe.columns):\n",
    "        print(\"Column names consistent\")\n",
    "    else:\n",
    "        print(\"Column names not consistent\")\n",
    "        \n",
    "def diagnose_data(dataframe):\n",
    "    \"\"\"\n",
    "    Deal with common data problems\n",
    "    like missing data, duplicate rows and so on\n",
    "    \"\"\"\n",
    "    print(dataframe.head())\n",
    "    \n",
    "    # Identify inconsistent column names\n",
    "    print(\"\")\n",
    "    print(\"***********************************\")\n",
    "    print(\"Detecting inconsistent column names\")\n",
    "    print(\"***********************************\")\n",
    "    print(\"\")\n",
    "    identify_name_consistency(dataframe)\n",
    "    \n",
    "    # Identify the duplicates\n",
    "    print(\"\")\n",
    "    print(\"*************************\")\n",
    "    print(\"Detecting duplicated rows\")\n",
    "    print(\"*************************\")\n",
    "    print(\"\")\n",
    "    identify_duplicated_rows(dataframe)\n",
    "\n",
    "    # Identify potential outliers\n",
    "    print(\"\")\n",
    "    print(\"******************\")\n",
    "    print(\"Detecting outliers\")\n",
    "    print(\"******************\")\n",
    "    print(\"\")\n",
    "    identify_outliers(dataframe,detailed=True)\n",
    "    \n",
    "    # Identify missing values\n",
    "    print(\"\")\n",
    "    print(\"************************\")\n",
    "    print(\"Detecting missing values\")\n",
    "    print(\"************************\")\n",
    "    print(\"\")\n",
    "    identify_missing_values(dataframe, detailed=True)"
   ]
  },
  {
   "cell_type": "code",
   "execution_count": 10,
   "metadata": {},
   "outputs": [
    {
     "name": "stdout",
     "output_type": "stream",
     "text": [
      "   total_bill   tip     sex smoker  day    time  size\n",
      "0       16.99  1.01  Female     No  Sun  Dinner     2\n",
      "1       10.34  1.66    Male     No  Sun  Dinner     3\n",
      "2       21.01  3.50    Male     No  Sun  Dinner     3\n",
      "3       23.68  3.31    Male     No  Sun  Dinner     2\n",
      "4       24.59  3.61  Female     No  Sun  Dinner     4\n",
      "\n",
      "***********************************\n",
      "Detecting inconsistent column names\n",
      "***********************************\n",
      "\n",
      "\n",
      "Column names\n",
      "============\n",
      "Index(['total_bill', 'tip', 'sex', 'smoker', 'day', 'time', 'size'], dtype='object')\n",
      "\n",
      "Column names consistent\n",
      "\n",
      "*************************\n",
      "Detecting duplicated rows\n",
      "*************************\n",
      "\n",
      "Duplicated rows detected\n",
      "========================\n",
      "     total_bill  tip     sex smoker   day   time  size\n",
      "198        13.0  2.0  Female    Yes  Thur  Lunch     2\n",
      "202        13.0  2.0  Female    Yes  Thur  Lunch     2\n",
      "\n",
      "\n",
      "******************\n",
      "Detecting outliers\n",
      "******************\n",
      "\n",
      "There are 4 outliers in variable total_bill\n",
      "     total_bill    tip   sex smoker  day    time  size\n",
      "59        48.27   6.73  Male     No  Sat  Dinner     4\n",
      "156       48.17   5.00  Male     No  Sun  Dinner     6\n",
      "170       50.81  10.00  Male    Yes  Sat  Dinner     3\n",
      "212       48.33   9.00  Male     No  Sat  Dinner     4\n",
      "\n",
      "There are 3 outliers in variable tip\n",
      "     total_bill    tip   sex smoker  day    time  size\n",
      "23        39.42   7.58  Male     No  Sat  Dinner     4\n",
      "170       50.81  10.00  Male    Yes  Sat  Dinner     3\n",
      "212       48.33   9.00  Male     No  Sat  Dinner     4\n",
      "\n",
      "There are 4 outliers in variable size\n",
      "     total_bill  tip     sex smoker   day    time  size\n",
      "125       29.80  4.2  Female     No  Thur   Lunch     6\n",
      "141       34.30  6.7    Male     No  Thur   Lunch     6\n",
      "143       27.05  5.0  Female     No  Thur   Lunch     6\n",
      "156       48.17  5.0    Male     No   Sun  Dinner     6\n",
      "\n",
      "Outliers detected\n",
      "\n"
     ]
    },
    {
     "data": {
      "image/png": "[encoded data removed]",
      "text/plain": [
       "<matplotlib.figure.Figure at 0xa5dee47710>"
      ]
     },
     "metadata": {},
     "output_type": "display_data"
    },
    {
     "name": "stdout",
     "output_type": "stream",
     "text": [
      "\n",
      "************************\n",
      "Detecting missing values\n",
      "************************\n",
      "\n",
      "No missing values detected for variable total_bill\n",
      "No missing values detected for variable tip\n",
      "No missing values detected for variable sex\n",
      "No missing values detected for variable smoker\n",
      "No missing values detected for variable day\n",
      "No missing values detected for variable time\n",
      "No missing values detected for variable size\n",
      "\n",
      "No missing value detected\n"
     ]
    }
   ],
   "source": [
    "diagnose_data(df)"
   ]
  },
  {
   "cell_type": "markdown",
   "metadata": {},
   "source": [
    "## Clean data\n",
    "Clean data in an interactive manner."
   ]
  },
  {
   "cell_type": "code",
   "execution_count": 11,
   "metadata": {
    "collapsed": true
   },
   "outputs": [],
   "source": [
    "def convert_type(dataframe, col=None, type=None):\n",
    "    \"\"\"\n",
    "    Converting data type of a specific variable\n",
    "    \"\"\"\n",
    "    dataframe[col] = dataframe[col].astype(type)\n",
    "    return dataframe\n",
    "\n",
    "        \n",
    "def drop_missing_values(dataframe):\n",
    "    \"\"\"\n",
    "    Drop rows containing missing values\n",
    "    \"\"\"\n",
    "    dataframe_missing_dropped = dataframe.dropna()\n",
    "    return dataframe_missing_dropped\n",
    "\n",
    "def fill_missing_values(dataframe, fillingvalue = None, col = None):\n",
    "    \"\"\"\n",
    "    Fill missing values with specific value\n",
    "    If no value is specified,\n",
    "    fill numeric type varible with mean();\n",
    "    fill category type varible with 'missing'\n",
    "    \"\"\"\n",
    "    if fillingvalue != None:\n",
    "        if col != None:\n",
    "            dataframe[col] = dataframe[col].fillna(fillingvalue)\n",
    "        else:\n",
    "            dataframe = dataframe.fillna(fillingvalue)\n",
    "    else:\n",
    "        for col in dataframe.columns:\n",
    "            if(dataframe[col].dtype == np.float64 or dataframe[col].dtype == np.int64):\n",
    "                mean_value=dataframe[col].mean()\n",
    "                dataframe[col] = dataframe[col].fillna(mean_value)\n",
    "            else:\n",
    "                dataframe[col] = dataframe[col].fillna('missing')\n",
    "    print(\"\")\n",
    "    print(\"Missing values filled\")\n",
    "    #print(dataframe)\n",
    "    return dataframe            \n",
    "            \n",
    "def clean_duplicated_rows(dataframe):\n",
    "    \"\"\"\n",
    "    Drop with duplicatd rows\n",
    "    \"\"\"\n",
    "    # Drop the duplicates\n",
    "    dataframe_no_duplicate = dataframe.drop_duplicates()\n",
    "    #print(dataframe_no_duplicate)\n",
    "    return dataframe_no_duplicate\n",
    "   "
   ]
  },
  {
   "cell_type": "markdown",
   "metadata": {},
   "source": [
    "Test for data cleaning."
   ]
  },
  {
   "cell_type": "code",
   "execution_count": 19,
   "metadata": {
    "collapsed": true
   },
   "outputs": [],
   "source": [
    "\"\"\"\n",
    "Tests for automatic data cleaning\n",
    "\"\"\"\n",
    "import datacleaner as dc\n",
    "import pandas as pd\n",
    "import numpy as np\n",
    "\n",
    "def main_test():\n",
    "    \"\"\"\n",
    "    Tests for read file, show data, report data and visualize data\n",
    "    Always run first\n",
    "    \"\"\"\n",
    "    # General test\n",
    "    df = dc.get_data('tips.csv')\n",
    "    dc.show_data(df, False)\n",
    "    #dc.visualize_data(df)\n",
    "    dc.diagnose_data(df)\n",
    "    dc.report_data(df, False)\n",
    "\n",
    "def typeconvert_test():\n",
    "    \"\"\"\n",
    "    Test for converting data type\n",
    "    \"\"\"\n",
    "    # The type for 'sex' in 'tips.csv'\n",
    "    # should be category instead of object\n",
    "    df1 = dc.get_data('tips.csv')\n",
    "    dc.report_data(df1, False)\n",
    "    df1 = dc.convert_type(df1, 'sex', 'category')\n",
    "    dc.report_data(df1, False)\n",
    "\n",
    "def duplicated_test():\n",
    "    \"\"\"\n",
    "    Test for dropping duplicated rows\n",
    "    \"\"\"\n",
    "    # Generate a dataframe with duplicated rows   \n",
    "    d = {'col1': [1, 2, 2, 5], 'col2': [3, 4, 4, 7],\n",
    "         'col3': [3, 9, 9, 8], 'col4': [2, 13, 13, 28]}\n",
    "    df2 = dc.pd.DataFrame(data=d)\n",
    "    print(\"Original data\")\n",
    "    print(\"=============\")\n",
    "    print(df2)\n",
    "    print(\"\")\n",
    "    dc.identify_duplicated_rows(df2)\n",
    "    df2 = dc.clean_duplicated_rows(df2)\n",
    "    print(\"After dropping duplicated rows\")\n",
    "    print(\"==============================\")\n",
    "    print(df2)\n",
    "\n",
    "def outlier_test():\n",
    "    \"\"\"\n",
    "    Test for detecting outliers\n",
    "    \"\"\"\n",
    "    # Generate a random dataframe\n",
    "    df3 = pd.DataFrame({'Data':np.random.normal(size=200)})\n",
    "    # Create a few outliers (3 of them, at index locations 10, 55, 80)\n",
    "    df3.iloc[[10, 55, 80]] = 40\n",
    "    print(df3)\n",
    "    dc.identify_outliers(df3)\n",
    "\n",
    "def drop_missing_test():\n",
    "    \"\"\"\n",
    "    Test for dropping missing values\n",
    "    \"\"\"\n",
    "    df = get_data('airquality.csv')\n",
    "    df.info()\n",
    "    identify_missing_values(df)\n",
    "    df2 = drop_missing_values(df)\n",
    "    df2.info()\n",
    "\n",
    "def filling_missing_test():\n",
    "    \"\"\"\n",
    "    Test for filling missing values\n",
    "    \"\"\"\n",
    "    df = dc.get_data('airquality.csv')\n",
    "    print(\"Orignial data\")\n",
    "    print(df.head())\n",
    "    dc.identify_missing_values(df)\n",
    "    df = dc.fill_missing_values(df, \"missing\", \"Ozone\")\n",
    "    print(df.head())\n",
    "    \n",
    "def consistency_test():\n",
    "    \"\"\"\n",
    "    Test for detecting inconsitent column names\n",
    "    \"\"\"\n",
    "    df = dc.get_data('airquality.csv')\n",
    "    df = df.rename(index=str, columns={\"Ozone\": \"ozone\"})\n",
    "    print(df)\n",
    "    dc.identify_name_consistency(df)"
   ]
  },
  {
   "cell_type": "code",
   "execution_count": 20,
   "metadata": {},
   "outputs": [
    {
     "name": "stdout",
     "output_type": "stream",
     "text": [
      "*************\n",
      "Summary Table\n",
      "*************\n",
      "           # unique values Variable type Missing_observation\n",
      "total_bill             229       float64                   0\n",
      "tip                    123       float64                   0\n",
      "sex                      2        object                   0\n",
      "smoker                   2        object                   0\n",
      "day                      4        object                   0\n",
      "time                     2        object                   0\n",
      "size                     6         int64                   0\n",
      "\n",
      "*************\n",
      "Summary Table\n",
      "*************\n",
      "           # unique values Variable type Missing_observation\n",
      "total_bill             229       float64                   0\n",
      "tip                    123       float64                   0\n",
      "sex                      2      category                   0\n",
      "smoker                   2        object                   0\n",
      "day                      4        object                   0\n",
      "time                     2        object                   0\n",
      "size                     6         int64                   0\n",
      "\n",
      "Original data\n",
      "=============\n",
      "   col1  col2  col3  col4\n",
      "0     1     3     3     2\n",
      "1     2     4     9    13\n",
      "2     2     4     9    13\n",
      "3     5     7     8    28\n",
      "\n",
      "Duplicated rows detected\n",
      "========================\n",
      "   col1  col2  col3  col4\n",
      "1     2     4     9    13\n",
      "2     2     4     9    13\n",
      "\n",
      "After dropping duplicated rows\n",
      "==============================\n",
      "   col1  col2  col3  col4\n",
      "0     1     3     3     2\n",
      "1     2     4     9    13\n",
      "3     5     7     8    28\n",
      "     ozone  Solar.R  Wind  Temp  Month  Day\n",
      "0     41.0    190.0   7.4    67      5    1\n",
      "1     36.0    118.0   8.0    72      5    2\n",
      "2     12.0    149.0  12.6    74      5    3\n",
      "3     18.0    313.0  11.5    62      5    4\n",
      "4      NaN      NaN  14.3    56      5    5\n",
      "5     28.0      NaN  14.9    66      5    6\n",
      "6     23.0    299.0   8.6    65      5    7\n",
      "7     19.0     99.0  13.8    59      5    8\n",
      "8      8.0     19.0  20.1    61      5    9\n",
      "9      NaN    194.0   8.6    69      5   10\n",
      "10     7.0      NaN   6.9    74      5   11\n",
      "11    16.0    256.0   9.7    69      5   12\n",
      "12    11.0    290.0   9.2    66      5   13\n",
      "13    14.0    274.0  10.9    68      5   14\n",
      "14    18.0     65.0  13.2    58      5   15\n",
      "15    14.0    334.0  11.5    64      5   16\n",
      "16    34.0    307.0  12.0    66      5   17\n",
      "17     6.0     78.0  18.4    57      5   18\n",
      "18    30.0    322.0  11.5    68      5   19\n",
      "19    11.0     44.0   9.7    62      5   20\n",
      "20     1.0      8.0   9.7    59      5   21\n",
      "21    11.0    320.0  16.6    73      5   22\n",
      "22     4.0     25.0   9.7    61      5   23\n",
      "23    32.0     92.0  12.0    61      5   24\n",
      "24     NaN     66.0  16.6    57      5   25\n",
      "25     NaN    266.0  14.9    58      5   26\n",
      "26     NaN      NaN   8.0    57      5   27\n",
      "27    23.0     13.0  12.0    67      5   28\n",
      "28    45.0    252.0  14.9    81      5   29\n",
      "29   115.0    223.0   5.7    79      5   30\n",
      "..     ...      ...   ...   ...    ...  ...\n",
      "123   96.0    167.0   6.9    91      9    1\n",
      "124   78.0    197.0   5.1    92      9    2\n",
      "125   73.0    183.0   2.8    93      9    3\n",
      "126   91.0    189.0   4.6    93      9    4\n",
      "127   47.0     95.0   7.4    87      9    5\n",
      "128   32.0     92.0  15.5    84      9    6\n",
      "129   20.0    252.0  10.9    80      9    7\n",
      "130   23.0    220.0  10.3    78      9    8\n",
      "131   21.0    230.0  10.9    75      9    9\n",
      "132   24.0    259.0   9.7    73      9   10\n",
      "133   44.0    236.0  14.9    81      9   11\n",
      "134   21.0    259.0  15.5    76      9   12\n",
      "135   28.0    238.0   6.3    77      9   13\n",
      "136    9.0     24.0  10.9    71      9   14\n",
      "137   13.0    112.0  11.5    71      9   15\n",
      "138   46.0    237.0   6.9    78      9   16\n",
      "139   18.0    224.0  13.8    67      9   17\n",
      "140   13.0     27.0  10.3    76      9   18\n",
      "141   24.0    238.0  10.3    68      9   19\n",
      "142   16.0    201.0   8.0    82      9   20\n",
      "143   13.0    238.0  12.6    64      9   21\n",
      "144   23.0     14.0   9.2    71      9   22\n",
      "145   36.0    139.0  10.3    81      9   23\n",
      "146    7.0     49.0  10.3    69      9   24\n",
      "147   14.0     20.0  16.6    63      9   25\n",
      "148   30.0    193.0   6.9    70      9   26\n",
      "149    NaN    145.0  13.2    77      9   27\n",
      "150   14.0    191.0  14.3    75      9   28\n",
      "151   18.0    131.0   8.0    76      9   29\n",
      "152   20.0    223.0  11.5    68      9   30\n",
      "\n",
      "[153 rows x 6 columns]\n",
      "\n",
      "Column names\n",
      "============\n",
      "Index(['ozone', 'Solar.R', 'Wind', 'Temp', 'Month', 'Day'], dtype='object')\n",
      "\n",
      "Column names not consistent\n",
      "          Data\n",
      "0    -0.767812\n",
      "1    -2.421464\n",
      "2    -0.962860\n",
      "3     0.715560\n",
      "4     1.812641\n",
      "5    -0.228059\n",
      "6     1.031408\n",
      "7    -1.430440\n",
      "8    -0.794145\n",
      "9     0.789393\n",
      "10   40.000000\n",
      "11   -0.357801\n",
      "12   -0.044226\n",
      "13   -0.199077\n",
      "14    0.153459\n",
      "15    1.412750\n",
      "16    0.175934\n",
      "17   -0.528504\n",
      "18    0.824012\n",
      "19    0.327692\n",
      "20   -0.358279\n",
      "21   -1.001724\n",
      "22   -0.201113\n",
      "23   -0.225452\n",
      "24    0.703591\n",
      "25    0.410516\n",
      "26   -0.940783\n",
      "27    0.429477\n",
      "28    0.044664\n",
      "29   -0.335621\n",
      "..         ...\n",
      "170   0.727119\n",
      "171   1.301141\n",
      "172   0.650766\n",
      "173   1.289394\n",
      "174   0.312829\n",
      "175  -0.037184\n",
      "176   0.545502\n",
      "177  -0.677832\n",
      "178   0.577174\n",
      "179   0.356325\n",
      "180   0.550660\n",
      "181  -1.489181\n",
      "182   0.323618\n",
      "183  -0.260938\n",
      "184   1.152818\n",
      "185  -1.179411\n",
      "186   0.226033\n",
      "187  -1.149101\n",
      "188   0.731143\n",
      "189   1.014249\n",
      "190  -1.475575\n",
      "191   0.632887\n",
      "192  -0.033657\n",
      "193   0.532521\n",
      "194   1.357489\n",
      "195  -0.035883\n",
      "196  -0.587280\n",
      "197  -1.556105\n",
      "198   1.122121\n",
      "199   0.045724\n",
      "\n",
      "[200 rows x 1 columns]\n",
      "Outliers detected\n",
      "\n"
     ]
    },
    {
     "data": {
      "image/png": "[encoded data removed]",
      "text/plain": [
       "<matplotlib.figure.Figure at 0xa5e016a748>"
      ]
     },
     "metadata": {},
     "output_type": "display_data"
    },
    {
     "name": "stdout",
     "output_type": "stream",
     "text": [
      "<class 'pandas.core.frame.DataFrame'>\n",
      "RangeIndex: 153 entries, 0 to 152\n",
      "Data columns (total 6 columns):\n",
      "Ozone      116 non-null float64\n",
      "Solar.R    146 non-null float64\n",
      "Wind       153 non-null float64\n",
      "Temp       153 non-null int64\n",
      "Month      153 non-null int64\n",
      "Day        153 non-null int64\n",
      "dtypes: float64(3), int64(3)\n",
      "memory usage: 7.2 KB\n",
      "\n",
      "Missing value detected\n",
      "<class 'pandas.core.frame.DataFrame'>\n",
      "Int64Index: 111 entries, 0 to 152\n",
      "Data columns (total 6 columns):\n",
      "Ozone      111 non-null float64\n",
      "Solar.R    111 non-null float64\n",
      "Wind       111 non-null float64\n",
      "Temp       111 non-null int64\n",
      "Month      111 non-null int64\n",
      "Day        111 non-null int64\n",
      "dtypes: float64(3), int64(3)\n",
      "memory usage: 6.1 KB\n",
      "Orignial data\n",
      "   Ozone  Solar.R  Wind  Temp  Month  Day\n",
      "0   41.0    190.0   7.4    67      5    1\n",
      "1   36.0    118.0   8.0    72      5    2\n",
      "2   12.0    149.0  12.6    74      5    3\n",
      "3   18.0    313.0  11.5    62      5    4\n",
      "4    NaN      NaN  14.3    56      5    5\n",
      "\n",
      "Missing value detected\n",
      "\n",
      "Missing values filled\n",
      "     Ozone  Solar.R  Wind  Temp  Month  Day\n",
      "0       41    190.0   7.4    67      5    1\n",
      "1       36    118.0   8.0    72      5    2\n",
      "2       12    149.0  12.6    74      5    3\n",
      "3       18    313.0  11.5    62      5    4\n",
      "4  missing      NaN  14.3    56      5    5\n"
     ]
    }
   ],
   "source": [
    "typeconvert_test()\n",
    "duplicated_test()\n",
    "consistency_test()\n",
    "outlier_test()\n",
    "drop_missing_test()\n",
    "filling_missing_test()"
   ]
  },
  {
   "cell_type": "markdown",
   "metadata": {
    "collapsed": true
   },
   "source": [
    "## Detect data type\n",
    "Automatically detect data type for each feature"
   ]
  },
  {
   "cell_type": "markdown",
   "metadata": {},
   "source": [
    "In this case study, the data type detecting is based on the assumption that the dataset is clean, that is, common data problems such as missing values and outliers have been dealt with already."
   ]
  },
  {
   "cell_type": "code",
   "execution_count": 12,
   "metadata": {},
   "outputs": [
    {
     "data": {
      "text/plain": [
       "total_bill    float64\n",
       "tip           float64\n",
       "sex            object\n",
       "smoker         object\n",
       "day            object\n",
       "time           object\n",
       "size            int64\n",
       "dtype: object"
      ]
     },
     "execution_count": 12,
     "metadata": {},
     "output_type": "execute_result"
    }
   ],
   "source": [
    "df.dtypes"
   ]
  },
  {
   "cell_type": "markdown",
   "metadata": {},
   "source": [
    "The data type detected by pandas are very general as we can see from \"object\". We need the data type to be more concrete and precise."
   ]
  },
  {
   "cell_type": "code",
   "execution_count": 34,
   "metadata": {
    "collapsed": true
   },
   "outputs": [],
   "source": [
    "# Import all relevant libraries\n",
    "%matplotlib inline\n",
    "import matplotlib.pyplot as plt\n",
    "import pandas as pd\n",
    "import numpy as np\n",
    "import random"
   ]
  },
  {
   "cell_type": "code",
   "execution_count": 35,
   "metadata": {
    "collapsed": true
   },
   "outputs": [],
   "source": [
    "def infer_object(feature):\n",
    "    \"\"\"\n",
    "    Infer data types for features with \"object\" data type\n",
    "    Possible data types to infer: boolean, date, float, integer, string\n",
    "    Feature that is not either a boolean, a date, a float or an integer, is classified as a string\n",
    "    \"\"\"\n",
    "    data_type = \"\"\n",
    "    types = [\"date\",\"float64\",\"int64\",\"string\"]\n",
    "    weights = [0,0,0,0] #Weights corresponding to the data types\n",
    "    \n",
    "    feature_len = len(feature)\n",
    "    \n",
    "    indices_number = 100 #Number of different values to check in a feature\n",
    "    indices = random.sample(range(0,feature_len), min(indices_number,feature_len)) #Array of random indices\n",
    "    \n",
    "    # If the feature only contains two different unique values, then infer it as boolean\n",
    "    if len(pd.unique(feature)) == 2:\n",
    "        data_type = \"bool\"\n",
    "    else:\n",
    "        for i in indices:\n",
    "            try:\n",
    "                if (len(feature[i]) <= 10 \n",
    "                    and (((feature[i][2:3]=='-' or feature[i][2:3]=='/') \n",
    "                    and (feature[i][5:6]=='-' or feature[i][5:6]=='/')) \n",
    "                    or ((feature[i][4:5]=='-' or feature[i][4:5]=='/')\n",
    "                    and (feature[i][7:8]=='-' or feature[i][7:8]=='/')))):\n",
    "                    weights[0] += 1 #Date\n",
    "                else:\n",
    "                    weights[3] += 1 #String\n",
    "            except (TypeError,ValueError,IndexError):\n",
    "                try:\n",
    "                    int(feature[i])\n",
    "                    if ('.' in str(feature[i])):\n",
    "                        weights[1] += 1 #Float\n",
    "                    else:\n",
    "                        weights[2] += 1 #Integer\n",
    "                except (TypeError,ValueError,IndexError):\n",
    "                    weights[3] += 1 #String\n",
    "    \n",
    "        #print (\"Date: {}, Float64: {}, Int64: {}, String: {}\".format(weights[0],weights[1],weights[2],weights[3])) #For debugging purposes\n",
    "        data_type = types[weights.index(max(weights))]\n",
    "        \n",
    "    return data_type"
   ]
  },
  {
   "cell_type": "code",
   "execution_count": 36,
   "metadata": {
    "collapsed": true
   },
   "outputs": [],
   "source": [
    "def detect_data_type(df):\n",
    "    \"\"\"\n",
    "    Automatically infer data types for each feature in the dataframe\n",
    "    \"\"\"\n",
    "    result = []\n",
    "    \n",
    "    for column in df:\n",
    "        if (df.dtypes[column] == \"object\"):\n",
    "            #print (\"Trying to automatically infer the data type of the\",column,\"feature...\") #For debugging purposes\n",
    "            type_inferred = infer_object(df[column])\n",
    "            result.append(type_inferred)\n",
    "            #print (\"Result:\",inferredType) #For debugging purposes\n",
    "        elif (df.dtypes[column] == \"int64\"):\n",
    "            if (len(pd.unique(df[column])) == 2):\n",
    "                result.append(\"bool\")\n",
    "            else:\n",
    "                result.append(\"int64\")\n",
    "        else:\n",
    "            # The only remaining data type is 'float64', which needs no special treatment\n",
    "            result.append(\"float64\")\n",
    "        \n",
    "    return result"
   ]
  },
  {
   "cell_type": "code",
   "execution_count": 37,
   "metadata": {},
   "outputs": [
    {
     "name": "stdout",
     "output_type": "stream",
     "text": [
      "   total_bill   tip     sex smoker  day    time  size\n",
      "0       16.99  1.01  Female     No  Sun  Dinner     2\n",
      "1       10.34  1.66    Male     No  Sun  Dinner     3\n",
      "2       21.01  3.50    Male     No  Sun  Dinner     3\n",
      "3       23.68  3.31    Male     No  Sun  Dinner     2\n",
      "4       24.59  3.61  Female     No  Sun  Dinner     4\n",
      "\n",
      "Predicted data types:\n",
      " ['float64', 'float64', 'bool', 'bool', 'string', 'bool', 'int64']\n"
     ]
    }
   ],
   "source": [
    "df = get_data(\"tips.csv\")\n",
    "print(df.head())\n",
    "predicted = detect_data_type(df)\n",
    "print (\"\\nPredicted data types:\\n\",predicted)"
   ]
  },
  {
   "cell_type": "code",
   "execution_count": null,
   "metadata": {
    "collapsed": true
   },
   "outputs": [],
   "source": []
  }
 ],
 "metadata": {
  "kernelspec": {
   "display_name": "Python 3",
   "language": "python",
   "name": "python3"
  },
  "language_info": {
   "codemirror_mode": {
    "name": "ipython",
    "version": 3
   },
   "file_extension": ".py",
   "mimetype": "text/x-python",
   "name": "python",
   "nbconvert_exporter": "python",
   "pygments_lexer": "ipython3",
   "version": "3.6.3"
  }
 },
 "nbformat": 4,
 "nbformat_minor": 2
}
