{
 "cells": [
  {
   "cell_type": "markdown",
   "metadata": {},
   "source": [
    "# Evaluation of the Performance Prediction Model for Outlier Detection"
   ]
  },
  {
   "cell_type": "markdown",
   "metadata": {},
   "source": [
    "We now have computed metafeatures and performance of each of 3 outlier detection algorithms for each dataset in table_computed.txt. Based on this, we can train three regressors to predict the performance of isolaiton forest, local outlier factor and one class svm on a given dataset."
   ]
  },
  {
   "cell_type": "code",
   "execution_count": 84,
   "metadata": {
    "collapsed": true
   },
   "outputs": [],
   "source": [
    "import matplotlib.pyplot as plt  \n",
    "import scipy\n",
    "import numpy as np\n",
    "import pandas as pd\n",
    "import openml as oml\n",
    "import pickle"
   ]
  },
  {
   "cell_type": "code",
   "execution_count": 21,
   "metadata": {
    "collapsed": true
   },
   "outputs": [],
   "source": [
    "plt.rcParams['figure.dpi']= 120\n",
    "plt.rcParams['xtick.labelsize'] = 8\n",
    "plt.rcParams['ytick.labelsize'] = 8 "
   ]
  },
  {
   "cell_type": "markdown",
   "metadata": {},
   "source": [
    "## Load Computed Table"
   ]
  },
  {
   "cell_type": "code",
   "execution_count": 3,
   "metadata": {},
   "outputs": [
    {
     "data": {
      "text/html": [
       "<div>\n",
       "<style scoped>\n",
       "    .dataframe tbody tr th:only-of-type {\n",
       "        vertical-align: middle;\n",
       "    }\n",
       "\n",
       "    .dataframe tbody tr th {\n",
       "        vertical-align: top;\n",
       "    }\n",
       "\n",
       "    .dataframe thead th {\n",
       "        text-align: right;\n",
       "    }\n",
       "</style>\n",
       "<table border=\"1\" class=\"dataframe\">\n",
       "  <thead>\n",
       "    <tr style=\"text-align: right;\">\n",
       "      <th></th>\n",
       "      <th>name</th>\n",
       "      <th>contamination(%)</th>\n",
       "      <th>metafeatures</th>\n",
       "      <th>isolation_forest_auroc</th>\n",
       "      <th>lof_auroc</th>\n",
       "      <th>ocsvm_auroc</th>\n",
       "    </tr>\n",
       "  </thead>\n",
       "  <tbody>\n",
       "    <tr>\n",
       "      <th>0</th>\n",
       "      <td>lymph</td>\n",
       "      <td>4.10</td>\n",
       "      <td>[0.7071230158730157, 0.8857142857142858, 0.757...</td>\n",
       "      <td>0.996479</td>\n",
       "      <td>0.909624</td>\n",
       "      <td>0.610329</td>\n",
       "    </tr>\n",
       "    <tr>\n",
       "      <th>1</th>\n",
       "      <td>glass</td>\n",
       "      <td>4.20</td>\n",
       "      <td>[0.459828722002635, 0.6049174979609763, 0.7060...</td>\n",
       "      <td>0.536043</td>\n",
       "      <td>0.594038</td>\n",
       "      <td>0.506775</td>\n",
       "    </tr>\n",
       "    <tr>\n",
       "      <th>2</th>\n",
       "      <td>wdbc</td>\n",
       "      <td>37.26</td>\n",
       "      <td>[0.9386796733212339, 0.9543805634776596, 0.915...</td>\n",
       "      <td>0.654167</td>\n",
       "      <td>0.612818</td>\n",
       "      <td>0.484052</td>\n",
       "    </tr>\n",
       "    <tr>\n",
       "      <th>3</th>\n",
       "      <td>speech</td>\n",
       "      <td>1.65</td>\n",
       "      <td>[0.9631008911881127, 0.9763895974447406, 0.982...</td>\n",
       "      <td>0.499921</td>\n",
       "      <td>0.508256</td>\n",
       "      <td>0.516767</td>\n",
       "    </tr>\n",
       "    <tr>\n",
       "      <th>4</th>\n",
       "      <td>satellite_image</td>\n",
       "      <td>32.00</td>\n",
       "      <td>[0.7878128466652179, 0.8296717347643972, 0.882...</td>\n",
       "      <td>0.712866</td>\n",
       "      <td>0.538993</td>\n",
       "      <td>0.493408</td>\n",
       "    </tr>\n",
       "    <tr>\n",
       "      <th>5</th>\n",
       "      <td>baseball</td>\n",
       "      <td>9.33</td>\n",
       "      <td>[0.8382204418025314, 0.9268990960742729, 0.900...</td>\n",
       "      <td>0.757366</td>\n",
       "      <td>0.589728</td>\n",
       "      <td>0.510074</td>\n",
       "    </tr>\n",
       "    <tr>\n",
       "      <th>6</th>\n",
       "      <td>ecoli</td>\n",
       "      <td>2.68</td>\n",
       "      <td>[0.7472514035325506, 0.8585529525902041, 0.808...</td>\n",
       "      <td>0.828746</td>\n",
       "      <td>0.657492</td>\n",
       "      <td>0.690112</td>\n",
       "    </tr>\n",
       "    <tr>\n",
       "      <th>7</th>\n",
       "      <td>phoneme</td>\n",
       "      <td>29.35</td>\n",
       "      <td>[0.7605367194395449, 0.7588796499200512, 0.904...</td>\n",
       "      <td>0.549767</td>\n",
       "      <td>0.546197</td>\n",
       "      <td>0.526092</td>\n",
       "    </tr>\n",
       "    <tr>\n",
       "      <th>8</th>\n",
       "      <td>click_prediction_small</td>\n",
       "      <td>16.84</td>\n",
       "      <td>[0.8099027765678555, 0.8315560261543755, 0.732...</td>\n",
       "      <td>0.513930</td>\n",
       "      <td>0.504100</td>\n",
       "      <td>0.496262</td>\n",
       "    </tr>\n",
       "    <tr>\n",
       "      <th>9</th>\n",
       "      <td>musk</td>\n",
       "      <td>15.41</td>\n",
       "      <td>[0.8414119011459457, 0.9536296918760492, 0.720...</td>\n",
       "      <td>0.418187</td>\n",
       "      <td>0.494910</td>\n",
       "      <td>0.576733</td>\n",
       "    </tr>\n",
       "    <tr>\n",
       "      <th>10</th>\n",
       "      <td>credit_g</td>\n",
       "      <td>30.00</td>\n",
       "      <td>[0.7300000000000001, 0.76, 0.6060000000000001,...</td>\n",
       "      <td>0.530952</td>\n",
       "      <td>0.476190</td>\n",
       "      <td>0.503571</td>\n",
       "    </tr>\n",
       "    <tr>\n",
       "      <th>11</th>\n",
       "      <td>diabetes</td>\n",
       "      <td>34.89</td>\n",
       "      <td>[0.7564935064935066, 0.765686944634313, 0.6796...</td>\n",
       "      <td>0.644657</td>\n",
       "      <td>0.515701</td>\n",
       "      <td>0.468373</td>\n",
       "    </tr>\n",
       "    <tr>\n",
       "      <th>12</th>\n",
       "      <td>breast_w</td>\n",
       "      <td>34.48</td>\n",
       "      <td>[0.9586501618406089, 0.9586909864987024, 0.951...</td>\n",
       "      <td>0.943005</td>\n",
       "      <td>0.341390</td>\n",
       "      <td>0.877716</td>\n",
       "    </tr>\n",
       "    <tr>\n",
       "      <th>13</th>\n",
       "      <td>blood_transfusion_service_center</td>\n",
       "      <td>23.79</td>\n",
       "      <td>[0.7473513513513513, 0.7687207207207207, 0.569...</td>\n",
       "      <td>0.498679</td>\n",
       "      <td>0.488853</td>\n",
       "      <td>0.568441</td>\n",
       "    </tr>\n",
       "    <tr>\n",
       "      <th>14</th>\n",
       "      <td>heart</td>\n",
       "      <td>45.54</td>\n",
       "      <td>[0.8178680014831293, 0.827982944011865, 0.5914...</td>\n",
       "      <td>0.614097</td>\n",
       "      <td>0.520949</td>\n",
       "      <td>0.491436</td>\n",
       "    </tr>\n",
       "    <tr>\n",
       "      <th>15</th>\n",
       "      <td>arrhythmia</td>\n",
       "      <td>45.79</td>\n",
       "      <td>[0.16748182967615627, 0.7107932335427034, 0.52...</td>\n",
       "      <td>0.674692</td>\n",
       "      <td>0.683604</td>\n",
       "      <td>0.529183</td>\n",
       "    </tr>\n",
       "    <tr>\n",
       "      <th>16</th>\n",
       "      <td>spambase</td>\n",
       "      <td>39.40</td>\n",
       "      <td>[0.8216885343215848, 0.8676362405756416, 0.787...</td>\n",
       "      <td>0.592028</td>\n",
       "      <td>0.471419</td>\n",
       "      <td>0.629508</td>\n",
       "    </tr>\n",
       "    <tr>\n",
       "      <th>17</th>\n",
       "      <td>kc2</td>\n",
       "      <td>20.49</td>\n",
       "      <td>[0.8284612538774582, 0.8437035772218902, 0.603...</td>\n",
       "      <td>0.723747</td>\n",
       "      <td>0.546211</td>\n",
       "      <td>0.562121</td>\n",
       "    </tr>\n",
       "    <tr>\n",
       "      <th>18</th>\n",
       "      <td>ilpd</td>\n",
       "      <td>28.64</td>\n",
       "      <td>[0.5581480000410143, 0.7102079424159463, 0.641...</td>\n",
       "      <td>0.391589</td>\n",
       "      <td>0.408373</td>\n",
       "      <td>0.470506</td>\n",
       "    </tr>\n",
       "    <tr>\n",
       "      <th>19</th>\n",
       "      <td>pc1</td>\n",
       "      <td>6.94</td>\n",
       "      <td>[0.8917911255411255, 0.9341346378846378, 0.890...</td>\n",
       "      <td>0.609232</td>\n",
       "      <td>0.532474</td>\n",
       "      <td>0.463027</td>\n",
       "    </tr>\n",
       "    <tr>\n",
       "      <th>20</th>\n",
       "      <td>abalone</td>\n",
       "      <td>0.43</td>\n",
       "      <td>[0.23440718746259237, 0.2625402713501458, 0.20...</td>\n",
       "      <td>0.553632</td>\n",
       "      <td>0.497836</td>\n",
       "      <td>0.584422</td>\n",
       "    </tr>\n",
       "    <tr>\n",
       "      <th>21</th>\n",
       "      <td>speed_dating</td>\n",
       "      <td>16.47</td>\n",
       "      <td>[0.7598620485139848, 0.8438764424598592, 0.667...</td>\n",
       "      <td>0.515048</td>\n",
       "      <td>0.503770</td>\n",
       "      <td>0.498101</td>\n",
       "    </tr>\n",
       "    <tr>\n",
       "      <th>22</th>\n",
       "      <td>cardiotocography</td>\n",
       "      <td>12.94</td>\n",
       "      <td>[0.9995283018867924, 0.999052111410602, 0.3706...</td>\n",
       "      <td>0.601134</td>\n",
       "      <td>0.553102</td>\n",
       "      <td>0.517271</td>\n",
       "    </tr>\n",
       "    <tr>\n",
       "      <th>23</th>\n",
       "      <td>sick</td>\n",
       "      <td>6.12</td>\n",
       "      <td>[0.41410944619023954, 0.954667105253949, 0.908...</td>\n",
       "      <td>0.481216</td>\n",
       "      <td>0.529636</td>\n",
       "      <td>0.521692</td>\n",
       "    </tr>\n",
       "    <tr>\n",
       "      <th>24</th>\n",
       "      <td>adult</td>\n",
       "      <td>23.93</td>\n",
       "      <td>[0.7952380584336447, 0.8279558426270286, 0.740...</td>\n",
       "      <td>0.510195</td>\n",
       "      <td>0.504740</td>\n",
       "      <td>0.499279</td>\n",
       "    </tr>\n",
       "    <tr>\n",
       "      <th>25</th>\n",
       "      <td>jm1</td>\n",
       "      <td>19.35</td>\n",
       "      <td>[0.8043280130459559, 0.8091978209443166, 0.709...</td>\n",
       "      <td>0.619321</td>\n",
       "      <td>0.495686</td>\n",
       "      <td>0.506230</td>\n",
       "    </tr>\n",
       "    <tr>\n",
       "      <th>26</th>\n",
       "      <td>scene</td>\n",
       "      <td>17.91</td>\n",
       "      <td>[0.8486876736051574, 0.977164420515986, 0.9057...</td>\n",
       "      <td>0.429096</td>\n",
       "      <td>0.492687</td>\n",
       "      <td>0.432055</td>\n",
       "    </tr>\n",
       "    <tr>\n",
       "      <th>27</th>\n",
       "      <td>climate_model_simulation_crashes</td>\n",
       "      <td>8.52</td>\n",
       "      <td>[0.8926681913474367, 0.9111219109332318, 0.846...</td>\n",
       "      <td>0.524732</td>\n",
       "      <td>0.477205</td>\n",
       "      <td>0.522443</td>\n",
       "    </tr>\n",
       "    <tr>\n",
       "      <th>28</th>\n",
       "      <td>quake</td>\n",
       "      <td>44.49</td>\n",
       "      <td>[0.5555470608222901, 0.5592167855929324, 0.517...</td>\n",
       "      <td>0.516628</td>\n",
       "      <td>0.501755</td>\n",
       "      <td>0.491863</td>\n",
       "    </tr>\n",
       "    <tr>\n",
       "      <th>29</th>\n",
       "      <td>yeast</td>\n",
       "      <td>0.34</td>\n",
       "      <td>[0.1415132588916947, 0.5794285405806632, 0.484...</td>\n",
       "      <td>0.598310</td>\n",
       "      <td>0.497972</td>\n",
       "      <td>0.974645</td>\n",
       "    </tr>\n",
       "    <tr>\n",
       "      <th>30</th>\n",
       "      <td>churn</td>\n",
       "      <td>14.14</td>\n",
       "      <td>[0.8728044864179456, 0.8594024584098336, 0.805...</td>\n",
       "      <td>0.561801</td>\n",
       "      <td>0.550269</td>\n",
       "      <td>0.499116</td>\n",
       "    </tr>\n",
       "    <tr>\n",
       "      <th>31</th>\n",
       "      <td>wilt</td>\n",
       "      <td>5.39</td>\n",
       "      <td>[0.8886251552530433, 0.9431650876323058, 0.978...</td>\n",
       "      <td>0.475544</td>\n",
       "      <td>0.516042</td>\n",
       "      <td>0.488626</td>\n",
       "    </tr>\n",
       "  </tbody>\n",
       "</table>\n",
       "</div>"
      ],
      "text/plain": [
       "                                name  contamination(%)  \\\n",
       "0                              lymph              4.10   \n",
       "1                              glass              4.20   \n",
       "2                               wdbc             37.26   \n",
       "3                             speech              1.65   \n",
       "4                    satellite_image             32.00   \n",
       "5                           baseball              9.33   \n",
       "6                              ecoli              2.68   \n",
       "7                            phoneme             29.35   \n",
       "8             click_prediction_small             16.84   \n",
       "9                               musk             15.41   \n",
       "10                          credit_g             30.00   \n",
       "11                          diabetes             34.89   \n",
       "12                          breast_w             34.48   \n",
       "13  blood_transfusion_service_center             23.79   \n",
       "14                             heart             45.54   \n",
       "15                        arrhythmia             45.79   \n",
       "16                          spambase             39.40   \n",
       "17                               kc2             20.49   \n",
       "18                              ilpd             28.64   \n",
       "19                               pc1              6.94   \n",
       "20                           abalone              0.43   \n",
       "21                      speed_dating             16.47   \n",
       "22                  cardiotocography             12.94   \n",
       "23                              sick              6.12   \n",
       "24                             adult             23.93   \n",
       "25                               jm1             19.35   \n",
       "26                             scene             17.91   \n",
       "27  climate_model_simulation_crashes              8.52   \n",
       "28                             quake             44.49   \n",
       "29                             yeast              0.34   \n",
       "30                             churn             14.14   \n",
       "31                              wilt              5.39   \n",
       "\n",
       "                                         metafeatures  isolation_forest_auroc  \\\n",
       "0   [0.7071230158730157, 0.8857142857142858, 0.757...                0.996479   \n",
       "1   [0.459828722002635, 0.6049174979609763, 0.7060...                0.536043   \n",
       "2   [0.9386796733212339, 0.9543805634776596, 0.915...                0.654167   \n",
       "3   [0.9631008911881127, 0.9763895974447406, 0.982...                0.499921   \n",
       "4   [0.7878128466652179, 0.8296717347643972, 0.882...                0.712866   \n",
       "5   [0.8382204418025314, 0.9268990960742729, 0.900...                0.757366   \n",
       "6   [0.7472514035325506, 0.8585529525902041, 0.808...                0.828746   \n",
       "7   [0.7605367194395449, 0.7588796499200512, 0.904...                0.549767   \n",
       "8   [0.8099027765678555, 0.8315560261543755, 0.732...                0.513930   \n",
       "9   [0.8414119011459457, 0.9536296918760492, 0.720...                0.418187   \n",
       "10  [0.7300000000000001, 0.76, 0.6060000000000001,...                0.530952   \n",
       "11  [0.7564935064935066, 0.765686944634313, 0.6796...                0.644657   \n",
       "12  [0.9586501618406089, 0.9586909864987024, 0.951...                0.943005   \n",
       "13  [0.7473513513513513, 0.7687207207207207, 0.569...                0.498679   \n",
       "14  [0.8178680014831293, 0.827982944011865, 0.5914...                0.614097   \n",
       "15  [0.16748182967615627, 0.7107932335427034, 0.52...                0.674692   \n",
       "16  [0.8216885343215848, 0.8676362405756416, 0.787...                0.592028   \n",
       "17  [0.8284612538774582, 0.8437035772218902, 0.603...                0.723747   \n",
       "18  [0.5581480000410143, 0.7102079424159463, 0.641...                0.391589   \n",
       "19  [0.8917911255411255, 0.9341346378846378, 0.890...                0.609232   \n",
       "20  [0.23440718746259237, 0.2625402713501458, 0.20...                0.553632   \n",
       "21  [0.7598620485139848, 0.8438764424598592, 0.667...                0.515048   \n",
       "22  [0.9995283018867924, 0.999052111410602, 0.3706...                0.601134   \n",
       "23  [0.41410944619023954, 0.954667105253949, 0.908...                0.481216   \n",
       "24  [0.7952380584336447, 0.8279558426270286, 0.740...                0.510195   \n",
       "25  [0.8043280130459559, 0.8091978209443166, 0.709...                0.619321   \n",
       "26  [0.8486876736051574, 0.977164420515986, 0.9057...                0.429096   \n",
       "27  [0.8926681913474367, 0.9111219109332318, 0.846...                0.524732   \n",
       "28  [0.5555470608222901, 0.5592167855929324, 0.517...                0.516628   \n",
       "29  [0.1415132588916947, 0.5794285405806632, 0.484...                0.598310   \n",
       "30  [0.8728044864179456, 0.8594024584098336, 0.805...                0.561801   \n",
       "31  [0.8886251552530433, 0.9431650876323058, 0.978...                0.475544   \n",
       "\n",
       "    lof_auroc  ocsvm_auroc  \n",
       "0    0.909624     0.610329  \n",
       "1    0.594038     0.506775  \n",
       "2    0.612818     0.484052  \n",
       "3    0.508256     0.516767  \n",
       "4    0.538993     0.493408  \n",
       "5    0.589728     0.510074  \n",
       "6    0.657492     0.690112  \n",
       "7    0.546197     0.526092  \n",
       "8    0.504100     0.496262  \n",
       "9    0.494910     0.576733  \n",
       "10   0.476190     0.503571  \n",
       "11   0.515701     0.468373  \n",
       "12   0.341390     0.877716  \n",
       "13   0.488853     0.568441  \n",
       "14   0.520949     0.491436  \n",
       "15   0.683604     0.529183  \n",
       "16   0.471419     0.629508  \n",
       "17   0.546211     0.562121  \n",
       "18   0.408373     0.470506  \n",
       "19   0.532474     0.463027  \n",
       "20   0.497836     0.584422  \n",
       "21   0.503770     0.498101  \n",
       "22   0.553102     0.517271  \n",
       "23   0.529636     0.521692  \n",
       "24   0.504740     0.499279  \n",
       "25   0.495686     0.506230  \n",
       "26   0.492687     0.432055  \n",
       "27   0.477205     0.522443  \n",
       "28   0.501755     0.491863  \n",
       "29   0.497972     0.974645  \n",
       "30   0.550269     0.499116  \n",
       "31   0.516042     0.488626  "
      ]
     },
     "execution_count": 3,
     "metadata": {},
     "output_type": "execute_result"
    }
   ],
   "source": [
    "# read computed table\n",
    "with open(\"table_computed.txt\", \"rb\") as fp: # Unpickling\n",
    "    datasets = pickle.load(fp)\n",
    "df = pd.DataFrame(datasets)\n",
    "cols = ['name', 'contamination(%)', 'metafeatures', 'isolation_forest_auroc', 'lof_auroc', 'ocsvm_auroc']\n",
    "df = df[cols]\n",
    "df"
   ]
  },
  {
   "cell_type": "code",
   "execution_count": 51,
   "metadata": {},
   "outputs": [
    {
     "data": {
      "text/plain": [
       "(32, 5)"
      ]
     },
     "execution_count": 51,
     "metadata": {},
     "output_type": "execute_result"
    }
   ],
   "source": [
    "# metafeatures\n",
    "X = np.asarray(df['metafeatures'].tolist())\n",
    "# X.shape"
   ]
  },
  {
   "cell_type": "code",
   "execution_count": 27,
   "metadata": {
    "collapsed": true
   },
   "outputs": [],
   "source": [
    "# target: auroc socre of 3 outlier detection classifiers \n",
    "y_isolation_forest = df['isolation_forest_auroc'].values\n",
    "y_lof = df['lof_auroc'].values\n",
    "y_ocsvm = df['ocsvm_auroc'].values"
   ]
  },
  {
   "cell_type": "markdown",
   "metadata": {},
   "source": [
    "## Plot Performance of 3 Outlier Detection Algorithms on Benchmark Datasets"
   ]
  },
  {
   "cell_type": "code",
   "execution_count": 25,
   "metadata": {},
   "outputs": [
    {
     "data": {
      "text/html": [
       "<iframe id=\"igraph\" scrolling=\"no\" style=\"border:none;\" seamless=\"seamless\" src=\"https://plot.ly/~zhangji0218/28.embed\" height=\"525px\" width=\"100%\"></iframe>"
      ],
      "text/plain": [
       "<plotly.tools.PlotlyDisplay object>"
      ]
     },
     "execution_count": 25,
     "metadata": {},
     "output_type": "execute_result"
    }
   ],
   "source": [
    "import plotly.plotly as py\n",
    "import plotly.graph_objs as go\n",
    "\n",
    "trace1 = go.Bar(\n",
    "    x = df['name'].tolist(),\n",
    "    y = y_isolation_forest.tolist(),\n",
    "    name = 'isolation forest'\n",
    ")\n",
    "trace2 = go.Bar(\n",
    "    x = df['name'].tolist(),\n",
    "    y = y_lof.tolist(),\n",
    "    name = 'local outlier factor'\n",
    ")\n",
    "trace3 = go.Bar(\n",
    "    x = df['name'].tolist(),\n",
    "    y = y_ocsvm.tolist(),\n",
    "    name = 'one class svm'\n",
    ")\n",
    "\n",
    "data = [trace1, trace2, trace3]\n",
    "layout = go.Layout(\n",
    "    barmode='group'\n",
    ")\n",
    "\n",
    "fig = go.Figure(data=data, layout=layout)\n",
    "py.iplot(fig, filename='grouped-bar')"
   ]
  },
  {
   "cell_type": "markdown",
   "metadata": {},
   "source": [
    "## Train Regressors"
   ]
  },
  {
   "cell_type": "code",
   "execution_count": 86,
   "metadata": {
    "collapsed": true
   },
   "outputs": [],
   "source": [
    "from sklearn.externals import joblib"
   ]
  },
  {
   "cell_type": "code",
   "execution_count": 87,
   "metadata": {},
   "outputs": [
    {
     "data": {
      "text/plain": [
       "KNeighborsRegressor(algorithm='auto', leaf_size=30, metric='minkowski',\n",
       "          metric_params=None, n_jobs=1, n_neighbors=3, p=2,\n",
       "          weights='uniform')"
      ]
     },
     "execution_count": 87,
     "metadata": {},
     "output_type": "execute_result"
    }
   ],
   "source": [
    "neigh_isolation_forest = KNeighborsRegressor(n_neighbors=3)\n",
    "neigh_isolation_forest.fit(X, y_isolation_forest)"
   ]
  },
  {
   "cell_type": "code",
   "execution_count": 88,
   "metadata": {},
   "outputs": [
    {
     "data": {
      "text/plain": [
       "['isolation_forest_regressor.pkl']"
      ]
     },
     "execution_count": 88,
     "metadata": {},
     "output_type": "execute_result"
    }
   ],
   "source": [
    "# save trained regressor\n",
    "joblib.dump(neigh_isolation_forest, 'isolation_forest_regressor.pkl') "
   ]
  },
  {
   "cell_type": "code",
   "execution_count": 91,
   "metadata": {},
   "outputs": [
    {
     "data": {
      "text/plain": [
       "KNeighborsRegressor(algorithm='auto', leaf_size=30, metric='minkowski',\n",
       "          metric_params=None, n_jobs=1, n_neighbors=3, p=2,\n",
       "          weights='uniform')"
      ]
     },
     "execution_count": 91,
     "metadata": {},
     "output_type": "execute_result"
    }
   ],
   "source": [
    "neigh_lof = KNeighborsRegressor(n_neighbors=3)\n",
    "neigh_lof.fit(X, y_lof)"
   ]
  },
  {
   "cell_type": "code",
   "execution_count": 93,
   "metadata": {},
   "outputs": [
    {
     "data": {
      "text/plain": [
       "['lof_regressor.pkl']"
      ]
     },
     "execution_count": 93,
     "metadata": {},
     "output_type": "execute_result"
    }
   ],
   "source": [
    "# save trained regressor\n",
    "joblib.dump(neigh_lof, 'lof_regressor.pkl') "
   ]
  },
  {
   "cell_type": "code",
   "execution_count": 94,
   "metadata": {},
   "outputs": [
    {
     "data": {
      "text/plain": [
       "KNeighborsRegressor(algorithm='auto', leaf_size=30, metric='minkowski',\n",
       "          metric_params=None, n_jobs=1, n_neighbors=3, p=2,\n",
       "          weights='uniform')"
      ]
     },
     "execution_count": 94,
     "metadata": {},
     "output_type": "execute_result"
    }
   ],
   "source": [
    "neigh_ocsvm = KNeighborsRegressor(n_neighbors=3)\n",
    "neigh_ocsvm.fit(X, y_ocsvm)"
   ]
  },
  {
   "cell_type": "code",
   "execution_count": 95,
   "metadata": {},
   "outputs": [
    {
     "data": {
      "text/plain": [
       "['ocsvm_regressor.pkl']"
      ]
     },
     "execution_count": 95,
     "metadata": {},
     "output_type": "execute_result"
    }
   ],
   "source": [
    "# save trained regressor\n",
    "joblib.dump(neigh_ocsvm, 'ocsvm_regressor.pkl') "
   ]
  },
  {
   "cell_type": "markdown",
   "metadata": {},
   "source": [
    "## Evaluation"
   ]
  },
  {
   "cell_type": "markdown",
   "metadata": {},
   "source": [
    "To evaluate our model, we divide the datasets into 8 sets. We take one set out for testing and the other sets for training in each iteration. And count the number of that our model correctly predicts the superior algorithm among 3."
   ]
  },
  {
   "cell_type": "code",
   "execution_count": 184,
   "metadata": {
    "collapsed": true
   },
   "outputs": [],
   "source": [
    "def computed_score(ground_truth, predicted):\n",
    "    correctPredictions = 0\n",
    "    \n",
    "    for i in range(0,len(ground_truth)):\n",
    "        if ground_truth[i] == predicted[i]:\n",
    "            correctPredictions += 1\n",
    "        \n",
    "    return correctPredictions / len(ground_truth)"
   ]
  },
  {
   "cell_type": "code",
   "execution_count": 185,
   "metadata": {},
   "outputs": [
    {
     "name": "stdout",
     "output_type": "stream",
     "text": [
      "[0.5822931  0.59654332 0.6604442  0.67592692 0.58921228 0.53650246\n",
      " 0.5822931  0.57384798 0.54818792 0.56525482]\n",
      "[0.49728681 0.56111049 0.45551697 0.46330227 0.48777044 0.50857368\n",
      " 0.49728681 0.49061482 0.50139824 0.51998268]\n",
      "[0.53238648 0.66523029 0.59093256 0.60978974 0.53381737 0.49136559\n",
      " 0.53238648 0.5450056  0.50120339 0.49486207]\n"
     ]
    }
   ],
   "source": [
    "# training\n",
    "neigh_isolation_forest = KNeighborsRegressor(n_neighbors=3)\n",
    "neigh_isolation_forest.fit(X[10:,:], y_isolation_forest[10:])\n",
    "neigh_lof = KNeighborsRegressor(n_neighbors=3)\n",
    "neigh_lof.fit(X[10:,:], y_lof[10:])\n",
    "neigh_ocsvm = KNeighborsRegressor(n_neighbors=3)\n",
    "neigh_ocsvm.fit(X[10:,:], y_ocsvm[10:])\n",
    "# testing\n",
    "y_isolation_forest_pred = neigh_isolation_forest.predict(X[:10,:])\n",
    "print(y_isolation_forest_pred)\n",
    "y_lof_pred = neigh_lof.predict(X[:10,:])\n",
    "print(y_lof_pred)\n",
    "y_ocsvm_pred = neigh_ocsvm.predict(X[:10,:])\n",
    "print(y_ocsvm_pred)"
   ]
  },
  {
   "cell_type": "code",
   "execution_count": 187,
   "metadata": {},
   "outputs": [
    {
     "name": "stdout",
     "output_type": "stream",
     "text": [
      "[0, 2, 0, 0, 0, 0, 0, 0, 0, 0]\n"
     ]
    }
   ],
   "source": [
    "df_pred = pd.DataFrame([y_isolation_forest_pred, y_lof_pred, y_ocsvm_pred])\n",
    "\n",
    "predicted = []\n",
    "for i in range(10):\n",
    "    predicted.append(df_pred[i].idxmax())\n",
    "print(predicted)"
   ]
  },
  {
   "cell_type": "code",
   "execution_count": 190,
   "metadata": {},
   "outputs": [
    {
     "name": "stdout",
     "output_type": "stream",
     "text": [
      "[0, 1, 0, 2, 0, 0, 0, 0, 0, 2]\n",
      "The accuracy of model is 0.7\n"
     ]
    }
   ],
   "source": [
    "ground_truth = [0, 1, 0, 2, 0, 0, 0, 0, 0, 2] # 0: isolation, 1: lof, 2: ocsvm\n",
    "print(ground_truth)\n",
    "accuracy = computed_score(ground_truth, predicted)\n",
    "print(\"The accuracy of model is {}\".format(accuracy))"
   ]
  },
  {
   "cell_type": "markdown",
   "metadata": {},
   "source": [
    "## Further Explanation\n",
    "If we evaluate the r2 score of our regressor as below, the result will be disappoiting. One possible reason is that, to predict the performance of an outlier detection algorithm, the number of our benchmark datasets is not enough. Another reason could be the benmark datasets is not various enough. It could also be the landmark metafeatures are not enough for the outlier detection case. However, we do not really care if our regressors can predict the accurate performance of an algorithm. We care more about our model can tell which algorithm performs better. That is why we choose the above approach to evaluate our models.   "
   ]
  },
  {
   "cell_type": "code",
   "execution_count": 191,
   "metadata": {},
   "outputs": [
    {
     "name": "stdout",
     "output_type": "stream",
     "text": [
      "-2.1362006577851487\n"
     ]
    }
   ],
   "source": [
    "from sklearn.model_selection import cross_val_score\n",
    "knn = KNeighborsRegressor(n_neighbors=3)\n",
    "score_knn_isolation_forest = cross_val_score(knn, X, y_isolation_forest, scoring='r2', cv=5).mean()\n",
    "print(score_knn_isolation_forest)"
   ]
  },
  {
   "cell_type": "code",
   "execution_count": 83,
   "metadata": {},
   "outputs": [
    {
     "name": "stdout",
     "output_type": "stream",
     "text": [
      "[0.47374036]\n",
      "[0.45780546]\n",
      "[0.51417277]\n"
     ]
    }
   ],
   "source": [
    "# Example of predict the algorithm performance of a given dataset 18\n",
    "mf = np.array([datasets[18]['metafeatures']])\n",
    "print(neigh_isolation_forest.predict(mf))\n",
    "print(neigh_lof.predict(mf))\n",
    "print(neigh_ocsvm.predict(mf))"
   ]
  },
  {
   "cell_type": "code",
   "execution_count": 189,
   "metadata": {},
   "outputs": [
    {
     "data": {
      "text/plain": [
       "array([[0.93867967, 0.95438056, 0.91580676, 0.88240753, 0.80849322],\n",
       "       [0.96310089, 0.9763896 , 0.98264106, 0.98345187, 0.98345187],\n",
       "       [0.83822044, 0.9268991 , 0.90011543, 0.90675964, 0.91721394],\n",
       "       [0.7472514 , 0.85855295, 0.80822916, 0.6323873 , 0.55386017],\n",
       "       [0.76053672, 0.75887965, 0.90451414, 0.75388822, 0.70651428]])"
      ]
     },
     "execution_count": 189,
     "metadata": {},
     "output_type": "execute_result"
    }
   ],
   "source": [
    "# Example of concatenate numpy array\n",
    "np.concatenate((X[2:4],X[5:8]), axis=0)"
   ]
  },
  {
   "cell_type": "code",
   "execution_count": null,
   "metadata": {
    "collapsed": true
   },
   "outputs": [],
   "source": []
  }
 ],
 "metadata": {
  "kernelspec": {
   "display_name": "Python 3",
   "language": "python",
   "name": "python3"
  },
  "language_info": {
   "codemirror_mode": {
    "name": "ipython",
    "version": 3
   },
   "file_extension": ".py",
   "mimetype": "text/x-python",
   "name": "python",
   "nbconvert_exporter": "python",
   "pygments_lexer": "ipython3",
   "version": "3.6.3"
  }
 },
 "nbformat": 4,
 "nbformat_minor": 2
}
