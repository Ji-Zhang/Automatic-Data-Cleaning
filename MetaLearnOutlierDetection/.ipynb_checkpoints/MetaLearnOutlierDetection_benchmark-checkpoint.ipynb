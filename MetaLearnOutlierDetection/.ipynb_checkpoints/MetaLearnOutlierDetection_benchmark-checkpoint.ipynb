{
 "cells": [
  {
   "cell_type": "markdown",
   "metadata": {},
   "source": [
    "# Meta-Learn Outlier Detection Benchmark"
   ]
  },
  {
   "cell_type": "code",
   "execution_count": 1,
   "metadata": {
    "collapsed": true
   },
   "outputs": [],
   "source": [
    "import time\n",
    "import scipy\n",
    "import numpy as np\n",
    "import pandas as pd\n",
    "import openml as oml\n",
    "\n",
    "from sklearn import preprocessing\n",
    "from sklearn.pipeline import Pipeline\n",
    "from sklearn.preprocessing import Imputer\n",
    "from sklearn.model_selection import cross_val_score  \n",
    "from sklearn.neighbors import KNeighborsClassifier\n",
    "from sklearn.discriminant_analysis import LinearDiscriminantAnalysis\n",
    "from sklearn.naive_bayes import GaussianNB\n",
    "from sklearn.tree import DecisionTreeClassifier\n",
    "from sklearn.metrics import roc_auc_score\n",
    "from sklearn.neighbors import LocalOutlierFactor\n",
    "from sklearn.ensemble import IsolationForest\n",
    "from sklearn import svm"
   ]
  },
  {
   "cell_type": "code",
   "execution_count": 3,
   "metadata": {
    "collapsed": true
   },
   "outputs": [],
   "source": [
    "import warnings\n",
    "warnings.filterwarnings('ignore')\n",
    "# warnings.simplefilter(action=\"ignore\", category=FutureWarning)\n",
    "# warnings.simplefilter(action=\"ignore\", category=UserWarning)\n",
    "# warnings.simplefilter(action=\"ignore\", category=RuntimeWarning)"
   ]
  },
  {
   "cell_type": "markdown",
   "metadata": {},
   "source": [
    "### Basic information of benmark datasets"
   ]
  },
  {
   "cell_type": "code",
   "execution_count": 63,
   "metadata": {},
   "outputs": [],
   "source": [
    "datasets_basic = []\n",
    "dataset0 = {'datasetID': 0, 'name': 'lymph', 'contamination(%)': 4.10}\n",
    "datasets_basic.append(dataset0)\n",
    "dataset1 = {'datasetID': 1, 'name': 'glass', 'contamination(%)': 4.21}\n",
    "datasets_basic.append(dataset1)\n",
    "dataset2 = {'datasetID': 2, 'name': 'wdbc', 'contamination(%)': 37.26}\n",
    "datasets_basic.append(dataset2)\n",
    "dataset3 = {'datasetID': 3, 'name': 'speech', 'contamination(%)': 1.65}\n",
    "datasets_basic.append(dataset3)\n",
    "dataset4 = {'datasetID': 4, 'name': 'satellite_image', 'contamination(%)': 31.64}\n",
    "datasets_basic.append(dataset4)\n",
    "dataset5 = {'datasetID': 5, 'name': 'baseball', 'contamination(%)': 9.33}\n",
    "datasets_basic.append(dataset5)\n",
    "dataset6 = {'datasetID': 6, 'name': 'ecoli', 'contamination(%)': 2.68}\n",
    "datasets_basic.append(dataset6)\n",
    "dataset7 = {'datasetID': 7, 'name': 'phoneme', 'contamination(%)': 29.35}\n",
    "datasets_basic.append(dataset7)\n",
    "dataset8 = {'datasetID': 8, 'name': 'click_prediction_small', 'contamination(%)': 16.84}\n",
    "datasets_basic.append(dataset8)\n",
    "dataset9 = {'datasetID': 9, 'name': 'musk', 'contamination(%)': 15.41}\n",
    "datasets_basic.append(dataset9)\n",
    "dataset10 = {'datasetID': 10, 'name': 'credit_g', 'contamination(%)': 30.00}\n",
    "datasets_basic.append(dataset10)\n",
    "dataset11 = {'datasetID': 11, 'name': 'diabetes', 'contamination(%)': 34.89}\n",
    "datasets_basic.append(dataset11)\n",
    "dataset12 = {'datasetID': 12, 'name': 'breast_w', 'contamination(%)': 34.48}\n",
    "datasets_basic.append(dataset12)\n",
    "dataset13 = {'datasetID': 13, 'name': 'blood_transfusion_service_center', 'contamination(%)': 23.79}\n",
    "datasets_basic.append(dataset13)\n",
    "dataset14 = {'datasetID': 14, 'name': 'heart', 'contamination(%)': 45.54}\n",
    "datasets_basic.append(dataset14)\n",
    "dataset15 = {'datasetID': 15, 'name': 'arrhythmia', 'contamination(%)': 45.79}\n",
    "datasets_basic.append(dataset15)\n",
    "dataset16 = {'datasetID': 16, 'name': 'spambase', 'contamination(%)': 39.40}\n",
    "datasets_basic.append(dataset16)\n",
    "dataset17 = {'datasetID': 17, 'name': 'kc2', 'contamination(%)': 20.49}\n",
    "datasets_basic.append(dataset17)\n",
    "dataset18 = {'datasetID': 18, 'name': 'ilpd', 'contamination(%)': 28.64}\n",
    "datasets_basic.append(dataset18)\n",
    "dataset19 = {'datasetID': 19, 'name': 'pc1', 'contamination(%)': 6.94}\n",
    "datasets_basic.append(dataset19)\n",
    "dataset20 = {'datasetID': 20, 'name': 'abalone', 'contamination(%)': 0.43}\n",
    "datasets_basic.append(dataset20)\n",
    "dataset21 = {'datasetID': 21, 'name': 'speed_dating', 'contamination(%)': 16.47}\n",
    "datasets_basic.append(dataset21)\n",
    "dataset22 = {'datasetID': 22, 'name': 'cardiotocography', 'contamination(%)': 12.94}\n",
    "datasets_basic.append(dataset22)\n",
    "dataset23 = {'datasetID': 23, 'name': 'sick', 'contamination(%)': 6.12}\n",
    "datasets_basic.append(dataset23)\n",
    "dataset24 = {'datasetID': 24, 'name': 'adult', 'contamination(%)': 23.93}\n",
    "datasets_basic.append(dataset24)\n",
    "dataset25 = {'datasetID': 25, 'name': 'jm1', 'contamination(%)': 19.35}\n",
    "datasets_basic.append(dataset25)\n",
    "dataset26 = {'datasetID': 26, 'name': 'scene', 'contamination(%)': 17.91}\n",
    "datasets_basic.append(dataset26)\n",
    "dataset27 = {'datasetID': 27, 'name': 'climate_model_simulation_crashes', 'contamination(%)': 8.52}\n",
    "datasets_basic.append(dataset27)\n",
    "dataset28 = {'datasetID': 28, 'name': 'quake', 'contamination(%)': 44.49}\n",
    "datasets_basic.append(dataset28)\n",
    "dataset29 = {'datasetID': 29, 'name': 'yeast', 'contamination(%)': 0.34}\n",
    "datasets_basic.append(dataset29)\n",
    "dataset30 = {'datasetID': 30, 'name': 'churn', 'contamination(%)': 14.14}\n",
    "datasets_basic.append(dataset30)\n",
    "dataset31 = {'datasetID': 31, 'name': 'wilt', 'contamination(%)': 5.39}\n",
    "datasets_basic.append(dataset31)\n",
    "# datasets_basic"
   ]
  },
  {
   "cell_type": "code",
   "execution_count": 44,
   "metadata": {},
   "outputs": [
    {
     "data": {
      "text/html": [
       "<div>\n",
       "<style scoped>\n",
       "    .dataframe tbody tr th:only-of-type {\n",
       "        vertical-align: middle;\n",
       "    }\n",
       "\n",
       "    .dataframe tbody tr th {\n",
       "        vertical-align: top;\n",
       "    }\n",
       "\n",
       "    .dataframe thead th {\n",
       "        text-align: right;\n",
       "    }\n",
       "</style>\n",
       "<table border=\"1\" class=\"dataframe\">\n",
       "  <thead>\n",
       "    <tr style=\"text-align: right;\">\n",
       "      <th></th>\n",
       "      <th>datasetID</th>\n",
       "      <th>name</th>\n",
       "      <th>contamination(%)</th>\n",
       "    </tr>\n",
       "  </thead>\n",
       "  <tbody>\n",
       "    <tr>\n",
       "      <th>0</th>\n",
       "      <td>0</td>\n",
       "      <td>lymph</td>\n",
       "      <td>4.10</td>\n",
       "    </tr>\n",
       "    <tr>\n",
       "      <th>1</th>\n",
       "      <td>1</td>\n",
       "      <td>glass</td>\n",
       "      <td>4.21</td>\n",
       "    </tr>\n",
       "    <tr>\n",
       "      <th>2</th>\n",
       "      <td>2</td>\n",
       "      <td>wdbc</td>\n",
       "      <td>37.26</td>\n",
       "    </tr>\n",
       "    <tr>\n",
       "      <th>3</th>\n",
       "      <td>3</td>\n",
       "      <td>speech</td>\n",
       "      <td>1.65</td>\n",
       "    </tr>\n",
       "    <tr>\n",
       "      <th>4</th>\n",
       "      <td>4</td>\n",
       "      <td>satellite_image</td>\n",
       "      <td>31.64</td>\n",
       "    </tr>\n",
       "    <tr>\n",
       "      <th>5</th>\n",
       "      <td>5</td>\n",
       "      <td>baseball</td>\n",
       "      <td>9.33</td>\n",
       "    </tr>\n",
       "    <tr>\n",
       "      <th>6</th>\n",
       "      <td>6</td>\n",
       "      <td>ecoli</td>\n",
       "      <td>2.68</td>\n",
       "    </tr>\n",
       "    <tr>\n",
       "      <th>7</th>\n",
       "      <td>7</td>\n",
       "      <td>phoneme</td>\n",
       "      <td>29.35</td>\n",
       "    </tr>\n",
       "    <tr>\n",
       "      <th>8</th>\n",
       "      <td>8</td>\n",
       "      <td>click_prediction_small</td>\n",
       "      <td>16.84</td>\n",
       "    </tr>\n",
       "    <tr>\n",
       "      <th>9</th>\n",
       "      <td>9</td>\n",
       "      <td>musk</td>\n",
       "      <td>15.41</td>\n",
       "    </tr>\n",
       "    <tr>\n",
       "      <th>10</th>\n",
       "      <td>10</td>\n",
       "      <td>credit_g</td>\n",
       "      <td>30.00</td>\n",
       "    </tr>\n",
       "    <tr>\n",
       "      <th>11</th>\n",
       "      <td>11</td>\n",
       "      <td>diabetes</td>\n",
       "      <td>34.89</td>\n",
       "    </tr>\n",
       "    <tr>\n",
       "      <th>12</th>\n",
       "      <td>12</td>\n",
       "      <td>breast_w</td>\n",
       "      <td>34.48</td>\n",
       "    </tr>\n",
       "    <tr>\n",
       "      <th>13</th>\n",
       "      <td>13</td>\n",
       "      <td>blood_transfusion_service_center</td>\n",
       "      <td>23.79</td>\n",
       "    </tr>\n",
       "    <tr>\n",
       "      <th>14</th>\n",
       "      <td>14</td>\n",
       "      <td>heart</td>\n",
       "      <td>45.54</td>\n",
       "    </tr>\n",
       "    <tr>\n",
       "      <th>15</th>\n",
       "      <td>15</td>\n",
       "      <td>arrhythmia</td>\n",
       "      <td>45.79</td>\n",
       "    </tr>\n",
       "    <tr>\n",
       "      <th>16</th>\n",
       "      <td>16</td>\n",
       "      <td>spambase</td>\n",
       "      <td>39.40</td>\n",
       "    </tr>\n",
       "    <tr>\n",
       "      <th>17</th>\n",
       "      <td>17</td>\n",
       "      <td>kc2</td>\n",
       "      <td>20.49</td>\n",
       "    </tr>\n",
       "    <tr>\n",
       "      <th>18</th>\n",
       "      <td>18</td>\n",
       "      <td>ilpd</td>\n",
       "      <td>28.64</td>\n",
       "    </tr>\n",
       "    <tr>\n",
       "      <th>19</th>\n",
       "      <td>19</td>\n",
       "      <td>pc1</td>\n",
       "      <td>6.94</td>\n",
       "    </tr>\n",
       "    <tr>\n",
       "      <th>20</th>\n",
       "      <td>20</td>\n",
       "      <td>abalone</td>\n",
       "      <td>0.43</td>\n",
       "    </tr>\n",
       "    <tr>\n",
       "      <th>21</th>\n",
       "      <td>21</td>\n",
       "      <td>speed_dating</td>\n",
       "      <td>16.47</td>\n",
       "    </tr>\n",
       "    <tr>\n",
       "      <th>22</th>\n",
       "      <td>22</td>\n",
       "      <td>cardiotocography</td>\n",
       "      <td>12.94</td>\n",
       "    </tr>\n",
       "    <tr>\n",
       "      <th>23</th>\n",
       "      <td>23</td>\n",
       "      <td>sick</td>\n",
       "      <td>6.12</td>\n",
       "    </tr>\n",
       "    <tr>\n",
       "      <th>24</th>\n",
       "      <td>24</td>\n",
       "      <td>adult</td>\n",
       "      <td>23.93</td>\n",
       "    </tr>\n",
       "    <tr>\n",
       "      <th>25</th>\n",
       "      <td>25</td>\n",
       "      <td>jm1</td>\n",
       "      <td>19.35</td>\n",
       "    </tr>\n",
       "    <tr>\n",
       "      <th>26</th>\n",
       "      <td>26</td>\n",
       "      <td>scene</td>\n",
       "      <td>17.91</td>\n",
       "    </tr>\n",
       "    <tr>\n",
       "      <th>27</th>\n",
       "      <td>27</td>\n",
       "      <td>climate_model_simulation_crashes</td>\n",
       "      <td>8.52</td>\n",
       "    </tr>\n",
       "    <tr>\n",
       "      <th>28</th>\n",
       "      <td>28</td>\n",
       "      <td>quake</td>\n",
       "      <td>44.49</td>\n",
       "    </tr>\n",
       "    <tr>\n",
       "      <th>29</th>\n",
       "      <td>29</td>\n",
       "      <td>yeast</td>\n",
       "      <td>0.34</td>\n",
       "    </tr>\n",
       "    <tr>\n",
       "      <th>30</th>\n",
       "      <td>30</td>\n",
       "      <td>churn</td>\n",
       "      <td>14.14</td>\n",
       "    </tr>\n",
       "    <tr>\n",
       "      <th>31</th>\n",
       "      <td>31</td>\n",
       "      <td>wilt</td>\n",
       "      <td>5.39</td>\n",
       "    </tr>\n",
       "  </tbody>\n",
       "</table>\n",
       "</div>"
      ],
      "text/plain": [
       "    datasetID                              name  contamination(%)\n",
       "0           0                             lymph              4.10\n",
       "1           1                             glass              4.21\n",
       "2           2                              wdbc             37.26\n",
       "3           3                            speech              1.65\n",
       "4           4                   satellite_image             31.64\n",
       "5           5                          baseball              9.33\n",
       "6           6                             ecoli              2.68\n",
       "7           7                           phoneme             29.35\n",
       "8           8            click_prediction_small             16.84\n",
       "9           9                              musk             15.41\n",
       "10         10                          credit_g             30.00\n",
       "11         11                          diabetes             34.89\n",
       "12         12                          breast_w             34.48\n",
       "13         13  blood_transfusion_service_center             23.79\n",
       "14         14                             heart             45.54\n",
       "15         15                        arrhythmia             45.79\n",
       "16         16                          spambase             39.40\n",
       "17         17                               kc2             20.49\n",
       "18         18                              ilpd             28.64\n",
       "19         19                               pc1              6.94\n",
       "20         20                           abalone              0.43\n",
       "21         21                      speed_dating             16.47\n",
       "22         22                  cardiotocography             12.94\n",
       "23         23                              sick              6.12\n",
       "24         24                             adult             23.93\n",
       "25         25                               jm1             19.35\n",
       "26         26                             scene             17.91\n",
       "27         27  climate_model_simulation_crashes              8.52\n",
       "28         28                             quake             44.49\n",
       "29         29                             yeast              0.34\n",
       "30         30                             churn             14.14\n",
       "31         31                              wilt              5.39"
      ]
     },
     "execution_count": 44,
     "metadata": {},
     "output_type": "execute_result"
    }
   ],
   "source": [
    "# print basic table\n",
    "df_basic = pd.DataFrame(datasets_basic)\n",
    "cols_basic = ['datasetID', 'name', 'contamination(%)']\n",
    "df_basic = df_basic[cols_basic]\n",
    "df_basic"
   ]
  },
  {
   "cell_type": "markdown",
   "metadata": {},
   "source": [
    "### Compute Meta-Features Landmarking"
   ]
  },
  {
   "cell_type": "markdown",
   "metadata": {},
   "source": [
    "The following Landmarking meta-features were calculated: (Matthias Reif et al. 2012, Abdelmessih et al. 2010)\n",
    "\n",
    "The accuracy values of the following simple learners are used: Naive Bayes, Linear Discriminant Analysis, One-Nearest Neighbor, Decision Node, Random Node.\n",
    "\n",
    "- **Naive Bayes Learner** is a probabilistic classifier, based on Bayes’ Theorem:\n",
    "$$ p(X|Y) = \f",
    "rac{p(Y|X) \\cdot p(X)}{p(Y)} $$\n",
    "\n",
    "    where p(X) is the prior probability and p(X|Y) is the posterior probability. It is called naive, because it\n",
    "    assumes independence of all attributes to each other.\n",
    "- **Linear Discriminant Learner** is a type of discriminant analysis, which is understood as the grouping and separation of categories according to specific features. Linear discriminant is basically finding a linear combination of features that separates the classes best. The resulting separation model is a line, a plane, or a hyperplane, depending on the number of features combined. \n",
    "\n",
    "- **One Nearest Neighbor Learner** is a classifier based on instance-based learning. A test point is assigned to the class of the nearest point within the training set. \n",
    "\n",
    "- **Decision Node Learner** is a classifier based on the information gain of attributes. The information gain indicates how informative an attribute is with respect to the classification task using its entropy. The higher the variability of the attribute values, the higher its information gain. This learner selects the attribute with the highest information gain. Then, it creates a single node decision tree consisting of the chosen attribute as a split node. \n",
    "\n",
    "- **Randomly Chosen Node Learner** is a classifier that results also in a single decision node, based on a randomly chosen attribute. "
   ]
  },
  {
   "cell_type": "code",
   "execution_count": 6,
   "metadata": {
    "collapsed": true
   },
   "outputs": [],
   "source": [
    "from sklearn.cross_validation import cross_val_predict\n",
    "from sklearn.metrics import roc_auc_score\n",
    "\n",
    "def pipeline(X, y, estimator):\n",
    "#     if scipy.sparse.issparse(X) == True: # Check if X is sparse array\n",
    "#         X = X.toarray()\n",
    "    pipe = Pipeline([('Imputer', preprocessing.Imputer(missing_values='NaN', strategy='mean', axis=0)),\n",
    "                     ('classifiers', estimator)])\n",
    "    \n",
    "    # to prevent sklearn cross_val_score failure due to label imabalance\n",
    "#     pred = cross_val_predict(pipe, X, y, cv=5)\n",
    "#     score = roc_auc_score(y, pred)\n",
    "    score = np.mean(cross_val_score(pipe, X, y, cv=10, scoring='accuracy', n_jobs=-1))\n",
    "    return score\n",
    "\n",
    "def compute_metafeatures(X, y):\n",
    "    \"\"\"\n",
    "    The following landmarking features are computed:\n",
    "        Naive Bayes Learner;\n",
    "        Linear Discriminant Learner;\n",
    "        One Nearest Neighbor Learner;\n",
    "        Decision Node Learner;\n",
    "        Randomly Chosen Node Learner\n",
    "    \"\"\"\n",
    "    \n",
    "    # if regression\n",
    "    if len(np.unique(y)) > 100 or len(np.unique(y)) > 0.1*y.shape[0]:\n",
    "        print(\"regression\")\n",
    "        print(\"meta features cannot be extracted as the target is not categorical\")\n",
    "    # if classification\n",
    "    else:\n",
    "#         print(\"classification\")\n",
    "        metafeatures_clf = {}\n",
    "        metafeatures_clf['naive_bayes'] = pipeline(X, y, GaussianNB()) \n",
    "        metafeatures_clf['linear_discriminant_analysis'] = pipeline(X, y, LinearDiscriminantAnalysis(solver='lsqr', shrinkage='auto')) \n",
    "        metafeatures_clf['one_nearest_neighbor'] = pipeline(X, y, KNeighborsClassifier(n_neighbors = 1)) \n",
    "        metafeatures_clf['decision_node'] = pipeline(X, y, DecisionTreeClassifier(criterion='entropy', splitter='best', max_depth=1, random_state=0)) \n",
    "        metafeatures_clf['random_node'] = pipeline(X, y, DecisionTreeClassifier(criterion='entropy', splitter='random', max_depth=1, random_state=0))\n",
    "        metafeatures = list(metafeatures_clf.values())\n",
    "    \n",
    "    return metafeatures"
   ]
  },
  {
   "cell_type": "markdown",
   "metadata": {},
   "source": [
    "### Evaluate outlier detection classifiers"
   ]
  },
  {
   "cell_type": "code",
   "execution_count": 7,
   "metadata": {
    "collapsed": true
   },
   "outputs": [],
   "source": [
    "def compute_isolation_forest_auroc(X, ground_truth, contamination=0.1):\n",
    "    # isolation forest\n",
    "    isof = IsolationForest(contamination=contamination)\n",
    "    isof.fit(X)\n",
    "    y_pred = isof.predict(X)\n",
    "    isof_auroc = roc_auc_score(ground_truth, y_pred)\n",
    "    return isof_auroc\n",
    "\n",
    "def compute_lof_auroc(X, ground_truth, contamination=0.1):\n",
    "    # local outlier factor\n",
    "    lof = LocalOutlierFactor(n_neighbors=20, contamination=contamination)\n",
    "    y_pred = lof.fit_predict(X)\n",
    "    lof_auroc = roc_auc_score(ground_truth, y_pred)\n",
    "    return lof_auroc\n",
    "\n",
    "def compute_ocsvm_auroc(X, ground_truth, contamination=0.1):\n",
    "    # one class svm\n",
    "    ocsvm = svm.OneClassSVM(nu=0.95 * contamination + 0.05)\n",
    "    ocsvm.fit(X)\n",
    "    y_pred = ocsvm.predict(X)\n",
    "    ocsvm_auroc = roc_auc_score(ground_truth, y_pred)\n",
    "    return ocsvm_auroc"
   ]
  },
  {
   "cell_type": "code",
   "execution_count": 8,
   "metadata": {
    "collapsed": true
   },
   "outputs": [],
   "source": [
    "def compute_info(datasets_basic=None, name=None):\n",
    "    dataset = next((item for item in datasets_basic if item['name'] == name), None).copy()\n",
    "    data = np.genfromtxt('benchmark_anomaly/'+ name + '.csv', delimiter=',')\n",
    "#     print(data)\n",
    "    # Imputing the missing values by mean\n",
    "    imp = Imputer(missing_values=np.nan , strategy='mean', axis=0)\n",
    "    \n",
    "    X = data[:, :-1]\n",
    "    X = imp.fit_transform(X)\n",
    "    y = data[:,-1]\n",
    "#     print(y)\n",
    "\n",
    "    dataset['metafeatures'] = compute_metafeatures(X, y)\n",
    "    \n",
    "    contamination = dataset['contamination(%)']/100\n",
    "#     print(contamination)\n",
    "    data_anomaly = np.genfromtxt('benchmark_anomaly/'+ name + '_anomaly.csv', delimiter=',')\n",
    "    X_anomaly = data_anomaly[:, :-1]\n",
    "    X_anomaly = imp.fit_transform(X_anomaly)\n",
    "    y_anomaly = data_anomaly[:,-1]\n",
    "    ground_truth = y_anomaly\n",
    "    ground_truth[y_anomaly == 1] = -1\n",
    "    ground_truth[y_anomaly == 0] = 1\n",
    "\n",
    "    dataset['isolation_forest_auroc'] = compute_isolation_forest_auroc(X_anomaly, ground_truth, contamination=contamination)\n",
    "    dataset['lof_auroc'] = compute_lof_auroc(X_anomaly, ground_truth, contamination=contamination)\n",
    "    dataset['ocsvm_auroc'] = compute_ocsvm_auroc(X_anomaly, ground_truth, contamination=contamination)\n",
    "    print(\"\\n\")\n",
    "    return dataset"
   ]
  },
  {
   "cell_type": "markdown",
   "metadata": {},
   "source": [
    "### Benchmarking"
   ]
  },
  {
   "cell_type": "code",
   "execution_count": 64,
   "metadata": {
    "collapsed": true
   },
   "outputs": [],
   "source": [
    "datasets=[]"
   ]
  },
  {
   "cell_type": "markdown",
   "metadata": {},
   "source": [
    "### 00 lymph"
   ]
  },
  {
   "cell_type": "code",
   "execution_count": 275,
   "metadata": {},
   "outputs": [
    {
     "name": "stdout",
     "output_type": "stream",
     "text": [
      "\n",
      "\n",
      "{'datasetID': 0, 'name': 'lymph', 'contamination(%)': 4.1, 'metafeatures': [0.7071230158730157, 0.8857142857142858, 0.7572817460317459, 0.6873809523809523, 0.6357936507936508], 'isolation_forest_auroc': 0.9964788732394366, 'lof_auroc': 0.9096244131455399, 'ocsvm_auroc': 0.6103286384976526}\n"
     ]
    }
   ],
   "source": [
    "dataset = compute_info(datasets_basic, 'lymph')\n",
    "print(dataset)"
   ]
  },
  {
   "cell_type": "code",
   "execution_count": 259,
   "metadata": {
    "collapsed": true
   },
   "outputs": [],
   "source": [
    "datasets.append(dataset)"
   ]
  },
  {
   "cell_type": "markdown",
   "metadata": {},
   "source": [
    "### 01 glass"
   ]
  },
  {
   "cell_type": "code",
   "execution_count": 276,
   "metadata": {},
   "outputs": [
    {
     "name": "stdout",
     "output_type": "stream",
     "text": [
      "\n",
      "\n",
      "{'datasetID': 1, 'name': 'glass', 'contamination(%)': 4.21, 'metafeatures': [0.459828722002635, 0.6049174979609763, 0.7060016312190226, 0.4505646527385657, 0.43133226676704933], 'isolation_forest_auroc': 0.5360433604336043, 'lof_auroc': 0.5940379403794038, 'ocsvm_auroc': 0.5116531165311653}\n"
     ]
    }
   ],
   "source": [
    "dataset = compute_info(datasets_basic, 'glass')\n",
    "print(dataset)"
   ]
  },
  {
   "cell_type": "code",
   "execution_count": 277,
   "metadata": {
    "collapsed": true
   },
   "outputs": [],
   "source": [
    "datasets.append(dataset)"
   ]
  },
  {
   "cell_type": "markdown",
   "metadata": {},
   "source": [
    "### 02 wdbc"
   ]
  },
  {
   "cell_type": "code",
   "execution_count": 278,
   "metadata": {},
   "outputs": [
    {
     "name": "stdout",
     "output_type": "stream",
     "text": [
      "\n",
      "\n",
      "{'datasetID': 2, 'name': 'wdbc', 'contamination(%)': 37.26, 'metafeatures': [0.9386796733212339, 0.9543805634776596, 0.9158067582749977, 0.8824075274392879, 0.808493215798116], 'isolation_forest_auroc': 0.7030349875799375, 'lof_auroc': 0.6128177686168808, 'ocsvm_auroc': 0.484052111410602}\n"
     ]
    }
   ],
   "source": [
    "dataset = compute_info(datasets_basic, 'wdbc')\n",
    "print(dataset)"
   ]
  },
  {
   "cell_type": "code",
   "execution_count": 279,
   "metadata": {
    "collapsed": true
   },
   "outputs": [],
   "source": [
    "datasets.append(dataset)"
   ]
  },
  {
   "cell_type": "markdown",
   "metadata": {},
   "source": [
    "### 03 speech"
   ]
  },
  {
   "cell_type": "code",
   "execution_count": 280,
   "metadata": {},
   "outputs": [
    {
     "name": "stdout",
     "output_type": "stream",
     "text": [
      "\n",
      "\n",
      "{'datasetID': 3, 'name': 'speech', 'contamination(%)': 1.65, 'metafeatures': [0.9631008911881127, 0.9763895974447406, 0.9826410623242545, 0.9834518691544144, 0.9834518691544144], 'isolation_forest_auroc': 0.4999208592425099, 'lof_auroc': 0.508255511588468, 'ocsvm_auroc': 0.5167665347654042}\n"
     ]
    }
   ],
   "source": [
    "dataset = compute_info(datasets_basic, 'speech')\n",
    "print(dataset)"
   ]
  },
  {
   "cell_type": "code",
   "execution_count": 94,
   "metadata": {
    "collapsed": true
   },
   "outputs": [],
   "source": [
    "datasets.append(dataset)"
   ]
  },
  {
   "cell_type": "markdown",
   "metadata": {},
   "source": [
    "### 04 satellite_image"
   ]
  },
  {
   "cell_type": "code",
   "execution_count": 107,
   "metadata": {},
   "outputs": [
    {
     "name": "stdout",
     "output_type": "stream",
     "text": [
      "\n",
      "\n",
      "{'datasetID': 4, 'name': 'satellite_image', 'contamination(%)': 31.64, 'metafeatures': [0.7878128466652179, 0.8296717347643972, 0.8828410109247423, 0.43574570897989107, 0.4282678047572393], 'isolation_forest_auroc': 0.7018293361011232, 'lof_auroc': 0.5398113006572756, 'ocsvm_auroc': 0.49383723126929635}\n"
     ]
    }
   ],
   "source": [
    "dataset = compute_info(datasets_basic, 'satellite_image')\n",
    "print(dataset)"
   ]
  },
  {
   "cell_type": "code",
   "execution_count": 96,
   "metadata": {
    "collapsed": true
   },
   "outputs": [],
   "source": [
    "datasets.append(dataset)"
   ]
  },
  {
   "cell_type": "markdown",
   "metadata": {},
   "source": [
    "### 05 baseball"
   ]
  },
  {
   "cell_type": "code",
   "execution_count": 108,
   "metadata": {
    "scrolled": true
   },
   "outputs": [
    {
     "name": "stdout",
     "output_type": "stream",
     "text": [
      "\n",
      "\n",
      "{'datasetID': 5, 'name': 'baseball', 'contamination(%)': 9.33, 'metafeatures': [0.8382204418025314, 0.9268990960742729, 0.9001154250015209, 0.9067596437195808, 0.9172139379052183], 'isolation_forest_auroc': 0.757366255144033, 'lof_auroc': 0.5897283950617285, 'ocsvm_auroc': 0.5100740740740741}\n"
     ]
    }
   ],
   "source": [
    "dataset = compute_info(datasets_basic, 'baseball')\n",
    "print(dataset)"
   ]
  },
  {
   "cell_type": "code",
   "execution_count": 110,
   "metadata": {
    "collapsed": true
   },
   "outputs": [],
   "source": [
    "datasets.append(dataset)"
   ]
  },
  {
   "cell_type": "markdown",
   "metadata": {},
   "source": [
    "### 06 ecoli"
   ]
  },
  {
   "cell_type": "code",
   "execution_count": 114,
   "metadata": {},
   "outputs": [
    {
     "name": "stdout",
     "output_type": "stream",
     "text": [
      "\n",
      "\n",
      "{'datasetID': 6, 'name': 'ecoli', 'contamination(%)': 2.68, 'metafeatures': [0.7472514035325506, 0.8585529525902041, 0.8082291592358505, 0.632387298297927, 0.5538601692799361], 'isolation_forest_auroc': 0.8287461773700306, 'lof_auroc': 0.6574923547400613, 'ocsvm_auroc': 0.690112130479103}\n"
     ]
    }
   ],
   "source": [
    "dataset = compute_info(datasets_basic, 'ecoli')\n",
    "print(dataset)"
   ]
  },
  {
   "cell_type": "code",
   "execution_count": 115,
   "metadata": {
    "collapsed": true
   },
   "outputs": [],
   "source": [
    "datasets.append(dataset)"
   ]
  },
  {
   "cell_type": "markdown",
   "metadata": {},
   "source": [
    "### 07 phoneme"
   ]
  },
  {
   "cell_type": "code",
   "execution_count": 119,
   "metadata": {},
   "outputs": [
    {
     "name": "stdout",
     "output_type": "stream",
     "text": [
      "\n",
      "\n",
      "{'datasetID': 7, 'name': 'phoneme', 'contamination(%)': 29.35, 'metafeatures': [0.7605367194395449, 0.7588796499200512, 0.9045141380736839, 0.7538882188921797, 0.7065142833772355], 'isolation_forest_auroc': 0.5497669167816615, 'lof_auroc': 0.5461971797492069, 'ocsvm_auroc': 0.5260924723071242}\n"
     ]
    }
   ],
   "source": [
    "dataset = compute_info(datasets_basic, 'phoneme')\n",
    "print(dataset)"
   ]
  },
  {
   "cell_type": "code",
   "execution_count": 120,
   "metadata": {
    "collapsed": true
   },
   "outputs": [],
   "source": [
    "datasets.append(dataset)"
   ]
  },
  {
   "cell_type": "markdown",
   "metadata": {},
   "source": [
    "### 08 click_prediction_small"
   ]
  },
  {
   "cell_type": "code",
   "execution_count": 128,
   "metadata": {},
   "outputs": [
    {
     "name": "stdout",
     "output_type": "stream",
     "text": [
      "\n",
      "\n",
      "{'datasetID': 8, 'name': 'click_prediction_small', 'contamination(%)': 16.84, 'metafeatures': [0.8099027765678555, 0.8315560261543755, 0.7328026019003474, 0.8315810637107101, 0.8315810637107101], 'isolation_forest_auroc': 0.5139303626384404, 'lof_auroc': 0.50409994158498, 'ocsvm_auroc': 0.49626235144795516}\n"
     ]
    }
   ],
   "source": [
    "dataset = compute_info(datasets_basic, 'click_prediction_small')\n",
    "print(dataset)"
   ]
  },
  {
   "cell_type": "code",
   "execution_count": 129,
   "metadata": {
    "collapsed": true
   },
   "outputs": [],
   "source": [
    "datasets.append(dataset)"
   ]
  },
  {
   "cell_type": "markdown",
   "metadata": {},
   "source": [
    "### 09 musk"
   ]
  },
  {
   "cell_type": "code",
   "execution_count": 136,
   "metadata": {},
   "outputs": [
    {
     "name": "stdout",
     "output_type": "stream",
     "text": [
      "\n",
      "\n",
      "{'datasetID': 9, 'name': 'musk', 'contamination(%)': 15.41, 'metafeatures': [0.8414119011459457, 0.9536296918760492, 0.7202186261523403, 0.9933232169954476, 0.8458628066806231], 'isolation_forest_auroc': 0.41818700440478185, 'lof_auroc': 0.49490959723052486, 'ocsvm_auroc': 0.5767326353266641}\n"
     ]
    }
   ],
   "source": [
    "dataset = compute_info(datasets_basic, 'musk')\n",
    "print(dataset)"
   ]
  },
  {
   "cell_type": "code",
   "execution_count": 137,
   "metadata": {
    "collapsed": true
   },
   "outputs": [],
   "source": [
    "datasets.append(dataset)"
   ]
  },
  {
   "cell_type": "markdown",
   "metadata": {},
   "source": [
    "### 10 credit_g"
   ]
  },
  {
   "cell_type": "code",
   "execution_count": 139,
   "metadata": {},
   "outputs": [
    {
     "name": "stdout",
     "output_type": "stream",
     "text": [
      "\n",
      "\n",
      "{'datasetID': 10, 'name': 'credit_g', 'contamination(%)': 30, 'metafeatures': [0.7300000000000001, 0.76, 0.6060000000000001, 0.7, 0.7], 'isolation_forest_auroc': 0.530952380952381, 'lof_auroc': 0.47619047619047616, 'ocsvm_auroc': 0.5035714285714286}\n"
     ]
    }
   ],
   "source": [
    "dataset = compute_info(datasets_basic, 'credit_g')\n",
    "print(dataset)"
   ]
  },
  {
   "cell_type": "code",
   "execution_count": 140,
   "metadata": {
    "collapsed": true
   },
   "outputs": [],
   "source": [
    "datasets.append(dataset)"
   ]
  },
  {
   "cell_type": "markdown",
   "metadata": {},
   "source": [
    "### 11 diabetes"
   ]
  },
  {
   "cell_type": "code",
   "execution_count": 144,
   "metadata": {},
   "outputs": [
    {
     "name": "stdout",
     "output_type": "stream",
     "text": [
      "\n",
      "\n",
      "{'datasetID': 11, 'name': 'diabetes', 'contamination(%)': 34.89, 'metafeatures': [0.7564935064935066, 0.765686944634313, 0.6796650717703349, 0.7149008885850991, 0.6328776486671224], 'isolation_forest_auroc': 0.6446567164179104, 'lof_auroc': 0.5157014925373135, 'ocsvm_auroc': 0.46837313432835814}\n"
     ]
    }
   ],
   "source": [
    "dataset = compute_info(datasets_basic, 'diabetes')\n",
    "print(dataset)"
   ]
  },
  {
   "cell_type": "code",
   "execution_count": 145,
   "metadata": {
    "collapsed": true
   },
   "outputs": [],
   "source": [
    "datasets.append(dataset)"
   ]
  },
  {
   "cell_type": "markdown",
   "metadata": {},
   "source": [
    "### 12 breast_w"
   ]
  },
  {
   "cell_type": "code",
   "execution_count": 150,
   "metadata": {},
   "outputs": [
    {
     "name": "stdout",
     "output_type": "stream",
     "text": [
      "\n",
      "\n",
      "{'datasetID': 12, 'name': 'breast_w', 'contamination(%)': 34.48, 'metafeatures': [0.9586501618406089, 0.9586909864987024, 0.9515268422126966, 0.924323622896801, 0.924323622896801], 'isolation_forest_auroc': 0.943004946637917, 'lof_auroc': 0.3413904944825962, 'ocsvm_auroc': 0.8777156679773144}\n"
     ]
    }
   ],
   "source": [
    "dataset = compute_info(datasets_basic, 'breast_w')\n",
    "print(dataset)"
   ]
  },
  {
   "cell_type": "code",
   "execution_count": 151,
   "metadata": {
    "collapsed": true
   },
   "outputs": [],
   "source": [
    "datasets.append(dataset)"
   ]
  },
  {
   "cell_type": "markdown",
   "metadata": {},
   "source": [
    "### 13 blood_transfusion_service_center"
   ]
  },
  {
   "cell_type": "code",
   "execution_count": 160,
   "metadata": {},
   "outputs": [
    {
     "name": "stdout",
     "output_type": "stream",
     "text": [
      "\n",
      "\n",
      "{'datasetID': 13, 'name': 'blood_transfusion_service_center', 'contamination(%)': 23.79, 'metafeatures': [0.7473513513513513, 0.7687207207207207, 0.569963963963964, 0.762054054054054, 0.762054054054054], 'isolation_forest_auroc': 0.4986792824758526, 'lof_auroc': 0.48885274985215854, 'ocsvm_auroc': 0.568440764833432}\n"
     ]
    }
   ],
   "source": [
    "dataset = compute_info(datasets_basic, 'blood_transfusion_service_center')\n",
    "print(dataset)"
   ]
  },
  {
   "cell_type": "code",
   "execution_count": 161,
   "metadata": {
    "collapsed": true
   },
   "outputs": [],
   "source": [
    "datasets.append(dataset)"
   ]
  },
  {
   "cell_type": "markdown",
   "metadata": {},
   "source": [
    "### 14 heart"
   ]
  },
  {
   "cell_type": "code",
   "execution_count": 170,
   "metadata": {},
   "outputs": [
    {
     "name": "stdout",
     "output_type": "stream",
     "text": [
      "\n",
      "\n",
      "{'datasetID': 14, 'name': 'heart', 'contamination(%)': 45.54, 'metafeatures': [0.8178680014831293, 0.827982944011865, 0.591449758991472, 0.6859881349647757, 0.7315943641082685], 'isolation_forest_auroc': 0.6140974967061923, 'lof_auroc': 0.5209486166007904, 'ocsvm_auroc': 0.4914361001317523}\n"
     ]
    }
   ],
   "source": [
    "dataset = compute_info(datasets_basic, 'heart')\n",
    "print(dataset)"
   ]
  },
  {
   "cell_type": "code",
   "execution_count": 171,
   "metadata": {
    "collapsed": true
   },
   "outputs": [],
   "source": [
    "datasets.append(dataset)"
   ]
  },
  {
   "cell_type": "markdown",
   "metadata": {},
   "source": [
    "### 15 arrhythmia\t"
   ]
  },
  {
   "cell_type": "code",
   "execution_count": 190,
   "metadata": {},
   "outputs": [
    {
     "name": "stdout",
     "output_type": "stream",
     "text": [
      "\n",
      "\n",
      "{'datasetID': 15, 'name': 'arrhythmia', 'contamination(%)': 45.79, 'metafeatures': [0.16748182967615627, 0.7107932335427034, 0.5256204965059684, 0.5556713638959132, 0.5772532357179758], 'isolation_forest_auroc': 0.6746919057478064, 'lof_auroc': 0.6836044562752638, 'ocsvm_auroc': 0.5291826875677808}\n"
     ]
    }
   ],
   "source": [
    "dataset = compute_info(datasets_basic, 'arrhythmia')\n",
    "print(dataset)"
   ]
  },
  {
   "cell_type": "code",
   "execution_count": 191,
   "metadata": {
    "collapsed": true
   },
   "outputs": [],
   "source": [
    "datasets.append(dataset)"
   ]
  },
  {
   "cell_type": "markdown",
   "metadata": {},
   "source": [
    "### 16 spambase"
   ]
  },
  {
   "cell_type": "code",
   "execution_count": 192,
   "metadata": {},
   "outputs": [
    {
     "name": "stdout",
     "output_type": "stream",
     "text": [
      "\n",
      "\n",
      "{'datasetID': 16, 'name': 'spambase', 'contamination(%)': 39.4, 'metafeatures': [0.8216885343215848, 0.8676362405756416, 0.787848669663722, 0.7730475836472476, 0.6059555892945166], 'isolation_forest_auroc': 0.592027747156872, 'lof_auroc': 0.4714193521838531, 'ocsvm_auroc': 0.6295075380185033}\n"
     ]
    }
   ],
   "source": [
    "dataset = compute_info(datasets_basic, 'spambase')\n",
    "print(dataset)"
   ]
  },
  {
   "cell_type": "code",
   "execution_count": 193,
   "metadata": {
    "collapsed": true
   },
   "outputs": [],
   "source": [
    "datasets.append(dataset)"
   ]
  },
  {
   "cell_type": "markdown",
   "metadata": {},
   "source": [
    "### 17 kc2"
   ]
  },
  {
   "cell_type": "code",
   "execution_count": 198,
   "metadata": {},
   "outputs": [
    {
     "name": "stdout",
     "output_type": "stream",
     "text": [
      "\n",
      "\n",
      "{'datasetID': 17, 'name': 'kc2', 'contamination(%)': 20.49, 'metafeatures': [0.8284612538774582, 0.8437035772218902, 0.6036967472039615, 0.779772475027747, 0.8284975383477049], 'isolation_forest_auroc': 0.7237473257516046, 'lof_auroc': 0.5462110122733926, 'ocsvm_auroc': 0.5621213827271704}\n"
     ]
    }
   ],
   "source": [
    "dataset = compute_info(datasets_basic, 'kc2')\n",
    "print(dataset)"
   ]
  },
  {
   "cell_type": "code",
   "execution_count": 199,
   "metadata": {
    "collapsed": true
   },
   "outputs": [],
   "source": [
    "datasets.append(dataset)"
   ]
  },
  {
   "cell_type": "markdown",
   "metadata": {},
   "source": [
    "### 18 ilpd"
   ]
  },
  {
   "cell_type": "code",
   "execution_count": 205,
   "metadata": {},
   "outputs": [
    {
     "name": "stdout",
     "output_type": "stream",
     "text": [
      "\n",
      "\n",
      "{'datasetID': 18, 'name': 'ilpd', 'contamination(%)': 28.64, 'metafeatures': [0.5581480000410143, 0.7102079424159463, 0.6414044315933024, 0.7135977729244208, 0.7135977729244208], 'isolation_forest_auroc': 0.39158941731920777, 'lof_auroc': 0.40837315753109166, 'ocsvm_auroc': 0.4705061031782588}\n"
     ]
    }
   ],
   "source": [
    "dataset = compute_info(datasets_basic, 'ilpd')\n",
    "print(dataset)"
   ]
  },
  {
   "cell_type": "code",
   "execution_count": 206,
   "metadata": {
    "collapsed": true
   },
   "outputs": [],
   "source": [
    "datasets.append(dataset)"
   ]
  },
  {
   "cell_type": "markdown",
   "metadata": {},
   "source": [
    "### 19 pc1"
   ]
  },
  {
   "cell_type": "code",
   "execution_count": 215,
   "metadata": {},
   "outputs": [
    {
     "name": "stdout",
     "output_type": "stream",
     "text": [
      "\n",
      "\n",
      "{'datasetID': 19, 'name': 'pc1', 'contamination(%)': 6.94, 'metafeatures': [0.8917911255411255, 0.9341346378846378, 0.8901114426114427, 0.9305873405873404, 0.9305873405873404], 'isolation_forest_auroc': 0.6092318534178999, 'lof_auroc': 0.5324738246249874, 'ocsvm_auroc': 0.4630272827947246}\n"
     ]
    }
   ],
   "source": [
    "dataset = compute_info(datasets_basic, 'pc1')\n",
    "print(dataset)"
   ]
  },
  {
   "cell_type": "code",
   "execution_count": 216,
   "metadata": {
    "collapsed": true
   },
   "outputs": [],
   "source": [
    "datasets.append(dataset)"
   ]
  },
  {
   "cell_type": "markdown",
   "metadata": {},
   "source": [
    "### 20 abalone"
   ]
  },
  {
   "cell_type": "code",
   "execution_count": 219,
   "metadata": {},
   "outputs": [
    {
     "name": "stdout",
     "output_type": "stream",
     "text": [
      "\n",
      "\n",
      "{'datasetID': 20, 'name': 'abalone', 'contamination(%)': 0.43, 'metafeatures': [0.23440718746259237, 0.2625402713501458, 0.20266392396374858, 0.2057422922867933, 0.20565524949290886], 'isolation_forest_auroc': 0.5536320162432209, 'lof_auroc': 0.49783601827362345, 'ocsvm_auroc': 0.5844220031524672}\n"
     ]
    }
   ],
   "source": [
    "dataset = compute_info(datasets_basic, 'abalone')\n",
    "print(dataset)"
   ]
  },
  {
   "cell_type": "code",
   "execution_count": 220,
   "metadata": {
    "collapsed": true
   },
   "outputs": [],
   "source": [
    "datasets.append(dataset)"
   ]
  },
  {
   "cell_type": "markdown",
   "metadata": {},
   "source": [
    "### 21 speed_dating"
   ]
  },
  {
   "cell_type": "code",
   "execution_count": 11,
   "metadata": {},
   "outputs": [
    {
     "name": "stdout",
     "output_type": "stream",
     "text": [
      "\n",
      "\n",
      "{'datasetID': 21, 'name': 'speed_dating', 'contamination(%)': 16.47, 'metafeatures': [0.7598620485139848, 0.8438764424598592, 0.6678343213488337, 0.8352828461689805, 0.8352828461689805], 'isolation_forest_auroc': 0.515047570527397, 'lof_auroc': 0.50376960705129, 'ocsvm_auroc': 0.49810090667727014}\n"
     ]
    }
   ],
   "source": [
    "dataset = compute_info(datasets_basic, 'speed_dating')\n",
    "print(dataset)"
   ]
  },
  {
   "cell_type": "code",
   "execution_count": 12,
   "metadata": {
    "collapsed": true
   },
   "outputs": [],
   "source": [
    "datasets.append(dataset)"
   ]
  },
  {
   "cell_type": "markdown",
   "metadata": {},
   "source": [
    "### 22 cardiotocography"
   ]
  },
  {
   "cell_type": "code",
   "execution_count": 13,
   "metadata": {},
   "outputs": [
    {
     "name": "stdout",
     "output_type": "stream",
     "text": [
      "\n",
      "\n",
      "{'datasetID': 22, 'name': 'cardiotocography', 'contamination(%)': 12.94, 'metafeatures': [0.9995283018867924, 0.999052111410602, 0.3706101721418026, 0.4530135875359765, 0.4530135875359765], 'isolation_forest_auroc': 0.6011335396100388, 'lof_auroc': 0.5531024998772163, 'ocsvm_auroc': 0.5172712538676882}\n"
     ]
    }
   ],
   "source": [
    "dataset = compute_info(datasets_basic, 'cardiotocography')\n",
    "print(dataset)"
   ]
  },
  {
   "cell_type": "code",
   "execution_count": 14,
   "metadata": {
    "collapsed": true
   },
   "outputs": [],
   "source": [
    "datasets.append(dataset)"
   ]
  },
  {
   "cell_type": "markdown",
   "metadata": {},
   "source": [
    "### 23 sick"
   ]
  },
  {
   "cell_type": "code",
   "execution_count": 20,
   "metadata": {},
   "outputs": [
    {
     "name": "stdout",
     "output_type": "stream",
     "text": [
      "\n",
      "\n",
      "{'datasetID': 23, 'name': 'sick', 'contamination(%)': 6.12, 'metafeatures': [0.41410944619023954, 0.954667105253949, 0.908266203817109, 0.9655382375789981, 0.9387603843704291], 'isolation_forest_auroc': 0.48121632674019005, 'lof_auroc': 0.5296361362444391, 'ocsvm_auroc': 0.5216920893283503}\n"
     ]
    }
   ],
   "source": [
    "dataset = compute_info(datasets_basic, 'sick')\n",
    "print(dataset)"
   ]
  },
  {
   "cell_type": "code",
   "execution_count": 21,
   "metadata": {
    "collapsed": true
   },
   "outputs": [],
   "source": [
    "datasets.append(dataset)"
   ]
  },
  {
   "cell_type": "markdown",
   "metadata": {},
   "source": [
    "### 24 adult"
   ]
  },
  {
   "cell_type": "code",
   "execution_count": 27,
   "metadata": {},
   "outputs": [
    {
     "name": "stdout",
     "output_type": "stream",
     "text": [
      "\n",
      "\n",
      "{'datasetID': 24, 'name': 'adult', 'contamination(%)': 23.93, 'metafeatures': [0.7952380584336447, 0.8279558426270286, 0.740653915828182, 0.7607182417754828, 0.7607182417754828], 'isolation_forest_auroc': 0.510194839268367, 'lof_auroc': 0.5047395866275948, 'ocsvm_auroc': 0.4992787574552716}\n"
     ]
    }
   ],
   "source": [
    "dataset = compute_info(datasets_basic, 'adult')\n",
    "print(dataset)"
   ]
  },
  {
   "cell_type": "code",
   "execution_count": 28,
   "metadata": {
    "collapsed": true
   },
   "outputs": [],
   "source": [
    "datasets.append(dataset)"
   ]
  },
  {
   "cell_type": "markdown",
   "metadata": {},
   "source": [
    "### 25 jm1"
   ]
  },
  {
   "cell_type": "code",
   "execution_count": 32,
   "metadata": {},
   "outputs": [
    {
     "name": "stdout",
     "output_type": "stream",
     "text": [
      "\n",
      "\n",
      "{'datasetID': 25, 'name': 'jm1', 'contamination(%)': 19.35, 'metafeatures': [0.8043280130459559, 0.8091978209443166, 0.7095105835242903, 0.8065229174782125, 0.8012887576985982], 'isolation_forest_auroc': 0.61932134409068, 'lof_auroc': 0.4956855244758195, 'ocsvm_auroc': 0.5062304967381476}\n"
     ]
    }
   ],
   "source": [
    "dataset = compute_info(datasets_basic, 'jm1')\n",
    "print(dataset)"
   ]
  },
  {
   "cell_type": "code",
   "execution_count": 33,
   "metadata": {
    "collapsed": true
   },
   "outputs": [],
   "source": [
    "datasets.append(dataset)"
   ]
  },
  {
   "cell_type": "markdown",
   "metadata": {},
   "source": [
    "### 26 scene"
   ]
  },
  {
   "cell_type": "code",
   "execution_count": 37,
   "metadata": {},
   "outputs": [
    {
     "name": "stdout",
     "output_type": "stream",
     "text": [
      "\n",
      "\n",
      "{'datasetID': 26, 'name': 'scene', 'contamination(%)': 17.91, 'metafeatures': [0.8486876736051574, 0.977164420515986, 0.905749745664872, 0.8209398968942537, 0.8209398968942537], 'isolation_forest_auroc': 0.42909578515269076, 'lof_auroc': 0.49268660116291085, 'ocsvm_auroc': 0.43205472632142555}\n"
     ]
    }
   ],
   "source": [
    "dataset = compute_info(datasets_basic, 'scene')\n",
    "print(dataset)"
   ]
  },
  {
   "cell_type": "code",
   "execution_count": 38,
   "metadata": {
    "collapsed": true
   },
   "outputs": [],
   "source": [
    "datasets.append(dataset)"
   ]
  },
  {
   "cell_type": "markdown",
   "metadata": {},
   "source": [
    "### 27 climate_model_simulation_crashes"
   ]
  },
  {
   "cell_type": "code",
   "execution_count": 40,
   "metadata": {},
   "outputs": [
    {
     "name": "stdout",
     "output_type": "stream",
     "text": [
      "\n",
      "\n",
      "{'datasetID': 27, 'name': 'climate_model_simulation_crashes', 'contamination(%)': 8.52, 'metafeatures': [0.8926681913474367, 0.9111219109332318, 0.8463229782097708, 0.914929165872562, 0.914929165872562], 'isolation_forest_auroc': 0.5247315613448337, 'lof_auroc': 0.47720471747931703, 'ocsvm_auroc': 0.5224432318253829}\n"
     ]
    }
   ],
   "source": [
    "dataset = compute_info(datasets_basic, 'climate_model_simulation_crashes')\n",
    "print(dataset)"
   ]
  },
  {
   "cell_type": "code",
   "execution_count": 41,
   "metadata": {
    "collapsed": true
   },
   "outputs": [],
   "source": [
    "datasets.append(dataset)"
   ]
  },
  {
   "cell_type": "markdown",
   "metadata": {},
   "source": [
    "### 28 quake"
   ]
  },
  {
   "cell_type": "code",
   "execution_count": 46,
   "metadata": {},
   "outputs": [
    {
     "name": "stdout",
     "output_type": "stream",
     "text": [
      "\n",
      "\n",
      "{'datasetID': 28, 'name': 'quake', 'contamination(%)': 44.49, 'metafeatures': [0.5555470608222901, 0.5592167855929324, 0.5170234454638125, 0.5541794087665648, 0.5537164458036017], 'isolation_forest_auroc': 0.5166283831019675, 'lof_auroc': 0.5017554102743357, 'ocsvm_auroc': 0.4918631420179408}\n"
     ]
    }
   ],
   "source": [
    "dataset = compute_info(datasets_basic, 'quake')\n",
    "print(dataset)"
   ]
  },
  {
   "cell_type": "code",
   "execution_count": 47,
   "metadata": {
    "collapsed": true
   },
   "outputs": [],
   "source": [
    "datasets.append(dataset)"
   ]
  },
  {
   "cell_type": "markdown",
   "metadata": {},
   "source": [
    "### 29 yeast"
   ]
  },
  {
   "cell_type": "code",
   "execution_count": 51,
   "metadata": {},
   "outputs": [
    {
     "name": "stdout",
     "output_type": "stream",
     "text": [
      "\n",
      "\n",
      "{'datasetID': 29, 'name': 'yeast', 'contamination(%)': 0.34, 'metafeatures': [0.1415132588916947, 0.5794285405806632, 0.48440540976416485, 0.40710800836168604, 0.3684088915543856], 'isolation_forest_auroc': 0.5983096686950642, 'lof_auroc': 0.49797160243407707, 'ocsvm_auroc': 0.9746450304259635}\n"
     ]
    }
   ],
   "source": [
    "dataset = compute_info(datasets_basic, 'yeast')\n",
    "print(dataset)"
   ]
  },
  {
   "cell_type": "code",
   "execution_count": 52,
   "metadata": {
    "collapsed": true
   },
   "outputs": [],
   "source": [
    "datasets.append(dataset)"
   ]
  },
  {
   "cell_type": "markdown",
   "metadata": {},
   "source": [
    "### 30 churn"
   ]
  },
  {
   "cell_type": "code",
   "execution_count": 53,
   "metadata": {},
   "outputs": [
    {
     "name": "stdout",
     "output_type": "stream",
     "text": [
      "\n",
      "\n",
      "{'datasetID': 30, 'name': 'churn', 'contamination(%)': 14.14, 'metafeatures': [0.8728044864179456, 0.8594024584098336, 0.8051959495837984, 0.8570104648418594, 0.8586008616034464], 'isolation_forest_auroc': 0.5618010438360398, 'lof_auroc': 0.5502694923580409, 'ocsvm_auroc': 0.49911569473808715}\n"
     ]
    }
   ],
   "source": [
    "dataset = compute_info(datasets_basic, 'churn')\n",
    "print(dataset)"
   ]
  },
  {
   "cell_type": "code",
   "execution_count": 54,
   "metadata": {
    "collapsed": true
   },
   "outputs": [],
   "source": [
    "datasets.append(dataset)"
   ]
  },
  {
   "cell_type": "markdown",
   "metadata": {},
   "source": [
    "### 31 wilt"
   ]
  },
  {
   "cell_type": "code",
   "execution_count": 56,
   "metadata": {},
   "outputs": [
    {
     "name": "stdout",
     "output_type": "stream",
     "text": [
      "\n",
      "\n",
      "{'datasetID': 31, 'name': 'wilt', 'contamination(%)': 5.39, 'metafeatures': [0.8886251552530433, 0.9431650876323058, 0.978293365762499, 0.9460636383569435, 0.9460636383569435], 'isolation_forest_auroc': 0.47554395585082077, 'lof_auroc': 0.5160424920785566, 'ocsvm_auroc': 0.48862626353926575}\n"
     ]
    }
   ],
   "source": [
    "dataset = compute_info(datasets_basic, 'wilt')\n",
    "print(dataset)"
   ]
  },
  {
   "cell_type": "code",
   "execution_count": 57,
   "metadata": {
    "collapsed": true
   },
   "outputs": [],
   "source": [
    "datasets.append(dataset)"
   ]
  },
  {
   "cell_type": "markdown",
   "metadata": {},
   "source": [
    "### print computed table"
   ]
  },
  {
   "cell_type": "code",
   "execution_count": 58,
   "metadata": {},
   "outputs": [
    {
     "data": {
      "text/html": [
       "<div>\n",
       "<style scoped>\n",
       "    .dataframe tbody tr th:only-of-type {\n",
       "        vertical-align: middle;\n",
       "    }\n",
       "\n",
       "    .dataframe tbody tr th {\n",
       "        vertical-align: top;\n",
       "    }\n",
       "\n",
       "    .dataframe thead th {\n",
       "        text-align: right;\n",
       "    }\n",
       "</style>\n",
       "<table border=\"1\" class=\"dataframe\">\n",
       "  <thead>\n",
       "    <tr style=\"text-align: right;\">\n",
       "      <th></th>\n",
       "      <th>datasetID</th>\n",
       "      <th>name</th>\n",
       "      <th>contamination(%)</th>\n",
       "      <th>metafeatures</th>\n",
       "      <th>isolation_forest_auroc</th>\n",
       "      <th>lof_auroc</th>\n",
       "      <th>ocsvm_auroc</th>\n",
       "    </tr>\n",
       "  </thead>\n",
       "  <tbody>\n",
       "    <tr>\n",
       "      <th>0</th>\n",
       "      <td>0</td>\n",
       "      <td>lymph</td>\n",
       "      <td>4.10</td>\n",
       "      <td>[0.7071230158730157, 0.8857142857142858, 0.757...</td>\n",
       "      <td>0.996479</td>\n",
       "      <td>0.909624</td>\n",
       "      <td>0.610329</td>\n",
       "    </tr>\n",
       "    <tr>\n",
       "      <th>1</th>\n",
       "      <td>1</td>\n",
       "      <td>glass</td>\n",
       "      <td>4.20</td>\n",
       "      <td>[0.459828722002635, 0.6049174979609763, 0.7060...</td>\n",
       "      <td>0.536043</td>\n",
       "      <td>0.594038</td>\n",
       "      <td>0.506775</td>\n",
       "    </tr>\n",
       "    <tr>\n",
       "      <th>2</th>\n",
       "      <td>2</td>\n",
       "      <td>wdbc</td>\n",
       "      <td>37.26</td>\n",
       "      <td>[0.9386796733212339, 0.9543805634776596, 0.915...</td>\n",
       "      <td>0.654167</td>\n",
       "      <td>0.612818</td>\n",
       "      <td>0.484052</td>\n",
       "    </tr>\n",
       "    <tr>\n",
       "      <th>3</th>\n",
       "      <td>3</td>\n",
       "      <td>speech</td>\n",
       "      <td>1.65</td>\n",
       "      <td>[0.9631008911881127, 0.9763895974447406, 0.982...</td>\n",
       "      <td>0.499921</td>\n",
       "      <td>0.508256</td>\n",
       "      <td>0.516767</td>\n",
       "    </tr>\n",
       "    <tr>\n",
       "      <th>4</th>\n",
       "      <td>4</td>\n",
       "      <td>satellite_image</td>\n",
       "      <td>32.00</td>\n",
       "      <td>[0.7878128466652179, 0.8296717347643972, 0.882...</td>\n",
       "      <td>0.712866</td>\n",
       "      <td>0.538993</td>\n",
       "      <td>0.493408</td>\n",
       "    </tr>\n",
       "    <tr>\n",
       "      <th>5</th>\n",
       "      <td>5</td>\n",
       "      <td>baseball</td>\n",
       "      <td>9.33</td>\n",
       "      <td>[0.8382204418025314, 0.9268990960742729, 0.900...</td>\n",
       "      <td>0.757366</td>\n",
       "      <td>0.589728</td>\n",
       "      <td>0.510074</td>\n",
       "    </tr>\n",
       "    <tr>\n",
       "      <th>6</th>\n",
       "      <td>6</td>\n",
       "      <td>ecoli</td>\n",
       "      <td>2.68</td>\n",
       "      <td>[0.7472514035325506, 0.8585529525902041, 0.808...</td>\n",
       "      <td>0.828746</td>\n",
       "      <td>0.657492</td>\n",
       "      <td>0.690112</td>\n",
       "    </tr>\n",
       "    <tr>\n",
       "      <th>7</th>\n",
       "      <td>7</td>\n",
       "      <td>phoneme</td>\n",
       "      <td>29.35</td>\n",
       "      <td>[0.7605367194395449, 0.7588796499200512, 0.904...</td>\n",
       "      <td>0.549767</td>\n",
       "      <td>0.546197</td>\n",
       "      <td>0.526092</td>\n",
       "    </tr>\n",
       "    <tr>\n",
       "      <th>8</th>\n",
       "      <td>8</td>\n",
       "      <td>click_prediction_small</td>\n",
       "      <td>16.84</td>\n",
       "      <td>[0.8099027765678555, 0.8315560261543755, 0.732...</td>\n",
       "      <td>0.513930</td>\n",
       "      <td>0.504100</td>\n",
       "      <td>0.496262</td>\n",
       "    </tr>\n",
       "    <tr>\n",
       "      <th>9</th>\n",
       "      <td>9</td>\n",
       "      <td>musk</td>\n",
       "      <td>15.41</td>\n",
       "      <td>[0.8414119011459457, 0.9536296918760492, 0.720...</td>\n",
       "      <td>0.418187</td>\n",
       "      <td>0.494910</td>\n",
       "      <td>0.576733</td>\n",
       "    </tr>\n",
       "    <tr>\n",
       "      <th>10</th>\n",
       "      <td>10</td>\n",
       "      <td>credit_g</td>\n",
       "      <td>30.00</td>\n",
       "      <td>[0.7300000000000001, 0.76, 0.6060000000000001,...</td>\n",
       "      <td>0.530952</td>\n",
       "      <td>0.476190</td>\n",
       "      <td>0.503571</td>\n",
       "    </tr>\n",
       "    <tr>\n",
       "      <th>11</th>\n",
       "      <td>11</td>\n",
       "      <td>diabetes</td>\n",
       "      <td>34.89</td>\n",
       "      <td>[0.7564935064935066, 0.765686944634313, 0.6796...</td>\n",
       "      <td>0.644657</td>\n",
       "      <td>0.515701</td>\n",
       "      <td>0.468373</td>\n",
       "    </tr>\n",
       "    <tr>\n",
       "      <th>12</th>\n",
       "      <td>12</td>\n",
       "      <td>breast_w</td>\n",
       "      <td>34.48</td>\n",
       "      <td>[0.9586501618406089, 0.9586909864987024, 0.951...</td>\n",
       "      <td>0.943005</td>\n",
       "      <td>0.341390</td>\n",
       "      <td>0.877716</td>\n",
       "    </tr>\n",
       "    <tr>\n",
       "      <th>13</th>\n",
       "      <td>13</td>\n",
       "      <td>blood_transfusion_service_center</td>\n",
       "      <td>23.79</td>\n",
       "      <td>[0.7473513513513513, 0.7687207207207207, 0.569...</td>\n",
       "      <td>0.498679</td>\n",
       "      <td>0.488853</td>\n",
       "      <td>0.568441</td>\n",
       "    </tr>\n",
       "    <tr>\n",
       "      <th>14</th>\n",
       "      <td>14</td>\n",
       "      <td>heart</td>\n",
       "      <td>45.54</td>\n",
       "      <td>[0.8178680014831293, 0.827982944011865, 0.5914...</td>\n",
       "      <td>0.614097</td>\n",
       "      <td>0.520949</td>\n",
       "      <td>0.491436</td>\n",
       "    </tr>\n",
       "    <tr>\n",
       "      <th>15</th>\n",
       "      <td>15</td>\n",
       "      <td>arrhythmia</td>\n",
       "      <td>45.79</td>\n",
       "      <td>[0.16748182967615627, 0.7107932335427034, 0.52...</td>\n",
       "      <td>0.674692</td>\n",
       "      <td>0.683604</td>\n",
       "      <td>0.529183</td>\n",
       "    </tr>\n",
       "    <tr>\n",
       "      <th>16</th>\n",
       "      <td>16</td>\n",
       "      <td>spambase</td>\n",
       "      <td>39.40</td>\n",
       "      <td>[0.8216885343215848, 0.8676362405756416, 0.787...</td>\n",
       "      <td>0.592028</td>\n",
       "      <td>0.471419</td>\n",
       "      <td>0.629508</td>\n",
       "    </tr>\n",
       "    <tr>\n",
       "      <th>17</th>\n",
       "      <td>17</td>\n",
       "      <td>kc2</td>\n",
       "      <td>20.49</td>\n",
       "      <td>[0.8284612538774582, 0.8437035772218902, 0.603...</td>\n",
       "      <td>0.723747</td>\n",
       "      <td>0.546211</td>\n",
       "      <td>0.562121</td>\n",
       "    </tr>\n",
       "    <tr>\n",
       "      <th>18</th>\n",
       "      <td>18</td>\n",
       "      <td>ilpd</td>\n",
       "      <td>28.64</td>\n",
       "      <td>[0.5581480000410143, 0.7102079424159463, 0.641...</td>\n",
       "      <td>0.391589</td>\n",
       "      <td>0.408373</td>\n",
       "      <td>0.470506</td>\n",
       "    </tr>\n",
       "    <tr>\n",
       "      <th>19</th>\n",
       "      <td>19</td>\n",
       "      <td>pc1</td>\n",
       "      <td>6.94</td>\n",
       "      <td>[0.8917911255411255, 0.9341346378846378, 0.890...</td>\n",
       "      <td>0.609232</td>\n",
       "      <td>0.532474</td>\n",
       "      <td>0.463027</td>\n",
       "    </tr>\n",
       "    <tr>\n",
       "      <th>20</th>\n",
       "      <td>20</td>\n",
       "      <td>abalone</td>\n",
       "      <td>0.43</td>\n",
       "      <td>[0.23440718746259237, 0.2625402713501458, 0.20...</td>\n",
       "      <td>0.553632</td>\n",
       "      <td>0.497836</td>\n",
       "      <td>0.584422</td>\n",
       "    </tr>\n",
       "    <tr>\n",
       "      <th>21</th>\n",
       "      <td>21</td>\n",
       "      <td>speed_dating</td>\n",
       "      <td>16.47</td>\n",
       "      <td>[0.7598620485139848, 0.8438764424598592, 0.667...</td>\n",
       "      <td>0.515048</td>\n",
       "      <td>0.503770</td>\n",
       "      <td>0.498101</td>\n",
       "    </tr>\n",
       "    <tr>\n",
       "      <th>22</th>\n",
       "      <td>22</td>\n",
       "      <td>cardiotocography</td>\n",
       "      <td>12.94</td>\n",
       "      <td>[0.9995283018867924, 0.999052111410602, 0.3706...</td>\n",
       "      <td>0.601134</td>\n",
       "      <td>0.553102</td>\n",
       "      <td>0.517271</td>\n",
       "    </tr>\n",
       "    <tr>\n",
       "      <th>23</th>\n",
       "      <td>23</td>\n",
       "      <td>sick</td>\n",
       "      <td>6.12</td>\n",
       "      <td>[0.41410944619023954, 0.954667105253949, 0.908...</td>\n",
       "      <td>0.481216</td>\n",
       "      <td>0.529636</td>\n",
       "      <td>0.521692</td>\n",
       "    </tr>\n",
       "    <tr>\n",
       "      <th>24</th>\n",
       "      <td>24</td>\n",
       "      <td>adult</td>\n",
       "      <td>23.93</td>\n",
       "      <td>[0.7952380584336447, 0.8279558426270286, 0.740...</td>\n",
       "      <td>0.510195</td>\n",
       "      <td>0.504740</td>\n",
       "      <td>0.499279</td>\n",
       "    </tr>\n",
       "    <tr>\n",
       "      <th>25</th>\n",
       "      <td>25</td>\n",
       "      <td>jm1</td>\n",
       "      <td>19.35</td>\n",
       "      <td>[0.8043280130459559, 0.8091978209443166, 0.709...</td>\n",
       "      <td>0.619321</td>\n",
       "      <td>0.495686</td>\n",
       "      <td>0.506230</td>\n",
       "    </tr>\n",
       "    <tr>\n",
       "      <th>26</th>\n",
       "      <td>26</td>\n",
       "      <td>scene</td>\n",
       "      <td>17.91</td>\n",
       "      <td>[0.8486876736051574, 0.977164420515986, 0.9057...</td>\n",
       "      <td>0.429096</td>\n",
       "      <td>0.492687</td>\n",
       "      <td>0.432055</td>\n",
       "    </tr>\n",
       "    <tr>\n",
       "      <th>27</th>\n",
       "      <td>27</td>\n",
       "      <td>climate_model_simulation_crashes</td>\n",
       "      <td>8.52</td>\n",
       "      <td>[0.8926681913474367, 0.9111219109332318, 0.846...</td>\n",
       "      <td>0.524732</td>\n",
       "      <td>0.477205</td>\n",
       "      <td>0.522443</td>\n",
       "    </tr>\n",
       "    <tr>\n",
       "      <th>28</th>\n",
       "      <td>28</td>\n",
       "      <td>quake</td>\n",
       "      <td>44.49</td>\n",
       "      <td>[0.5555470608222901, 0.5592167855929324, 0.517...</td>\n",
       "      <td>0.516628</td>\n",
       "      <td>0.501755</td>\n",
       "      <td>0.491863</td>\n",
       "    </tr>\n",
       "    <tr>\n",
       "      <th>29</th>\n",
       "      <td>29</td>\n",
       "      <td>yeast</td>\n",
       "      <td>0.34</td>\n",
       "      <td>[0.1415132588916947, 0.5794285405806632, 0.484...</td>\n",
       "      <td>0.598310</td>\n",
       "      <td>0.497972</td>\n",
       "      <td>0.974645</td>\n",
       "    </tr>\n",
       "    <tr>\n",
       "      <th>30</th>\n",
       "      <td>30</td>\n",
       "      <td>churn</td>\n",
       "      <td>14.14</td>\n",
       "      <td>[0.8728044864179456, 0.8594024584098336, 0.805...</td>\n",
       "      <td>0.561801</td>\n",
       "      <td>0.550269</td>\n",
       "      <td>0.499116</td>\n",
       "    </tr>\n",
       "    <tr>\n",
       "      <th>31</th>\n",
       "      <td>31</td>\n",
       "      <td>wilt</td>\n",
       "      <td>5.39</td>\n",
       "      <td>[0.8886251552530433, 0.9431650876323058, 0.978...</td>\n",
       "      <td>0.475544</td>\n",
       "      <td>0.516042</td>\n",
       "      <td>0.488626</td>\n",
       "    </tr>\n",
       "  </tbody>\n",
       "</table>\n",
       "</div>"
      ],
      "text/plain": [
       "    datasetID                              name  contamination(%)  \\\n",
       "0           0                             lymph              4.10   \n",
       "1           1                             glass              4.20   \n",
       "2           2                              wdbc             37.26   \n",
       "3           3                            speech              1.65   \n",
       "4           4                   satellite_image             32.00   \n",
       "5           5                          baseball              9.33   \n",
       "6           6                             ecoli              2.68   \n",
       "7           7                           phoneme             29.35   \n",
       "8           8            click_prediction_small             16.84   \n",
       "9           9                              musk             15.41   \n",
       "10         10                          credit_g             30.00   \n",
       "11         11                          diabetes             34.89   \n",
       "12         12                          breast_w             34.48   \n",
       "13         13  blood_transfusion_service_center             23.79   \n",
       "14         14                             heart             45.54   \n",
       "15         15                        arrhythmia             45.79   \n",
       "16         16                          spambase             39.40   \n",
       "17         17                               kc2             20.49   \n",
       "18         18                              ilpd             28.64   \n",
       "19         19                               pc1              6.94   \n",
       "20         20                           abalone              0.43   \n",
       "21         21                      speed_dating             16.47   \n",
       "22         22                  cardiotocography             12.94   \n",
       "23         23                              sick              6.12   \n",
       "24         24                             adult             23.93   \n",
       "25         25                               jm1             19.35   \n",
       "26         26                             scene             17.91   \n",
       "27         27  climate_model_simulation_crashes              8.52   \n",
       "28         28                             quake             44.49   \n",
       "29         29                             yeast              0.34   \n",
       "30         30                             churn             14.14   \n",
       "31         31                              wilt              5.39   \n",
       "\n",
       "                                         metafeatures  isolation_forest_auroc  \\\n",
       "0   [0.7071230158730157, 0.8857142857142858, 0.757...                0.996479   \n",
       "1   [0.459828722002635, 0.6049174979609763, 0.7060...                0.536043   \n",
       "2   [0.9386796733212339, 0.9543805634776596, 0.915...                0.654167   \n",
       "3   [0.9631008911881127, 0.9763895974447406, 0.982...                0.499921   \n",
       "4   [0.7878128466652179, 0.8296717347643972, 0.882...                0.712866   \n",
       "5   [0.8382204418025314, 0.9268990960742729, 0.900...                0.757366   \n",
       "6   [0.7472514035325506, 0.8585529525902041, 0.808...                0.828746   \n",
       "7   [0.7605367194395449, 0.7588796499200512, 0.904...                0.549767   \n",
       "8   [0.8099027765678555, 0.8315560261543755, 0.732...                0.513930   \n",
       "9   [0.8414119011459457, 0.9536296918760492, 0.720...                0.418187   \n",
       "10  [0.7300000000000001, 0.76, 0.6060000000000001,...                0.530952   \n",
       "11  [0.7564935064935066, 0.765686944634313, 0.6796...                0.644657   \n",
       "12  [0.9586501618406089, 0.9586909864987024, 0.951...                0.943005   \n",
       "13  [0.7473513513513513, 0.7687207207207207, 0.569...                0.498679   \n",
       "14  [0.8178680014831293, 0.827982944011865, 0.5914...                0.614097   \n",
       "15  [0.16748182967615627, 0.7107932335427034, 0.52...                0.674692   \n",
       "16  [0.8216885343215848, 0.8676362405756416, 0.787...                0.592028   \n",
       "17  [0.8284612538774582, 0.8437035772218902, 0.603...                0.723747   \n",
       "18  [0.5581480000410143, 0.7102079424159463, 0.641...                0.391589   \n",
       "19  [0.8917911255411255, 0.9341346378846378, 0.890...                0.609232   \n",
       "20  [0.23440718746259237, 0.2625402713501458, 0.20...                0.553632   \n",
       "21  [0.7598620485139848, 0.8438764424598592, 0.667...                0.515048   \n",
       "22  [0.9995283018867924, 0.999052111410602, 0.3706...                0.601134   \n",
       "23  [0.41410944619023954, 0.954667105253949, 0.908...                0.481216   \n",
       "24  [0.7952380584336447, 0.8279558426270286, 0.740...                0.510195   \n",
       "25  [0.8043280130459559, 0.8091978209443166, 0.709...                0.619321   \n",
       "26  [0.8486876736051574, 0.977164420515986, 0.9057...                0.429096   \n",
       "27  [0.8926681913474367, 0.9111219109332318, 0.846...                0.524732   \n",
       "28  [0.5555470608222901, 0.5592167855929324, 0.517...                0.516628   \n",
       "29  [0.1415132588916947, 0.5794285405806632, 0.484...                0.598310   \n",
       "30  [0.8728044864179456, 0.8594024584098336, 0.805...                0.561801   \n",
       "31  [0.8886251552530433, 0.9431650876323058, 0.978...                0.475544   \n",
       "\n",
       "    lof_auroc  ocsvm_auroc  \n",
       "0    0.909624     0.610329  \n",
       "1    0.594038     0.506775  \n",
       "2    0.612818     0.484052  \n",
       "3    0.508256     0.516767  \n",
       "4    0.538993     0.493408  \n",
       "5    0.589728     0.510074  \n",
       "6    0.657492     0.690112  \n",
       "7    0.546197     0.526092  \n",
       "8    0.504100     0.496262  \n",
       "9    0.494910     0.576733  \n",
       "10   0.476190     0.503571  \n",
       "11   0.515701     0.468373  \n",
       "12   0.341390     0.877716  \n",
       "13   0.488853     0.568441  \n",
       "14   0.520949     0.491436  \n",
       "15   0.683604     0.529183  \n",
       "16   0.471419     0.629508  \n",
       "17   0.546211     0.562121  \n",
       "18   0.408373     0.470506  \n",
       "19   0.532474     0.463027  \n",
       "20   0.497836     0.584422  \n",
       "21   0.503770     0.498101  \n",
       "22   0.553102     0.517271  \n",
       "23   0.529636     0.521692  \n",
       "24   0.504740     0.499279  \n",
       "25   0.495686     0.506230  \n",
       "26   0.492687     0.432055  \n",
       "27   0.477205     0.522443  \n",
       "28   0.501755     0.491863  \n",
       "29   0.497972     0.974645  \n",
       "30   0.550269     0.499116  \n",
       "31   0.516042     0.488626  "
      ]
     },
     "execution_count": 58,
     "metadata": {},
     "output_type": "execute_result"
    }
   ],
   "source": [
    "df = pd.DataFrame(datasets)\n",
    "cols = ['datasetID', 'name', 'contamination(%)', 'metafeatures', 'isolation_forest_auroc', 'lof_auroc', 'ocsvm_auroc']\n",
    "df = df[cols]\n",
    "df"
   ]
  },
  {
   "cell_type": "markdown",
   "metadata": {},
   "source": [
    "### Save"
   ]
  },
  {
   "cell_type": "code",
   "execution_count": 59,
   "metadata": {
    "collapsed": true
   },
   "outputs": [],
   "source": [
    "import pickle\n",
    "with open(\"table_computed.txt\", \"wb\") as fp: # Pickling\n",
    "    pickle.dump(datasets, fp)"
   ]
  },
  {
   "cell_type": "markdown",
   "metadata": {},
   "source": [
    "### Load"
   ]
  },
  {
   "cell_type": "code",
   "execution_count": 62,
   "metadata": {},
   "outputs": [],
   "source": [
    "import pickle\n",
    "with open(\"table_computed.txt\", \"rb\") as fp: # Unpickling\n",
    "    datasets = pickle.load(fp)"
   ]
  },
  {
   "cell_type": "code",
   "execution_count": null,
   "metadata": {
    "collapsed": true
   },
   "outputs": [],
   "source": []
  }
 ],
 "metadata": {
  "kernelspec": {
   "display_name": "Python 3",
   "language": "python",
   "name": "python3"
  },
  "language_info": {
   "codemirror_mode": {
    "name": "ipython",
    "version": 3
   },
   "file_extension": ".py",
   "mimetype": "text/x-python",
   "name": "python",
   "nbconvert_exporter": "python",
   "pygments_lexer": "ipython3",
   "version": "3.6.3"
  }
 },
 "nbformat": 4,
 "nbformat_minor": 2
}
