{
 "cells": [
  {
   "cell_type": "markdown",
   "metadata": {},
   "source": [
    "# Automatic Data Type Discovery"
   ]
  },
  {
   "cell_type": "code",
   "execution_count": 1,
   "metadata": {
    "collapsed": true
   },
   "outputs": [],
   "source": [
    "from scipy.io import savemat\n",
    "import openml as oml\n",
    "import pandas as pd\n",
    "import numpy as np\n",
    "import random"
   ]
  },
  {
   "cell_type": "markdown",
   "metadata": {},
   "source": [
    "## 1. Heuristic Methods"
   ]
  },
  {
   "cell_type": "code",
   "execution_count": 8,
   "metadata": {
    "collapsed": true
   },
   "outputs": [],
   "source": [
    "def infer_feature_type(feature):\n",
    "    \"\"\"\n",
    "    Infer data types for the given feature using simple logic\n",
    "    Possible data types to infer: boolean, date, float, integer, string\n",
    "    Feature that is not either a boolean, a date, a float or an integer, is classified as a string\n",
    "    \"\"\"\n",
    "    data_type = \"\"\n",
    "    types = [\"date\",\"float64\",\"int64\",\"string\"]\n",
    "    weights = [0,0,0,0] #Weights corresponding to the data types\n",
    "    feature_len = len(feature)\n",
    "    \n",
    "    indices_number = int(0.1 * feature_len) #Number of different values to check in a feature\n",
    "    indices = random.sample(range(0,feature_len), min(indices_number,feature_len)) #Array of random indices\n",
    "    \n",
    "    # If the feature only contains two different unique values, then infer it as boolean\n",
    "    if len(pd.unique(feature)) == 2:\n",
    "        data_type = \"bool\"\n",
    "    else:\n",
    "        for i in indices:\n",
    "            try:\n",
    "                if (len(feature[i]) <= 10 \n",
    "                    and (((feature[i][2:3]=='-' or feature[i][2:3]=='/') \n",
    "                    and (feature[i][5:6]=='-' or feature[i][5:6]=='/')) \n",
    "                    or ((feature[i][4:5]=='-' or feature[i][4:5]=='/')\n",
    "                    and (feature[i][7:8]=='-' or feature[i][7:8]=='/')))):\n",
    "                    weights[0] += 1 #Date\n",
    "                else:\n",
    "                    weights[3] += 1 #String\n",
    "            except (TypeError,ValueError,IndexError):\n",
    "                try:\n",
    "                    int(feature[i]) # numeric\n",
    "                    if ('.' in str(feature[i])):\n",
    "                        if isinstance(feature[i], np.float64):\n",
    "                            if feature[i].is_integer():\n",
    "                                weights[2] += 1 # Integer\n",
    "                            else:\n",
    "                                weights[1] += 1 # Float\n",
    "                        else:\n",
    "                            weights[1] += 1 # Float\n",
    "                    else:\n",
    "                        weights[2] += 1 #Integer\n",
    "                except (TypeError,ValueError,IndexError):\n",
    "                    weights[3] += 1 #String\n",
    "#         print (\"Date: {}, Float64: {}, Int64: {}, String: {}\".format(weights[0],weights[1],weights[2],weights[3])) #For debugging purposes\n",
    "        data_type = types[weights.index(max(weights))]\n",
    "        \n",
    "    return data_type\n",
    "\n",
    "def discover_type_heuristic(data):\n",
    "    \"\"\"\n",
    "    Automatically infer data types for each feature in the dataframe using simple logic\n",
    "    ---\n",
    "    input:\n",
    "\n",
    "    data : numpy array or dataframe (numeric data needs to be 64 bit)\n",
    "        \n",
    "    \"\"\"\n",
    "#     df = pd.DataFrame(data)\n",
    "#     print(df)\n",
    "    result = []\n",
    "    if isinstance(data, np.ndarray):\n",
    "        # convert float32 to float64\n",
    "        data = np.array(data, dtype='float64')\n",
    "        df = pd.DataFrame(data)\n",
    "    else:\n",
    "        df = data\n",
    "\n",
    "    for column in df.columns:        \n",
    "        #print (\"Trying to automatically infer the data type of the\",column,\"feature...\") #For debugging purposes\n",
    "        type_inferred = infer_feature_type(df[column])\n",
    "        result.append(type_inferred)\n",
    "        #print (\"Result:\",inferredType) #For debugging purposes\n",
    "    return result"
   ]
  },
  {
   "cell_type": "markdown",
   "metadata": {},
   "source": [
    "### 1.1 Get data from csv"
   ]
  },
  {
   "cell_type": "code",
   "execution_count": 24,
   "metadata": {},
   "outputs": [
    {
     "data": {
      "text/html": [
       "<div>\n",
       "<style scoped>\n",
       "    .dataframe tbody tr th:only-of-type {\n",
       "        vertical-align: middle;\n",
       "    }\n",
       "\n",
       "    .dataframe tbody tr th {\n",
       "        vertical-align: top;\n",
       "    }\n",
       "\n",
       "    .dataframe thead th {\n",
       "        text-align: right;\n",
       "    }\n",
       "</style>\n",
       "<table border=\"1\" class=\"dataframe\">\n",
       "  <thead>\n",
       "    <tr style=\"text-align: right;\">\n",
       "      <th></th>\n",
       "      <th>total_bill</th>\n",
       "      <th>tip</th>\n",
       "      <th>sex</th>\n",
       "      <th>smoker</th>\n",
       "      <th>day</th>\n",
       "      <th>time</th>\n",
       "      <th>size</th>\n",
       "    </tr>\n",
       "  </thead>\n",
       "  <tbody>\n",
       "    <tr>\n",
       "      <th>0</th>\n",
       "      <td>16.99</td>\n",
       "      <td>1.01</td>\n",
       "      <td>Female</td>\n",
       "      <td>No</td>\n",
       "      <td>Sun</td>\n",
       "      <td>Dinner</td>\n",
       "      <td>2</td>\n",
       "    </tr>\n",
       "    <tr>\n",
       "      <th>1</th>\n",
       "      <td>10.34</td>\n",
       "      <td>1.66</td>\n",
       "      <td>Male</td>\n",
       "      <td>No</td>\n",
       "      <td>Sun</td>\n",
       "      <td>Dinner</td>\n",
       "      <td>3</td>\n",
       "    </tr>\n",
       "    <tr>\n",
       "      <th>2</th>\n",
       "      <td>21.01</td>\n",
       "      <td>3.50</td>\n",
       "      <td>Male</td>\n",
       "      <td>No</td>\n",
       "      <td>Sun</td>\n",
       "      <td>Dinner</td>\n",
       "      <td>3</td>\n",
       "    </tr>\n",
       "    <tr>\n",
       "      <th>3</th>\n",
       "      <td>23.68</td>\n",
       "      <td>3.31</td>\n",
       "      <td>Male</td>\n",
       "      <td>No</td>\n",
       "      <td>Sun</td>\n",
       "      <td>Dinner</td>\n",
       "      <td>2</td>\n",
       "    </tr>\n",
       "    <tr>\n",
       "      <th>4</th>\n",
       "      <td>24.59</td>\n",
       "      <td>3.61</td>\n",
       "      <td>Female</td>\n",
       "      <td>No</td>\n",
       "      <td>Sun</td>\n",
       "      <td>Dinner</td>\n",
       "      <td>4</td>\n",
       "    </tr>\n",
       "  </tbody>\n",
       "</table>\n",
       "</div>"
      ],
      "text/plain": [
       "   total_bill   tip     sex smoker  day    time  size\n",
       "0       16.99  1.01  Female     No  Sun  Dinner     2\n",
       "1       10.34  1.66    Male     No  Sun  Dinner     3\n",
       "2       21.01  3.50    Male     No  Sun  Dinner     3\n",
       "3       23.68  3.31    Male     No  Sun  Dinner     2\n",
       "4       24.59  3.61  Female     No  Sun  Dinner     4"
      ]
     },
     "execution_count": 24,
     "metadata": {},
     "output_type": "execute_result"
    }
   ],
   "source": [
    "df = pd.read_csv(\"datasets_csv/tips.csv\")\n",
    "df.head()"
   ]
  },
  {
   "cell_type": "code",
   "execution_count": 25,
   "metadata": {},
   "outputs": [
    {
     "data": {
      "text/plain": [
       "['float64', 'float64', 'bool', 'bool', 'string', 'bool', 'int64']"
      ]
     },
     "execution_count": 25,
     "metadata": {},
     "output_type": "execute_result"
    }
   ],
   "source": [
    "discover_type_heuristic(df)"
   ]
  },
  {
   "cell_type": "markdown",
   "metadata": {},
   "source": [
    "### 1.2 Get data from openml"
   ]
  },
  {
   "cell_type": "code",
   "execution_count": 98,
   "metadata": {},
   "outputs": [
    {
     "data": {
      "text/plain": [
       "(583, 11)"
      ]
     },
     "execution_count": 98,
     "metadata": {},
     "output_type": "execute_result"
    }
   ],
   "source": [
    "data = oml.datasets.get_dataset(1480)\n",
    "Xy = data.get_data()\n",
    "Xy.shape"
   ]
  },
  {
   "cell_type": "code",
   "execution_count": 99,
   "metadata": {},
   "outputs": [
    {
     "data": {
      "text/plain": [
       "['int64',\n",
       " 'bool',\n",
       " 'float64',\n",
       " 'float64',\n",
       " 'int64',\n",
       " 'int64',\n",
       " 'int64',\n",
       " 'float64',\n",
       " 'float64',\n",
       " 'float64',\n",
       " 'bool']"
      ]
     },
     "execution_count": 99,
     "metadata": {},
     "output_type": "execute_result"
    }
   ],
   "source": [
    "discover_type_heuristic(Xy)"
   ]
  },
  {
   "cell_type": "markdown",
   "metadata": {},
   "source": [
    "## 2. Bayesian Method\n",
    "To apply bayesian methos, dataset needs to be parsed into tabular numeric form beforehand."
   ]
  },
  {
   "cell_type": "markdown",
   "metadata": {},
   "source": [
    "### Get data from openml"
   ]
  },
  {
   "cell_type": "code",
   "execution_count": 2,
   "metadata": {},
   "outputs": [
    {
     "data": {
      "text/plain": [
       "(4898, 12)"
      ]
     },
     "execution_count": 2,
     "metadata": {},
     "output_type": "execute_result"
    }
   ],
   "source": [
    "data = oml.datasets.get_dataset(40498)\n",
    "Xy = data.get_data()\n",
    "Xy.shape"
   ]
  },
  {
   "cell_type": "markdown",
   "metadata": {},
   "source": [
    "### Generate mat file"
   ]
  },
  {
   "cell_type": "code",
   "execution_count": 16,
   "metadata": {
    "collapsed": true
   },
   "outputs": [],
   "source": [
    "def generate_mat(data):\n",
    "    simple_types = discover_type_heuristic(data)\n",
    "    # map simple types to meta types\n",
    "    # 1: real (w positive: all real | positive | interval)\n",
    "    # 2: real (w/o positive: all real | interval)\n",
    "    # 3: binary data\n",
    "    # 4: discrete (non-binary: categorical | ordinal | count)\n",
    "    meta_types = [] \n",
    "    for i in range(len(simple_types)):\n",
    "#         print(simple_types[i])\n",
    "        if simple_types[i] == \"bool\":\n",
    "            meta_types.append(3)\n",
    "        elif simple_types[i] == \"int64\" or simple_types[i] == \"float64\":\n",
    "            if (len(set(data[:,i])) < 0.05 * len(data[:,i]) and len(set(data[:,i])) < 50):\n",
    "                meta_types.append(4)\n",
    "            else:\n",
    "                if (data[:,i] > 0).all():\n",
    "                    meta_types.append(1)\n",
    "                else:\n",
    "                    meta_types.append(2)\n",
    "    discrete_cardinality = [] # number of unique for discrete feature, 1 for others\n",
    "    for i in range(len(meta_types)):\n",
    "        if (meta_types[i] == 4):\n",
    "            discrete_cardinality.append(len(set(data[:,i])))\n",
    "        else:\n",
    "            discrete_cardinality.append(1)\n",
    "    data_dict = {'X': data,\n",
    "                 'T': np.asarray(meta_types),\n",
    "                 'R': np.asarray(discrete_cardinality)}\n",
    "    print(data_dict)\n",
    "    savemat('bayesian/data/temp/data.mat', data_dict, oned_as='row')"
   ]
  },
  {
   "cell_type": "code",
   "execution_count": 17,
   "metadata": {},
   "outputs": [
    {
     "name": "stdout",
     "output_type": "stream",
     "text": [
      "{'X': array([[ 7.  ,  0.27,  0.36, ...,  0.45,  8.8 ,  3.  ],\n",
      "       [ 6.3 ,  0.3 ,  0.34, ...,  0.49,  9.5 ,  3.  ],\n",
      "       [ 8.1 ,  0.28,  0.4 , ...,  0.44, 10.1 ,  3.  ],\n",
      "       ...,\n",
      "       [ 6.5 ,  0.24,  0.19, ...,  0.46,  9.4 ,  3.  ],\n",
      "       [ 5.5 ,  0.29,  0.3 , ...,  0.38, 12.8 ,  4.  ],\n",
      "       [ 6.  ,  0.21,  0.38, ...,  0.32, 11.8 ,  3.  ]], dtype=float32), 'T': array([1, 1, 2, 1, 1, 1, 1, 1, 1, 1, 1, 4]), 'R': array([1, 1, 1, 1, 1, 1, 1, 1, 1, 1, 1, 7])}\n"
     ]
    }
   ],
   "source": [
    "generate_mat(Xy)"
   ]
  },
  {
   "cell_type": "markdown",
   "metadata": {},
   "source": [
    "### Call bayesian model"
   ]
  },
  {
   "cell_type": "code",
   "execution_count": 13,
   "metadata": {
    "scrolled": true
   },
   "outputs": [
    {
     "name": "stderr",
     "output_type": "stream",
     "text": [
      "D:\\Programfiles\\Anaconda3\\lib\\site-packages\\h5py\\__init__.py:34: FutureWarning: Conversion of the second argument of issubdtype from `float` to `np.floating` is deprecated. In future, it will be treated as `np.float64 == np.dtype(float).type`.\n",
      "  from ._conv import register_converters as _register_converters\n"
     ]
    }
   ],
   "source": [
    "from bayesian.bin import abda"
   ]
  },
  {
   "cell_type": "code",
   "execution_count": 21,
   "metadata": {},
   "outputs": [
    {
     "name": "stdout",
     "output_type": "stream",
     "text": [
      "\n",
      "Loaded bayesian/data/temp/data.mat\n",
      "\twith shape: (4898, 12)\n",
      "\tmeta-types:[1 1 2 1 1 1 1 1 1 1 1 4]\n",
      "\tmaximal discrete cardinality: [1 1 1 1 1 1 1 1 1 1 1 7]\n",
      "\tmeta types [<MetaType.REAL: 1> <MetaType.REAL: 1> <MetaType.REAL: 1>\n",
      " <MetaType.REAL: 1> <MetaType.REAL: 1> <MetaType.REAL: 1>\n",
      " <MetaType.REAL: 1> <MetaType.REAL: 1> <MetaType.REAL: 1>\n",
      " <MetaType.REAL: 1> <MetaType.REAL: 1> <MetaType.DISCRETE: 3>]\n",
      "\tdomains [array([ 3.79999995, 14.19999981]), array([0.08      , 1.10000002]), array([0.        , 1.65999997]), array([ 0.60000002, 65.80000305]), array([0.009     , 0.34599999]), array([  2., 289.]), array([  9., 440.]), array([0.98711002, 1.03898001]), array([2.72000003, 3.81999993]), array([0.22      , 1.08000004]), array([ 8.        , 14.19999981]), array([0, 1, 2, 3, 4, 5, 6], dtype=int64)]\n",
      "\ttranslated discrete features (starting from 0)\n",
      "MT MetaType.REAL OrderedDict([(<Type.REAL: (1, <MetaType.REAL: 1>)>, OrderedDict([(<class 'bayesian.spn.structure.leaves.parametric.Parametric.Gaussian'>, {'params': {'mean': 0, 'stdev': 1}, 'prior': <bayesian.spn.algorithms.Posteriors.PriorNormalInverseGamma object at 0x000000250799EBE0>})])), (<Type.POSITIVE: (3, <MetaType.REAL: 1>)>, OrderedDict([(<class 'bayesian.spn.structure.leaves.parametric.Parametric.Gamma'>, {'params': {'alpha': None, 'beta': 1}, 'prior': <bayesian.spn.algorithms.Posteriors.PriorGamma object at 0x000000250799E898>}), (<class 'bayesian.spn.structure.leaves.parametric.Parametric.Exponential'>, {'params': {'l': 2}, 'prior': <bayesian.spn.algorithms.Posteriors.PriorGamma object at 0x000000250B52F208>})]))])\n",
      "MT MetaType.DISCRETE OrderedDict([(<Type.CATEGORICAL: (4, <MetaType.DISCRETE: 3>)>, {<class 'bayesian.spn.structure.leaves.parametric.Parametric.Categorical'>: {'params': {'p': None}, 'prior': <bayesian.spn.algorithms.Posteriors.PriorDirichlet object at 0x000000250E7FAB70>}}), (<Type.COUNT: (6, <MetaType.DISCRETE: 3>)>, OrderedDict([(<class 'bayesian.spn.structure.leaves.parametric.Parametric.Geometric'>, {'params': {'p': 0.5}, 'prior': <bayesian.spn.algorithms.Posteriors.PriorBeta object at 0x000000250EF28908>}), (<class 'bayesian.spn.structure.leaves.parametric.Parametric.Poisson'>, {'params': {'mean': 2}, 'prior': <bayesian.spn.algorithms.Posteriors.PriorGamma object at 0x000000250F2E57F0>})]))])\n",
      "gamma fit params (87.14093462580814, 0, 0.0803193073177095)\n",
      "{'params': {'mean': 0, 'stdev': 1}, 'prior': <bayesian.spn.algorithms.Posteriors.PriorNormalInverseGamma object at 0x000000250F87B748>}\n",
      "{'params': {'alpha': 87.14093462580814, 'beta': 1}, 'prior': <bayesian.spn.algorithms.Posteriors.PriorGamma object at 0x000000250F87B710>}\n",
      "{'params': {'l': 2}, 'prior': <bayesian.spn.algorithms.Posteriors.PriorGamma object at 0x000000250F87B668>}\n",
      "gamma fit params (9.49794438454372, 0, 0.02980241542636818)\n",
      "{'params': {'mean': 0, 'stdev': 1}, 'prior': <bayesian.spn.algorithms.Posteriors.PriorNormalInverseGamma object at 0x00000025146ED518>}\n",
      "{'params': {'alpha': 9.49794438454372, 'beta': 1}, 'prior': <bayesian.spn.algorithms.Posteriors.PriorGamma object at 0x00000025146EDF60>}\n",
      "{'params': {'l': 2}, 'prior': <bayesian.spn.algorithms.Posteriors.PriorGamma object at 0x00000025146EDA58>}\n",
      "{'params': {'mean': 0, 'stdev': 1}, 'prior': <bayesian.spn.algorithms.Posteriors.PriorNormalInverseGamma object at 0x000000251284CC50>}\n",
      "{'params': {'alpha': 1.1, 'beta': 1}, 'prior': <bayesian.spn.algorithms.Posteriors.PriorGamma object at 0x000000251284C470>}\n",
      "{'params': {'l': 2}, 'prior': <bayesian.spn.algorithms.Posteriors.PriorGamma object at 0x000000251284CF98>}\n",
      "gamma fit params (8.588895470629643, 0, 0.006217623866505307)\n",
      "{'params': {'mean': 0, 'stdev': 1}, 'prior': <bayesian.spn.algorithms.Posteriors.PriorNormalInverseGamma object at 0x000000251284C400>}\n",
      "{'params': {'alpha': 8.588895470629643, 'beta': 1}, 'prior': <bayesian.spn.algorithms.Posteriors.PriorGamma object at 0x000000251284C320>}\n",
      "{'params': {'l': 2}, 'prior': <bayesian.spn.algorithms.Posteriors.PriorGamma object at 0x000000251284C4A8>}\n",
      "gamma fit params (6.431057481552998, 0, 6.759500133273496)\n",
      "{'params': {'mean': 0, 'stdev': 1}, 'prior': <bayesian.spn.algorithms.Posteriors.PriorNormalInverseGamma object at 0x0000002510F9B5F8>}\n",
      "{'params': {'alpha': 6.431057481552998, 'beta': 1}, 'prior': <bayesian.spn.algorithms.Posteriors.PriorGamma object at 0x0000002510F9B940>}\n",
      "{'params': {'l': 2}, 'prior': <bayesian.spn.algorithms.Posteriors.PriorGamma object at 0x0000002510F9B0B8>}\n",
      "gamma fit params (20.50780398860901, 0, 8.122823379376023)\n",
      "{'params': {'mean': 0, 'stdev': 1}, 'prior': <bayesian.spn.algorithms.Posteriors.PriorNormalInverseGamma object at 0x000000251284CF28>}\n",
      "{'params': {'alpha': 20.50780398860901, 'beta': 1}, 'prior': <bayesian.spn.algorithms.Posteriors.PriorGamma object at 0x000000251284CA20>}\n",
      "{'params': {'l': 2}, 'prior': <bayesian.spn.algorithms.Posteriors.PriorGamma object at 0x00000025146EDE10>}\n",
      "gamma fit params (497.59322602510156, 0, 0.006367163735362328)\n",
      "{'params': {'mean': 0, 'stdev': 1}, 'prior': <bayesian.spn.algorithms.Posteriors.PriorNormalInverseGamma object at 0x0000002510F9B5C0>}\n",
      "{'params': {'alpha': 497.59322602510156, 'beta': 1}, 'prior': <bayesian.spn.algorithms.Posteriors.PriorGamma object at 0x0000002510F9B198>}\n",
      "{'params': {'l': 2}, 'prior': <bayesian.spn.algorithms.Posteriors.PriorGamma object at 0x000000250F7B8748>}\n",
      "gamma fit params (24.380126058847523, 0, 0.02038754332636757)\n",
      "{'params': {'mean': 0, 'stdev': 1}, 'prior': <bayesian.spn.algorithms.Posteriors.PriorNormalInverseGamma object at 0x000000250F7B8E80>}\n",
      "{'params': {'alpha': 24.380126058847523, 'beta': 1}, 'prior': <bayesian.spn.algorithms.Posteriors.PriorGamma object at 0x000000250F7B8BA8>}\n",
      "{'params': {'l': 2}, 'prior': <bayesian.spn.algorithms.Posteriors.PriorGamma object at 0x000000250F7B8780>}\n",
      "gamma fit params (199.04998874188254, 0, 0.04833268208539121)\n",
      "{'params': {'mean': 0, 'stdev': 1}, 'prior': <bayesian.spn.algorithms.Posteriors.PriorNormalInverseGamma object at 0x000000250F7B8908>}\n",
      "{'params': {'alpha': 199.04998874188254, 'beta': 1}, 'prior': <bayesian.spn.algorithms.Posteriors.PriorGamma object at 0x000000250F7B8320>}\n",
      "{'params': {'l': 2}, 'prior': <bayesian.spn.algorithms.Posteriors.PriorGamma object at 0x000000250F7B8978>}\n",
      "\n",
      "\n",
      "\n",
      "\n",
      "CATEGORICAL\n",
      "\n",
      "\n",
      "\n",
      "\n",
      "1 [0. 0. 0. 0. 0. 0. 0.]\n",
      "{'params': {'p': array([0.00585322, 0.0283656 , 0.42053129, 0.44574516, 0.08374606,\n",
      "       0.01530842, 0.00045025])}, 'prior': <bayesian.spn.algorithms.Posteriors.PriorDirichlet object at 0x000000250F7B8A58>}\n",
      "{'params': {'p': 0.5}, 'prior': <bayesian.spn.algorithms.Posteriors.PriorBeta object at 0x000000250F7B8128>}\n",
      "{'params': {'mean': 2}, 'prior': <bayesian.spn.algorithms.Posteriors.PriorGamma object at 0x0000002512C68240>}\n",
      "gamma fit params (59.216345594122124, 0, 0.11373646650669383)\n",
      "{'params': {'mean': 0, 'stdev': 1}, 'prior': <bayesian.spn.algorithms.Posteriors.PriorNormalInverseGamma object at 0x0000002512C684A8>}\n",
      "{'params': {'alpha': 59.216345594122124, 'beta': 1}, 'prior': <bayesian.spn.algorithms.Posteriors.PriorGamma object at 0x0000002512C68860>}\n",
      "{'params': {'l': 2}, 'prior': <bayesian.spn.algorithms.Posteriors.PriorGamma object at 0x0000002512C68358>}\n",
      "gamma fit params (8.225815019050623, 0, 0.03333915098439663)\n",
      "{'params': {'mean': 0, 'stdev': 1}, 'prior': <bayesian.spn.algorithms.Posteriors.PriorNormalInverseGamma object at 0x0000002512C68048>}\n",
      "{'params': {'alpha': 8.225815019050623, 'beta': 1}, 'prior': <bayesian.spn.algorithms.Posteriors.PriorGamma object at 0x0000002512C680B8>}\n",
      "{'params': {'l': 2}, 'prior': <bayesian.spn.algorithms.Posteriors.PriorGamma object at 0x0000002512C68780>}\n",
      "{'params': {'mean': 0, 'stdev': 1}, 'prior': <bayesian.spn.algorithms.Posteriors.PriorNormalInverseGamma object at 0x0000002512C68908>}\n",
      "{'params': {'alpha': 1.1, 'beta': 1}, 'prior': <bayesian.spn.algorithms.Posteriors.PriorGamma object at 0x0000002512C684E0>}\n",
      "{'params': {'l': 2}, 'prior': <bayesian.spn.algorithms.Posteriors.PriorGamma object at 0x000000250F5E7CF8>}\n",
      "gamma fit params (1.9967129409128155, 0, 1.6334840807176167)\n",
      "{'params': {'mean': 0, 'stdev': 1}, 'prior': <bayesian.spn.algorithms.Posteriors.PriorNormalInverseGamma object at 0x000000250F5E7D30>}\n"
     ]
    },
    {
     "name": "stdout",
     "output_type": "stream",
     "text": [
      "{'params': {'alpha': 1.9967129409128155, 'beta': 1}, 'prior': <bayesian.spn.algorithms.Posteriors.PriorGamma object at 0x000000250F5E7128>}\n",
      "{'params': {'l': 2}, 'prior': <bayesian.spn.algorithms.Posteriors.PriorGamma object at 0x000000250F5E7438>}\n",
      "gamma fit params (10.443556298462036, 0, 0.003776674490135308)\n",
      "{'params': {'mean': 0, 'stdev': 1}, 'prior': <bayesian.spn.algorithms.Posteriors.PriorNormalInverseGamma object at 0x000000250F5E77F0>}\n",
      "{'params': {'alpha': 10.443556298462036, 'beta': 1}, 'prior': <bayesian.spn.algorithms.Posteriors.PriorGamma object at 0x000000250F5E7400>}\n",
      "{'params': {'l': 2}, 'prior': <bayesian.spn.algorithms.Posteriors.PriorGamma object at 0x00000025146B5860>}\n",
      "gamma fit params (4.007340933194108, 0, 7.1208967527828975)\n",
      "{'params': {'mean': 0, 'stdev': 1}, 'prior': <bayesian.spn.algorithms.Posteriors.PriorNormalInverseGamma object at 0x000000250F61B940>}\n",
      "{'params': {'alpha': 4.007340933194108, 'beta': 1}, 'prior': <bayesian.spn.algorithms.Posteriors.PriorGamma object at 0x000000250F61B4A8>}\n",
      "{'params': {'l': 2}, 'prior': <bayesian.spn.algorithms.Posteriors.PriorGamma object at 0x000000250F61B400>}\n",
      "gamma fit params (11.886592613687425, 0, 9.670318993782514)\n",
      "{'params': {'mean': 0, 'stdev': 1}, 'prior': <bayesian.spn.algorithms.Posteriors.PriorNormalInverseGamma object at 0x0000002512677D30>}\n",
      "{'params': {'alpha': 11.886592613687425, 'beta': 1}, 'prior': <bayesian.spn.algorithms.Posteriors.PriorGamma object at 0x0000002512677438>}\n",
      "{'params': {'l': 2}, 'prior': <bayesian.spn.algorithms.Posteriors.PriorGamma object at 0x0000002512677908>}\n",
      "gamma fit params (384172.28626737, 0, 2.5818867070653947e-06)\n",
      "{'params': {'mean': 0, 'stdev': 1}, 'prior': <bayesian.spn.algorithms.Posteriors.PriorNormalInverseGamma object at 0x0000002512677160>}\n",
      "{'params': {'alpha': 384172.28626737, 'beta': 1}, 'prior': <bayesian.spn.algorithms.Posteriors.PriorGamma object at 0x00000025126774A8>}\n",
      "{'params': {'l': 2}, 'prior': <bayesian.spn.algorithms.Posteriors.PriorGamma object at 0x0000002512677550>}\n",
      "gamma fit params (429.0300002815264, 0, 0.007470030971863983)\n",
      "{'params': {'mean': 0, 'stdev': 1}, 'prior': <bayesian.spn.algorithms.Posteriors.PriorNormalInverseGamma object at 0x0000002512677A58>}\n",
      "{'params': {'alpha': 429.0300002815264, 'beta': 1}, 'prior': <bayesian.spn.algorithms.Posteriors.PriorGamma object at 0x0000002512677390>}\n",
      "{'params': {'l': 2}, 'prior': <bayesian.spn.algorithms.Posteriors.PriorGamma object at 0x00000025126775C0>}\n",
      "gamma fit params (17.2093475458756, 0, 0.0281166965253597)\n",
      "{'params': {'mean': 0, 'stdev': 1}, 'prior': <bayesian.spn.algorithms.Posteriors.PriorNormalInverseGamma object at 0x0000002512677748>}\n",
      "{'params': {'alpha': 17.2093475458756, 'beta': 1}, 'prior': <bayesian.spn.algorithms.Posteriors.PriorGamma object at 0x0000002512677AC8>}\n",
      "{'params': {'l': 2}, 'prior': <bayesian.spn.algorithms.Posteriors.PriorGamma object at 0x0000002512677E10>}\n",
      "gamma fit params (108.97526392727517, 0, 0.10328665446060357)\n",
      "{'params': {'mean': 0, 'stdev': 1}, 'prior': <bayesian.spn.algorithms.Posteriors.PriorNormalInverseGamma object at 0x0000002512677780>}\n",
      "{'params': {'alpha': 108.97526392727517, 'beta': 1}, 'prior': <bayesian.spn.algorithms.Posteriors.PriorGamma object at 0x0000002512677358>}\n",
      "{'params': {'l': 2}, 'prior': <bayesian.spn.algorithms.Posteriors.PriorGamma object at 0x0000002512677F28>}\n",
      "\n",
      "\n",
      "\n",
      "\n",
      "CATEGORICAL\n",
      "\n",
      "\n",
      "\n",
      "\n",
      "1 [0. 0. 0. 0. 0. 0. 0.]\n",
      "{'params': {'p': array([0.00261487, 0.03735525, 0.19536795, 0.4512514 , 0.25924542,\n",
      "       0.0526709 , 0.00149421])}, 'prior': <bayesian.spn.algorithms.Posteriors.PriorDirichlet object at 0x0000002510FC7470>}\n",
      "{'params': {'p': 0.5}, 'prior': <bayesian.spn.algorithms.Posteriors.PriorBeta object at 0x0000002510FC7C88>}\n",
      "{'params': {'mean': 2}, 'prior': <bayesian.spn.algorithms.Posteriors.PriorGamma object at 0x0000002510FC7EF0>}\n",
      "gamma fit params (3.59204081519062, 0, 1.8695560811637932)\n",
      "{'params': {'mean': 0, 'stdev': 1}, 'prior': <bayesian.spn.algorithms.Posteriors.PriorNormalInverseGamma object at 0x0000002510FC7F98>}\n",
      "{'params': {'alpha': 3.59204081519062, 'beta': 1}, 'prior': <bayesian.spn.algorithms.Posteriors.PriorGamma object at 0x0000002510FC7828>}\n",
      "{'params': {'l': 2}, 'prior': <bayesian.spn.algorithms.Posteriors.PriorGamma object at 0x0000002510FC7E80>}\n",
      "gamma fit params (1008822.7156947986, 0, 9.863912884694178e-07)\n",
      "{'params': {'mean': 0, 'stdev': 1}, 'prior': <bayesian.spn.algorithms.Posteriors.PriorNormalInverseGamma object at 0x0000002510FC7BE0>}\n",
      "{'params': {'alpha': 1008822.7156947986, 'beta': 1}, 'prior': <bayesian.spn.algorithms.Posteriors.PriorGamma object at 0x0000002510FC70F0>}\n",
      "{'params': {'l': 2}, 'prior': <bayesian.spn.algorithms.Posteriors.PriorGamma object at 0x0000002510FC7C18>}\n",
      "gamma fit params (21.604215503096295, 0, 0.6418413992376768)\n",
      "{'params': {'mean': 0, 'stdev': 1}, 'prior': <bayesian.spn.algorithms.Posteriors.PriorNormalInverseGamma object at 0x0000002510FC7668>}\n",
      "{'params': {'alpha': 21.604215503096295, 'beta': 1}, 'prior': <bayesian.spn.algorithms.Posteriors.PriorGamma object at 0x0000002510FC7320>}\n",
      "{'params': {'l': 2}, 'prior': <bayesian.spn.algorithms.Posteriors.PriorGamma object at 0x0000002510FC71D0>}\n",
      "gamma fit params (318802.73721029423, 0, 3.1311722529742686e-06)\n",
      "{'params': {'mean': 0, 'stdev': 1}, 'prior': <bayesian.spn.algorithms.Posteriors.PriorNormalInverseGamma object at 0x0000002510FC70B8>}\n",
      "{'params': {'alpha': 318802.73721029423, 'beta': 1}, 'prior': <bayesian.spn.algorithms.Posteriors.PriorGamma object at 0x0000002510FC7048>}\n",
      "{'params': {'l': 2}, 'prior': <bayesian.spn.algorithms.Posteriors.PriorGamma object at 0x0000002510FC74A8>}\n",
      "True True True\n",
      "True True True\n",
      "(0.45345038791343406*((TypeMixtureUnconstrained(REAL, 0.3333333333333333*(Gaussian(V0|mean=0;stdev=1)) + 0.3333333333333333*(Gamma(V0|alpha=87.14093462580814;beta=1)) + 0.3333333333333333*(Exponential(V0|l=2))) * TypeMixtureUnconstrained(REAL, 0.3333333333333333*(Gaussian(V1|mean=0;stdev=1)) + 0.3333333333333333*(Gamma(V1|alpha=9.49794438454372;beta=1)) + 0.3333333333333333*(Exponential(V1|l=2))) * TypeMixtureUnconstrained(REAL, 0.3333333333333333*(Gaussian(V2|mean=0;stdev=1)) + 0.3333333333333333*(Gamma(V2|alpha=1.1;beta=1)) + 0.3333333333333333*(Exponential(V2|l=2))) * (0.5177847816298965*((TypeMixtureUnconstrained(REAL, 0.3333333333333333*(Gaussian(V3|mean=0;stdev=1)) + 0.3333333333333333*(Gamma(V3|alpha=3.59204081519062;beta=1)) + 0.3333333333333333*(Exponential(V3|l=2))) * TypeMixtureUnconstrained(REAL, 0.3333333333333333*(Gaussian(V7|mean=0;stdev=1)) + 0.3333333333333333*(Gamma(V7|alpha=1008822.7156947986;beta=1)) + 0.3333333333333333*(Exponential(V7|l=2))))) + 0.48221521837010356*((TypeMixtureUnconstrained(REAL, 0.3333333333333333*(Gaussian(V3|mean=0;stdev=1)) + 0.3333333333333333*(Gamma(V3|alpha=21.604215503096295;beta=1)) + 0.3333333333333333*(Exponential(V3|l=2))) * TypeMixtureUnconstrained(REAL, 0.3333333333333333*(Gaussian(V7|mean=0;stdev=1)) + 0.3333333333333333*(Gamma(V7|alpha=318802.73721029423;beta=1)) + 0.3333333333333333*(Exponential(V7|l=2)))))) * TypeMixtureUnconstrained(REAL, 0.3333333333333333*(Gaussian(V4|mean=0;stdev=1)) + 0.3333333333333333*(Gamma(V4|alpha=8.588895470629643;beta=1)) + 0.3333333333333333*(Exponential(V4|l=2))) * TypeMixtureUnconstrained(REAL, 0.3333333333333333*(Gaussian(V5|mean=0;stdev=1)) + 0.3333333333333333*(Gamma(V5|alpha=6.431057481552998;beta=1)) + 0.3333333333333333*(Exponential(V5|l=2))) * TypeMixtureUnconstrained(REAL, 0.3333333333333333*(Gaussian(V6|mean=0;stdev=1)) + 0.3333333333333333*(Gamma(V6|alpha=20.50780398860901;beta=1)) + 0.3333333333333333*(Exponential(V6|l=2))) * TypeMixtureUnconstrained(REAL, 0.3333333333333333*(Gaussian(V8|mean=0;stdev=1)) + 0.3333333333333333*(Gamma(V8|alpha=497.59322602510156;beta=1)) + 0.3333333333333333*(Exponential(V8|l=2))) * TypeMixtureUnconstrained(REAL, 0.3333333333333333*(Gaussian(V9|mean=0;stdev=1)) + 0.3333333333333333*(Gamma(V9|alpha=24.380126058847523;beta=1)) + 0.3333333333333333*(Exponential(V9|l=2))) * TypeMixtureUnconstrained(REAL, 0.3333333333333333*(Gaussian(V10|mean=0;stdev=1)) + 0.3333333333333333*(Gamma(V10|alpha=199.04998874188254;beta=1)) + 0.3333333333333333*(Exponential(V10|l=2))) * TypeMixtureUnconstrained(DISCRETE, 0.3333333333333333*(Categorical(V11|p=[0.00585322 0.0283656  0.42053129 0.44574516 0.08374606 0.01530842\n",
      " 0.00045025])) + 0.3333333333333333*(Geometric(V11|p=0.5)) + 0.3333333333333333*(Poisson(V11|mean=2))))) + 0.5465496120865659*((TypeMixtureUnconstrained(REAL, 0.3333333333333333*(Gaussian(V0|mean=0;stdev=1)) + 0.3333333333333333*(Gamma(V0|alpha=59.216345594122124;beta=1)) + 0.3333333333333333*(Exponential(V0|l=2))) * TypeMixtureUnconstrained(REAL, 0.3333333333333333*(Gaussian(V1|mean=0;stdev=1)) + 0.3333333333333333*(Gamma(V1|alpha=8.225815019050623;beta=1)) + 0.3333333333333333*(Exponential(V1|l=2))) * TypeMixtureUnconstrained(REAL, 0.3333333333333333*(Gaussian(V2|mean=0;stdev=1)) + 0.3333333333333333*(Gamma(V2|alpha=1.1;beta=1)) + 0.3333333333333333*(Exponential(V2|l=2))) * TypeMixtureUnconstrained(REAL, 0.3333333333333333*(Gaussian(V3|mean=0;stdev=1)) + 0.3333333333333333*(Gamma(V3|alpha=1.9967129409128155;beta=1)) + 0.3333333333333333*(Exponential(V3|l=2))) * TypeMixtureUnconstrained(REAL, 0.3333333333333333*(Gaussian(V4|mean=0;stdev=1)) + 0.3333333333333333*(Gamma(V4|alpha=10.443556298462036;beta=1)) + 0.3333333333333333*(Exponential(V4|l=2))) * TypeMixtureUnconstrained(REAL, 0.3333333333333333*(Gaussian(V5|mean=0;stdev=1)) + 0.3333333333333333*(Gamma(V5|alpha=4.007340933194108;beta=1)) + 0.3333333333333333*(Exponential(V5|l=2))) * TypeMixtureUnconstrained(REAL, 0.3333333333333333*(Gaussian(V6|mean=0;stdev=1)) + 0.3333333333333333*(Gamma(V6|alpha=11.886592613687425;beta=1)) + 0.3333333333333333*(Exponential(V6|l=2))) * TypeMixtureUnconstrained(REAL, 0.3333333333333333*(Gaussian(V7|mean=0;stdev=1)) + 0.3333333333333333*(Gamma(V7|alpha=384172.28626737;beta=1)) + 0.3333333333333333*(Exponential(V7|l=2))) * TypeMixtureUnconstrained(REAL, 0.3333333333333333*(Gaussian(V8|mean=0;stdev=1)) + 0.3333333333333333*(Gamma(V8|alpha=429.0300002815264;beta=1)) + 0.3333333333333333*(Exponential(V8|l=2))) * TypeMixtureUnconstrained(REAL, 0.3333333333333333*(Gaussian(V9|mean=0;stdev=1)) + 0.3333333333333333*(Gamma(V9|alpha=17.2093475458756;beta=1)) + 0.3333333333333333*(Exponential(V9|l=2))) * TypeMixtureUnconstrained(REAL, 0.3333333333333333*(Gaussian(V10|mean=0;stdev=1)) + 0.3333333333333333*(Gamma(V10|alpha=108.97526392727517;beta=1)) + 0.3333333333333333*(Exponential(V10|l=2))) * TypeMixtureUnconstrained(DISCRETE, 0.3333333333333333*(Categorical(V11|p=[0.00261487 0.03735525 0.19536795 0.4512514  0.25924542 0.0526709\n"
     ]
    },
    {
     "name": "stdout",
     "output_type": "stream",
     "text": [
      " 0.00149421])) + 0.3333333333333333*(Geometric(V11|p=0.5)) + 0.3333333333333333*(Poisson(V11|mean=2))))))\n",
      "[0, 1, 2, 3, 4, 5, 6, 7, 8, 9, 10, 11]\n",
      "Done iteration 1/1 in 0.24897165965057866\n",
      "\n",
      "\n",
      "------------------\n",
      "Done in 0.26894672683806675\n",
      "Dumped id to ./exp/temp/data.mat\\20181019-013914\\global-W.pklz\n",
      "Dumped id to ./exp/temp/data.mat\\20181019-013914\\global-type-W.pklz\n",
      "seeeeeeeeeeeeeeeeeeeeeeeeeee\n",
      "./exp/temp/data.mat\\20181019-013914\n"
     ]
    }
   ],
   "source": [
    "weights = abda.main(seed=1337, dataset='bayesian/data/temp/data.mat', exp_id=None, args_output='./exp/temp/', args_miss=None, verbose=1,\n",
    "         args_col_split_threshold=0.8, args_min_inst_slice=500, args_leaf_type='pm',\n",
    "         args_type_param_map='spicky-prior-1', args_param_init='default', args_param_weight_init='uniform',\n",
    "         args_n_iters=1, args_burn_in=4000, args_w_unif_prior=100, args_save_samples=1,\n",
    "         args_ll_history=1, args_omega_prior='uniform', args_plot_iter=10, args_omega_unif_prior=10,\n",
    "         args_leaf_omega_unif_prior=0.1, args_cat_unif_prior=1)"
   ]
  },
  {
   "cell_type": "code",
   "execution_count": 19,
   "metadata": {},
   "outputs": [
    {
     "data": {
      "text/plain": [
       "{0: {<Type.REAL: (1, <MetaType.REAL: 1>)>: 0.0029031102398664257,\n",
       "  <Type.POSITIVE: (3, <MetaType.REAL: 1>)>: 0.9970968897601337},\n",
       " 1: {<Type.REAL: (1, <MetaType.REAL: 1>)>: 0.25956414639120895,\n",
       "  <Type.POSITIVE: (3, <MetaType.REAL: 1>)>: 0.740435853608791},\n",
       " 2: {<Type.REAL: (1, <MetaType.REAL: 1>)>: 0.18659193346501912,\n",
       "  <Type.POSITIVE: (3, <MetaType.REAL: 1>)>: 0.8134080665349811},\n",
       " 3: {<Type.REAL: (1, <MetaType.REAL: 1>)>: 0.21373986328127573,\n",
       "  <Type.POSITIVE: (3, <MetaType.REAL: 1>)>: 0.7862601367187244},\n",
       " 4: {<Type.REAL: (1, <MetaType.REAL: 1>)>: 0.19188235951493987,\n",
       "  <Type.POSITIVE: (3, <MetaType.REAL: 1>)>: 0.8081176404850602},\n",
       " 5: {<Type.REAL: (1, <MetaType.REAL: 1>)>: 0.0012366027546818928,\n",
       "  <Type.POSITIVE: (3, <MetaType.REAL: 1>)>: 0.9987633972453183},\n",
       " 6: {<Type.REAL: (1, <MetaType.REAL: 1>)>: 0.001235951670606022,\n",
       "  <Type.POSITIVE: (3, <MetaType.REAL: 1>)>: 0.9987640483293941},\n",
       " 7: {<Type.REAL: (1, <MetaType.REAL: 1>)>: 0.40433179047769985,\n",
       "  <Type.POSITIVE: (3, <MetaType.REAL: 1>)>: 0.5956682095223003},\n",
       " 8: {<Type.REAL: (1, <MetaType.REAL: 1>)>: 0.4246699945843727,\n",
       "  <Type.POSITIVE: (3, <MetaType.REAL: 1>)>: 0.5753300054156274},\n",
       " 9: {<Type.REAL: (1, <MetaType.REAL: 1>)>: 0.3164000385553364,\n",
       "  <Type.POSITIVE: (3, <MetaType.REAL: 1>)>: 0.6835999614446636},\n",
       " 10: {<Type.REAL: (1, <MetaType.REAL: 1>)>: 0.0010399903370631929,\n",
       "  <Type.POSITIVE: (3, <MetaType.REAL: 1>)>: 0.9989600096629369},\n",
       " 11: {<Type.CATEGORICAL: (4, <MetaType.DISCRETE: 3>)>: 0.46399154148935795,\n",
       "  <Type.COUNT: (6, <MetaType.DISCRETE: 3>)>: 0.5360084585106419}}"
      ]
     },
     "execution_count": 19,
     "metadata": {},
     "output_type": "execute_result"
    }
   ],
   "source": [
    "weights"
   ]
  },
  {
   "cell_type": "code",
   "execution_count": null,
   "metadata": {
    "collapsed": true
   },
   "outputs": [],
   "source": []
  }
 ],
 "metadata": {
  "kernelspec": {
   "display_name": "Python 3",
   "language": "python",
   "name": "python3"
  },
  "language_info": {
   "codemirror_mode": {
    "name": "ipython",
    "version": 3
   },
   "file_extension": ".py",
   "mimetype": "text/x-python",
   "name": "python",
   "nbconvert_exporter": "python",
   "pygments_lexer": "ipython3",
   "version": "3.6.3"
  }
 },
 "nbformat": 4,
 "nbformat_minor": 2
}
